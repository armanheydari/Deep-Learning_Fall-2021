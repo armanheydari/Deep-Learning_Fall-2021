{
  "nbformat": 4,
  "nbformat_minor": 0,
  "metadata": {
    "colab": {
      "name": "DL_HW12.ipynb",
      "provenance": [],
      "collapsed_sections": [
        "PasjZ7eSia2e"
      ]
    },
    "kernelspec": {
      "name": "python3",
      "display_name": "Python 3"
    },
    "language_info": {
      "name": "python"
    },
    "accelerator": "GPU"
  },
  "cells": [
    {
      "cell_type": "markdown",
      "source": [
        "#Question 1"
      ],
      "metadata": {
        "id": "PasjZ7eSia2e"
      }
    },
    {
      "cell_type": "markdown",
      "source": [
        "first of all, we install the yfinance library and import some libraries."
      ],
      "metadata": {
        "id": "jsFkj_yB0p4L"
      }
    },
    {
      "cell_type": "code",
      "source": [
        "!pip install yfinance -q"
      ],
      "metadata": {
        "id": "0o1XMJuSO0Wh",
        "colab": {
          "base_uri": "https://localhost:8080/"
        },
        "outputId": "c704ee02-9e6a-451a-a7d0-9c24a952242a"
      },
      "execution_count": 1,
      "outputs": [
        {
          "output_type": "stream",
          "name": "stdout",
          "text": [
            "\u001b[K     |████████████████████████████████| 6.4 MB 17.4 MB/s \n",
            "\u001b[?25h"
          ]
        }
      ]
    },
    {
      "cell_type": "code",
      "execution_count": 2,
      "metadata": {
        "id": "8U0QlFo5Elzr"
      },
      "outputs": [],
      "source": [
        "import yfinance as yf\n",
        "import numpy as np\n",
        "import tensorflow as tf\n",
        "from sklearn.preprocessing import MinMaxScaler\n",
        "from matplotlib import pyplot as plt"
      ]
    },
    {
      "cell_type": "markdown",
      "source": [
        "now we download the train and test dataset just like the given link."
      ],
      "metadata": {
        "id": "c2Gj9QUE004l"
      }
    },
    {
      "cell_type": "code",
      "source": [
        "train_data = yf.download(\"BTC-USD\", start=\"2014-01-01\", end=\"2021-09-01\")\n",
        "test_data = yf.download(\"BTC-USD\", start=\"2021-09-02\", end=\"2021-12-25\")\n",
        "train_data.head(10)"
      ],
      "metadata": {
        "colab": {
          "base_uri": "https://localhost:8080/",
          "height": 429
        },
        "id": "SN1iCAvBmw3Q",
        "outputId": "147a82fc-98f7-4de6-ac9e-4c8d18238cb2"
      },
      "execution_count": 45,
      "outputs": [
        {
          "output_type": "stream",
          "name": "stdout",
          "text": [
            "[*********************100%***********************]  1 of 1 completed\n",
            "[*********************100%***********************]  1 of 1 completed\n"
          ]
        },
        {
          "output_type": "execute_result",
          "data": {
            "text/html": [
              "\n",
              "  <div id=\"df-135cd96f-07fd-42a6-a807-3b0388416baa\">\n",
              "    <div class=\"colab-df-container\">\n",
              "      <div>\n",
              "<style scoped>\n",
              "    .dataframe tbody tr th:only-of-type {\n",
              "        vertical-align: middle;\n",
              "    }\n",
              "\n",
              "    .dataframe tbody tr th {\n",
              "        vertical-align: top;\n",
              "    }\n",
              "\n",
              "    .dataframe thead th {\n",
              "        text-align: right;\n",
              "    }\n",
              "</style>\n",
              "<table border=\"1\" class=\"dataframe\">\n",
              "  <thead>\n",
              "    <tr style=\"text-align: right;\">\n",
              "      <th></th>\n",
              "      <th>Open</th>\n",
              "      <th>High</th>\n",
              "      <th>Low</th>\n",
              "      <th>Close</th>\n",
              "      <th>Adj Close</th>\n",
              "      <th>Volume</th>\n",
              "    </tr>\n",
              "    <tr>\n",
              "      <th>Date</th>\n",
              "      <th></th>\n",
              "      <th></th>\n",
              "      <th></th>\n",
              "      <th></th>\n",
              "      <th></th>\n",
              "      <th></th>\n",
              "    </tr>\n",
              "  </thead>\n",
              "  <tbody>\n",
              "    <tr>\n",
              "      <th>2014-09-17</th>\n",
              "      <td>465.864014</td>\n",
              "      <td>468.174011</td>\n",
              "      <td>452.421997</td>\n",
              "      <td>457.334015</td>\n",
              "      <td>457.334015</td>\n",
              "      <td>21056800</td>\n",
              "    </tr>\n",
              "    <tr>\n",
              "      <th>2014-09-18</th>\n",
              "      <td>456.859985</td>\n",
              "      <td>456.859985</td>\n",
              "      <td>413.104004</td>\n",
              "      <td>424.440002</td>\n",
              "      <td>424.440002</td>\n",
              "      <td>34483200</td>\n",
              "    </tr>\n",
              "    <tr>\n",
              "      <th>2014-09-19</th>\n",
              "      <td>424.102997</td>\n",
              "      <td>427.834991</td>\n",
              "      <td>384.532013</td>\n",
              "      <td>394.795990</td>\n",
              "      <td>394.795990</td>\n",
              "      <td>37919700</td>\n",
              "    </tr>\n",
              "    <tr>\n",
              "      <th>2014-09-20</th>\n",
              "      <td>394.673004</td>\n",
              "      <td>423.295990</td>\n",
              "      <td>389.882996</td>\n",
              "      <td>408.903992</td>\n",
              "      <td>408.903992</td>\n",
              "      <td>36863600</td>\n",
              "    </tr>\n",
              "    <tr>\n",
              "      <th>2014-09-21</th>\n",
              "      <td>408.084991</td>\n",
              "      <td>412.425995</td>\n",
              "      <td>393.181000</td>\n",
              "      <td>398.821014</td>\n",
              "      <td>398.821014</td>\n",
              "      <td>26580100</td>\n",
              "    </tr>\n",
              "    <tr>\n",
              "      <th>2014-09-22</th>\n",
              "      <td>399.100006</td>\n",
              "      <td>406.915985</td>\n",
              "      <td>397.130005</td>\n",
              "      <td>402.152008</td>\n",
              "      <td>402.152008</td>\n",
              "      <td>24127600</td>\n",
              "    </tr>\n",
              "    <tr>\n",
              "      <th>2014-09-23</th>\n",
              "      <td>402.092010</td>\n",
              "      <td>441.557007</td>\n",
              "      <td>396.196991</td>\n",
              "      <td>435.790985</td>\n",
              "      <td>435.790985</td>\n",
              "      <td>45099500</td>\n",
              "    </tr>\n",
              "    <tr>\n",
              "      <th>2014-09-24</th>\n",
              "      <td>435.751007</td>\n",
              "      <td>436.112000</td>\n",
              "      <td>421.131989</td>\n",
              "      <td>423.204987</td>\n",
              "      <td>423.204987</td>\n",
              "      <td>30627700</td>\n",
              "    </tr>\n",
              "    <tr>\n",
              "      <th>2014-09-25</th>\n",
              "      <td>423.156006</td>\n",
              "      <td>423.519989</td>\n",
              "      <td>409.467987</td>\n",
              "      <td>411.574005</td>\n",
              "      <td>411.574005</td>\n",
              "      <td>26814400</td>\n",
              "    </tr>\n",
              "    <tr>\n",
              "      <th>2014-09-26</th>\n",
              "      <td>411.428986</td>\n",
              "      <td>414.937988</td>\n",
              "      <td>400.009003</td>\n",
              "      <td>404.424988</td>\n",
              "      <td>404.424988</td>\n",
              "      <td>21460800</td>\n",
              "    </tr>\n",
              "  </tbody>\n",
              "</table>\n",
              "</div>\n",
              "      <button class=\"colab-df-convert\" onclick=\"convertToInteractive('df-135cd96f-07fd-42a6-a807-3b0388416baa')\"\n",
              "              title=\"Convert this dataframe to an interactive table.\"\n",
              "              style=\"display:none;\">\n",
              "        \n",
              "  <svg xmlns=\"http://www.w3.org/2000/svg\" height=\"24px\"viewBox=\"0 0 24 24\"\n",
              "       width=\"24px\">\n",
              "    <path d=\"M0 0h24v24H0V0z\" fill=\"none\"/>\n",
              "    <path d=\"M18.56 5.44l.94 2.06.94-2.06 2.06-.94-2.06-.94-.94-2.06-.94 2.06-2.06.94zm-11 1L8.5 8.5l.94-2.06 2.06-.94-2.06-.94L8.5 2.5l-.94 2.06-2.06.94zm10 10l.94 2.06.94-2.06 2.06-.94-2.06-.94-.94-2.06-.94 2.06-2.06.94z\"/><path d=\"M17.41 7.96l-1.37-1.37c-.4-.4-.92-.59-1.43-.59-.52 0-1.04.2-1.43.59L10.3 9.45l-7.72 7.72c-.78.78-.78 2.05 0 2.83L4 21.41c.39.39.9.59 1.41.59.51 0 1.02-.2 1.41-.59l7.78-7.78 2.81-2.81c.8-.78.8-2.07 0-2.86zM5.41 20L4 18.59l7.72-7.72 1.47 1.35L5.41 20z\"/>\n",
              "  </svg>\n",
              "      </button>\n",
              "      \n",
              "  <style>\n",
              "    .colab-df-container {\n",
              "      display:flex;\n",
              "      flex-wrap:wrap;\n",
              "      gap: 12px;\n",
              "    }\n",
              "\n",
              "    .colab-df-convert {\n",
              "      background-color: #E8F0FE;\n",
              "      border: none;\n",
              "      border-radius: 50%;\n",
              "      cursor: pointer;\n",
              "      display: none;\n",
              "      fill: #1967D2;\n",
              "      height: 32px;\n",
              "      padding: 0 0 0 0;\n",
              "      width: 32px;\n",
              "    }\n",
              "\n",
              "    .colab-df-convert:hover {\n",
              "      background-color: #E2EBFA;\n",
              "      box-shadow: 0px 1px 2px rgba(60, 64, 67, 0.3), 0px 1px 3px 1px rgba(60, 64, 67, 0.15);\n",
              "      fill: #174EA6;\n",
              "    }\n",
              "\n",
              "    [theme=dark] .colab-df-convert {\n",
              "      background-color: #3B4455;\n",
              "      fill: #D2E3FC;\n",
              "    }\n",
              "\n",
              "    [theme=dark] .colab-df-convert:hover {\n",
              "      background-color: #434B5C;\n",
              "      box-shadow: 0px 1px 3px 1px rgba(0, 0, 0, 0.15);\n",
              "      filter: drop-shadow(0px 1px 2px rgba(0, 0, 0, 0.3));\n",
              "      fill: #FFFFFF;\n",
              "    }\n",
              "  </style>\n",
              "\n",
              "      <script>\n",
              "        const buttonEl =\n",
              "          document.querySelector('#df-135cd96f-07fd-42a6-a807-3b0388416baa button.colab-df-convert');\n",
              "        buttonEl.style.display =\n",
              "          google.colab.kernel.accessAllowed ? 'block' : 'none';\n",
              "\n",
              "        async function convertToInteractive(key) {\n",
              "          const element = document.querySelector('#df-135cd96f-07fd-42a6-a807-3b0388416baa');\n",
              "          const dataTable =\n",
              "            await google.colab.kernel.invokeFunction('convertToInteractive',\n",
              "                                                     [key], {});\n",
              "          if (!dataTable) return;\n",
              "\n",
              "          const docLinkHtml = 'Like what you see? Visit the ' +\n",
              "            '<a target=\"_blank\" href=https://colab.research.google.com/notebooks/data_table.ipynb>data table notebook</a>'\n",
              "            + ' to learn more about interactive tables.';\n",
              "          element.innerHTML = '';\n",
              "          dataTable['output_type'] = 'display_data';\n",
              "          await google.colab.output.renderOutput(dataTable, element);\n",
              "          const docLink = document.createElement('div');\n",
              "          docLink.innerHTML = docLinkHtml;\n",
              "          element.appendChild(docLink);\n",
              "        }\n",
              "      </script>\n",
              "    </div>\n",
              "  </div>\n",
              "  "
            ],
            "text/plain": [
              "                  Open        High  ...   Adj Close    Volume\n",
              "Date                                ...                      \n",
              "2014-09-17  465.864014  468.174011  ...  457.334015  21056800\n",
              "2014-09-18  456.859985  456.859985  ...  424.440002  34483200\n",
              "2014-09-19  424.102997  427.834991  ...  394.795990  37919700\n",
              "2014-09-20  394.673004  423.295990  ...  408.903992  36863600\n",
              "2014-09-21  408.084991  412.425995  ...  398.821014  26580100\n",
              "2014-09-22  399.100006  406.915985  ...  402.152008  24127600\n",
              "2014-09-23  402.092010  441.557007  ...  435.790985  45099500\n",
              "2014-09-24  435.751007  436.112000  ...  423.204987  30627700\n",
              "2014-09-25  423.156006  423.519989  ...  411.574005  26814400\n",
              "2014-09-26  411.428986  414.937988  ...  404.424988  21460800\n",
              "\n",
              "[10 rows x 6 columns]"
            ]
          },
          "metadata": {},
          "execution_count": 45
        }
      ]
    },
    {
      "cell_type": "markdown",
      "source": [
        "here you can visualize both sets."
      ],
      "metadata": {
        "id": "gfBlxdaO1BVd"
      }
    },
    {
      "cell_type": "code",
      "source": [
        "plt.figure(figsize=(20,5))\n",
        "train_data.Close.plot()\n",
        "test_data.Close.plot()\n",
        "plt.ylabel('Price')\n",
        "plt.legend ([\"Train\", \"Test\"])\n",
        "plt.show()"
      ],
      "metadata": {
        "colab": {
          "base_uri": "https://localhost:8080/",
          "height": 334
        },
        "id": "MEVjYoBLvxc-",
        "outputId": "d876686d-214d-4efa-8e42-20ed26863630"
      },
      "execution_count": 4,
      "outputs": [
        {
          "output_type": "display_data",
          "data": {
            "image/png": "[encoded data removed]",
            "text/plain": [
              "<Figure size 1440x360 with 1 Axes>"
            ]
          },
          "metadata": {
            "needs_background": "light"
          }
        }
      ]
    },
    {
      "cell_type": "markdown",
      "source": [
        "then we have to convert these dataframes to numpy array so we can work with them easily. here we only want to use the column \"Close\" for train and test.\n",
        "\n",
        "you can see the shapes after this conversion."
      ],
      "metadata": {
        "id": "pCLAYZF-1KXw"
      }
    },
    {
      "cell_type": "code",
      "source": [
        "train_set = train_data.Close.values.reshape(-1, 1)\n",
        "test_set = test_data.Close.values.reshape(-1, 1)\n",
        "\n",
        "print(\"train:\", train_set.shape, \"    test:\", test_set.shape)"
      ],
      "metadata": {
        "colab": {
          "base_uri": "https://localhost:8080/"
        },
        "id": "MJYVCaqcJXz4",
        "outputId": "cc05ff16-5e63-4f43-830f-d2557e5f07d3"
      },
      "execution_count": 46,
      "outputs": [
        {
          "output_type": "stream",
          "name": "stdout",
          "text": [
            "train: (2542, 1)     test: (115, 1)\n"
          ]
        }
      ]
    },
    {
      "cell_type": "markdown",
      "source": [
        "we need to normalize our data for better results. we do this here using MinMaxScaler method implemented in sklearn library. "
      ],
      "metadata": {
        "id": "33crFjdE2gJl"
      }
    },
    {
      "cell_type": "code",
      "source": [
        "scaler = MinMaxScaler()\n",
        "scaler.fit(train_set)\n",
        "\n",
        "train_normalized = scaler.fit_transform(train_set)\n",
        "test_normalized = scaler.fit_transform(test_set)\n",
        "\n",
        "np.min(train_normalized), np.max(train_normalized)"
      ],
      "metadata": {
        "colab": {
          "base_uri": "https://localhost:8080/"
        },
        "id": "DiNp60cZNDOM",
        "outputId": "9fc10bfd-c749-429e-cd51-acbca0d7db5d"
      },
      "execution_count": 47,
      "outputs": [
        {
          "output_type": "execute_result",
          "data": {
            "text/plain": [
              "(0.0, 1.0)"
            ]
          },
          "metadata": {},
          "execution_count": 47
        }
      ]
    },
    {
      "cell_type": "markdown",
      "source": [
        "some hyperparameters that given by the question."
      ],
      "metadata": {
        "id": "S9QGCAmW2ytn"
      }
    },
    {
      "cell_type": "code",
      "source": [
        "BATCH_SIZE = 32\n",
        "EPOCHS = 100\n",
        "OPTIMIZER = 'adam'\n",
        "LOSS = 'mean_squared_error'\n",
        "PAST_VALUES = 60"
      ],
      "metadata": {
        "id": "O2B4syqwYWUh"
      },
      "execution_count": 48,
      "outputs": []
    },
    {
      "cell_type": "markdown",
      "source": [
        "this is an important part of preprocessing. we choose the PAST_VALUES last items before each item for train, and the value of that item as its label. so the shapes changes as you see.\n",
        "\n",
        "we don't put label for the first PAST_VALUES items. because we don't have the 60 days before them and this cand disturb our model's learning."
      ],
      "metadata": {
        "id": "_sdgLs8H3aZW"
      }
    },
    {
      "cell_type": "code",
      "source": [
        "n_train = train_normalized.shape[0]\n",
        "x_train = np.zeros((n_train-PAST_VALUES, PAST_VALUES, 1))\n",
        "y_train = np.zeros((n_train-PAST_VALUES,))\n",
        "for i in range(PAST_VALUES, n_train):\n",
        "  temp = 0\n",
        "  for j in range(i-PAST_VALUES, i):\n",
        "    x_train[i-PAST_VALUES,temp,0] = train_normalized[j,0]\n",
        "    temp+=1\n",
        "  y_train[i-PAST_VALUES] = train_normalized[i,0]\n",
        "\n",
        "print(\"x_train:\", x_train.shape)\n",
        "print(\"y_train:\", y_train.shape)"
      ],
      "metadata": {
        "colab": {
          "base_uri": "https://localhost:8080/"
        },
        "id": "ddk9XBMVaYnu",
        "outputId": "db82f7f2-bb31-4627-a9bb-7af80659545a"
      },
      "execution_count": 49,
      "outputs": [
        {
          "output_type": "stream",
          "name": "stdout",
          "text": [
            "x_train: (2482, 60, 1)\n",
            "y_train: (2482,)\n"
          ]
        }
      ]
    },
    {
      "cell_type": "markdown",
      "source": [
        "and the same thing for test. we assume the last PAST_VALUE items of training_normalized before the test set."
      ],
      "metadata": {
        "id": "eblMq9ha77ui"
      }
    },
    {
      "cell_type": "code",
      "source": [
        "n_test = test_normalized.shape[0]\n",
        "test_normalized_temp = np.concatenate((train_normalized[n_train-PAST_VALUES:], test_normalized))\n",
        "x_test = np.zeros((n_test, PAST_VALUES, 1))\n",
        "y_test = np.zeros((n_test,))\n",
        "for i in range(n_test):\n",
        "  temp = 0\n",
        "  for j in range(i, i+PAST_VALUES):\n",
        "    x_test[i,temp,0] = test_normalized_temp[j,0]\n",
        "    temp+=1\n",
        "  y_test[i] = test_normalized_temp[i+PAST_VALUES,0]\n",
        "\n",
        "print(\"x_test:\", x_test.shape)\n",
        "print(\"y_test:\", y_test.shape)"
      ],
      "metadata": {
        "colab": {
          "base_uri": "https://localhost:8080/"
        },
        "id": "84IS7XaEfEpl",
        "outputId": "eb7f7545-c057-4ff9-bec0-cb06fbb07da8"
      },
      "execution_count": 50,
      "outputs": [
        {
          "output_type": "stream",
          "name": "stdout",
          "text": [
            "x_test: (115, 60, 1)\n",
            "y_test: (115,)\n"
          ]
        }
      ]
    },
    {
      "cell_type": "markdown",
      "source": [
        "now we can define the RNN model with LSTM layers like the question. then compile and fit it to train set."
      ],
      "metadata": {
        "id": "Uq8CRpCZ8BGA"
      }
    },
    {
      "cell_type": "code",
      "source": [
        "model = tf.keras.models.Sequential([\n",
        "                                    tf.keras.layers.Input((PAST_VALUES,1)),\n",
        "                                    tf.keras.layers.LSTM(units=50, return_sequences=True),\n",
        "                                    tf.keras.layers.Dropout(0.2),\n",
        "                                    tf.keras.layers.LSTM(units=50, return_sequences=True),\n",
        "                                    tf.keras.layers.Dropout(0.2),\n",
        "                                    tf.keras.layers.LSTM(units=50, return_sequences=True),\n",
        "                                    tf.keras.layers.Dropout(0.2),\n",
        "                                    tf.keras.layers.LSTM(units=50, return_sequences=False),\n",
        "                                    tf.keras.layers.Dense(units=1)\n",
        "])\n",
        "model.compile(OPTIMIZER, LOSS)\n",
        "model.summary()"
      ],
      "metadata": {
        "colab": {
          "base_uri": "https://localhost:8080/"
        },
        "id": "ZsdwYLcsm0lu",
        "outputId": "1f625c02-95f0-49e8-a219-a3c19039c6f8"
      },
      "execution_count": 14,
      "outputs": [
        {
          "output_type": "stream",
          "name": "stdout",
          "text": [
            "Model: \"sequential\"\n",
            "_________________________________________________________________\n",
            " Layer (type)                Output Shape              Param #   \n",
            "=================================================================\n",
            " lstm (LSTM)                 (None, 60, 50)            10400     \n",
            "                                                                 \n",
            " dropout (Dropout)           (None, 60, 50)            0         \n",
            "                                                                 \n",
            " lstm_1 (LSTM)               (None, 60, 50)            20200     \n",
            "                                                                 \n",
            " dropout_1 (Dropout)         (None, 60, 50)            0         \n",
            "                                                                 \n",
            " lstm_2 (LSTM)               (None, 60, 50)            20200     \n",
            "                                                                 \n",
            " dropout_2 (Dropout)         (None, 60, 50)            0         \n",
            "                                                                 \n",
            " lstm_3 (LSTM)               (None, 50)                20200     \n",
            "                                                                 \n",
            " dense (Dense)               (None, 1)                 51        \n",
            "                                                                 \n",
            "=================================================================\n",
            "Total params: 71,051\n",
            "Trainable params: 71,051\n",
            "Non-trainable params: 0\n",
            "_________________________________________________________________\n"
          ]
        }
      ]
    },
    {
      "cell_type": "markdown",
      "source": [
        "accuracy is not a good metric here so we don't visualize it. because the model surely cannot predict the exact value of price and accuracy just shows the percentage of exact predicts. \n",
        "\n",
        "the mean square loss could be a good metric to estimate how good the model is. because you can see it decreases at each epoch and at the end of training it is near e-04, so the model works well enough."
      ],
      "metadata": {
        "id": "HmUGks-q8UZx"
      }
    },
    {
      "cell_type": "code",
      "source": [
        "model.fit(x_train, y_train, BATCH_SIZE, EPOCHS)"
      ],
      "metadata": {
        "colab": {
          "base_uri": "https://localhost:8080/"
        },
        "id": "lJlPnuOpZ5Ol",
        "outputId": "e2f66027-ee2a-4f4d-89b4-d7593ee265f8"
      },
      "execution_count": 15,
      "outputs": [
        {
          "output_type": "stream",
          "name": "stdout",
          "text": [
            "Epoch 1/100\n",
            "78/78 [==============================] - 15s 62ms/step - loss: 0.0056\n",
            "Epoch 2/100\n",
            "78/78 [==============================] - 5s 62ms/step - loss: 0.0016\n",
            "Epoch 3/100\n",
            "78/78 [==============================] - 5s 64ms/step - loss: 0.0015\n",
            "Epoch 4/100\n",
            "78/78 [==============================] - 5s 64ms/step - loss: 0.0012\n",
            "Epoch 5/100\n",
            "78/78 [==============================] - 5s 62ms/step - loss: 0.0012\n",
            "Epoch 6/100\n",
            "78/78 [==============================] - 5s 62ms/step - loss: 0.0011\n",
            "Epoch 7/100\n",
            "78/78 [==============================] - 5s 62ms/step - loss: 0.0015\n",
            "Epoch 8/100\n",
            "78/78 [==============================] - 5s 61ms/step - loss: 9.7709e-04\n",
            "Epoch 9/100\n",
            "78/78 [==============================] - 5s 61ms/step - loss: 9.0865e-04\n",
            "Epoch 10/100\n",
            "78/78 [==============================] - 5s 62ms/step - loss: 7.7484e-04\n",
            "Epoch 11/100\n",
            "78/78 [==============================] - 5s 65ms/step - loss: 7.8957e-04\n",
            "Epoch 12/100\n",
            "78/78 [==============================] - 5s 70ms/step - loss: 7.2675e-04\n",
            "Epoch 13/100\n",
            "78/78 [==============================] - 5s 63ms/step - loss: 6.8333e-04\n",
            "Epoch 14/100\n",
            "78/78 [==============================] - 5s 63ms/step - loss: 7.4312e-04\n",
            "Epoch 15/100\n",
            "78/78 [==============================] - 5s 63ms/step - loss: 6.3301e-04\n",
            "Epoch 16/100\n",
            "78/78 [==============================] - 5s 62ms/step - loss: 7.6127e-04\n",
            "Epoch 17/100\n",
            "78/78 [==============================] - 5s 62ms/step - loss: 7.6677e-04\n",
            "Epoch 18/100\n",
            "78/78 [==============================] - 5s 61ms/step - loss: 6.6367e-04\n",
            "Epoch 19/100\n",
            "78/78 [==============================] - 5s 61ms/step - loss: 6.0547e-04\n",
            "Epoch 20/100\n",
            "78/78 [==============================] - 5s 61ms/step - loss: 5.8891e-04\n",
            "Epoch 21/100\n",
            "78/78 [==============================] - 5s 62ms/step - loss: 5.6179e-04\n",
            "Epoch 22/100\n",
            "78/78 [==============================] - 5s 62ms/step - loss: 6.1603e-04\n",
            "Epoch 23/100\n",
            "78/78 [==============================] - 5s 62ms/step - loss: 4.7192e-04\n",
            "Epoch 24/100\n",
            "78/78 [==============================] - 5s 62ms/step - loss: 5.9167e-04\n",
            "Epoch 25/100\n",
            "78/78 [==============================] - 5s 62ms/step - loss: 6.5743e-04\n",
            "Epoch 26/100\n",
            "78/78 [==============================] - 5s 62ms/step - loss: 5.7419e-04\n",
            "Epoch 27/100\n",
            "78/78 [==============================] - 5s 61ms/step - loss: 4.9236e-04\n",
            "Epoch 28/100\n",
            "78/78 [==============================] - 5s 62ms/step - loss: 4.4018e-04\n",
            "Epoch 29/100\n",
            "78/78 [==============================] - 5s 62ms/step - loss: 4.8044e-04\n",
            "Epoch 30/100\n",
            "78/78 [==============================] - 5s 63ms/step - loss: 5.5665e-04\n",
            "Epoch 31/100\n",
            "78/78 [==============================] - 5s 66ms/step - loss: 5.5762e-04\n",
            "Epoch 32/100\n",
            "78/78 [==============================] - 5s 64ms/step - loss: 5.2919e-04\n",
            "Epoch 33/100\n",
            "78/78 [==============================] - 5s 65ms/step - loss: 5.1261e-04\n",
            "Epoch 34/100\n",
            "78/78 [==============================] - 5s 69ms/step - loss: 4.1348e-04\n",
            "Epoch 35/100\n",
            "78/78 [==============================] - 5s 65ms/step - loss: 4.5010e-04\n",
            "Epoch 36/100\n",
            "78/78 [==============================] - 5s 65ms/step - loss: 4.2302e-04\n",
            "Epoch 37/100\n",
            "78/78 [==============================] - 5s 65ms/step - loss: 3.7821e-04\n",
            "Epoch 38/100\n",
            "78/78 [==============================] - 5s 66ms/step - loss: 4.2828e-04\n",
            "Epoch 39/100\n",
            "78/78 [==============================] - 5s 64ms/step - loss: 4.0500e-04\n",
            "Epoch 40/100\n",
            "78/78 [==============================] - 5s 65ms/step - loss: 4.2959e-04\n",
            "Epoch 41/100\n",
            "78/78 [==============================] - 5s 63ms/step - loss: 4.1050e-04\n",
            "Epoch 42/100\n",
            "78/78 [==============================] - 5s 64ms/step - loss: 3.7017e-04\n",
            "Epoch 43/100\n",
            "78/78 [==============================] - 5s 62ms/step - loss: 4.3116e-04\n",
            "Epoch 44/100\n",
            "78/78 [==============================] - 5s 63ms/step - loss: 4.1469e-04\n",
            "Epoch 45/100\n",
            "78/78 [==============================] - 5s 62ms/step - loss: 3.6339e-04\n",
            "Epoch 46/100\n",
            "78/78 [==============================] - 5s 62ms/step - loss: 4.2411e-04\n",
            "Epoch 47/100\n",
            "78/78 [==============================] - 5s 61ms/step - loss: 3.8036e-04\n",
            "Epoch 48/100\n",
            "78/78 [==============================] - 5s 64ms/step - loss: 3.9501e-04\n",
            "Epoch 49/100\n",
            "78/78 [==============================] - 5s 64ms/step - loss: 4.1607e-04\n",
            "Epoch 50/100\n",
            "78/78 [==============================] - 5s 63ms/step - loss: 3.1530e-04\n",
            "Epoch 51/100\n",
            "78/78 [==============================] - 5s 65ms/step - loss: 3.7597e-04\n",
            "Epoch 52/100\n",
            "78/78 [==============================] - 5s 62ms/step - loss: 3.1549e-04\n",
            "Epoch 53/100\n",
            "78/78 [==============================] - 5s 61ms/step - loss: 3.3979e-04\n",
            "Epoch 54/100\n",
            "78/78 [==============================] - 5s 62ms/step - loss: 2.9784e-04\n",
            "Epoch 55/100\n",
            "78/78 [==============================] - 5s 64ms/step - loss: 3.5118e-04\n",
            "Epoch 56/100\n",
            "78/78 [==============================] - 5s 64ms/step - loss: 3.2536e-04\n",
            "Epoch 57/100\n",
            "78/78 [==============================] - 5s 65ms/step - loss: 3.2565e-04\n",
            "Epoch 58/100\n",
            "78/78 [==============================] - 5s 61ms/step - loss: 3.3352e-04\n",
            "Epoch 59/100\n",
            "78/78 [==============================] - 5s 62ms/step - loss: 2.9951e-04\n",
            "Epoch 60/100\n",
            "78/78 [==============================] - 5s 62ms/step - loss: 3.5871e-04\n",
            "Epoch 61/100\n",
            "78/78 [==============================] - 5s 62ms/step - loss: 3.4963e-04\n",
            "Epoch 62/100\n",
            "78/78 [==============================] - 5s 62ms/step - loss: 3.6137e-04\n",
            "Epoch 63/100\n",
            "78/78 [==============================] - 5s 61ms/step - loss: 3.4322e-04\n",
            "Epoch 64/100\n",
            "78/78 [==============================] - 5s 61ms/step - loss: 2.9562e-04\n",
            "Epoch 65/100\n",
            "78/78 [==============================] - 5s 64ms/step - loss: 3.7886e-04\n",
            "Epoch 66/100\n",
            "78/78 [==============================] - 5s 62ms/step - loss: 2.9615e-04\n",
            "Epoch 67/100\n",
            "78/78 [==============================] - 5s 62ms/step - loss: 2.7338e-04\n",
            "Epoch 68/100\n",
            "78/78 [==============================] - 5s 62ms/step - loss: 2.6750e-04\n",
            "Epoch 69/100\n",
            "78/78 [==============================] - 5s 62ms/step - loss: 3.4111e-04\n",
            "Epoch 70/100\n",
            "78/78 [==============================] - 5s 62ms/step - loss: 4.2089e-04\n",
            "Epoch 71/100\n",
            "78/78 [==============================] - 5s 62ms/step - loss: 3.9536e-04\n",
            "Epoch 72/100\n",
            "78/78 [==============================] - 5s 62ms/step - loss: 3.1682e-04\n",
            "Epoch 73/100\n",
            "78/78 [==============================] - 5s 62ms/step - loss: 2.6194e-04\n",
            "Epoch 74/100\n",
            "78/78 [==============================] - 5s 62ms/step - loss: 2.6089e-04\n",
            "Epoch 75/100\n",
            "78/78 [==============================] - 5s 62ms/step - loss: 2.2780e-04\n",
            "Epoch 76/100\n",
            "78/78 [==============================] - 5s 62ms/step - loss: 2.7100e-04\n",
            "Epoch 77/100\n",
            "78/78 [==============================] - 5s 62ms/step - loss: 2.5894e-04\n",
            "Epoch 78/100\n",
            "78/78 [==============================] - 5s 62ms/step - loss: 2.3959e-04\n",
            "Epoch 79/100\n",
            "78/78 [==============================] - 5s 62ms/step - loss: 3.4930e-04\n",
            "Epoch 80/100\n",
            "78/78 [==============================] - 5s 63ms/step - loss: 3.1763e-04\n",
            "Epoch 81/100\n",
            "78/78 [==============================] - 5s 65ms/step - loss: 2.8427e-04\n",
            "Epoch 82/100\n",
            "78/78 [==============================] - 5s 65ms/step - loss: 2.8221e-04\n",
            "Epoch 83/100\n",
            "78/78 [==============================] - 5s 62ms/step - loss: 2.8697e-04\n",
            "Epoch 84/100\n",
            "78/78 [==============================] - 5s 64ms/step - loss: 2.2436e-04\n",
            "Epoch 85/100\n",
            "78/78 [==============================] - 5s 69ms/step - loss: 2.6085e-04\n",
            "Epoch 86/100\n",
            "78/78 [==============================] - 5s 69ms/step - loss: 2.6578e-04\n",
            "Epoch 87/100\n",
            "78/78 [==============================] - 5s 67ms/step - loss: 3.0574e-04\n",
            "Epoch 88/100\n",
            "78/78 [==============================] - 5s 64ms/step - loss: 2.5999e-04\n",
            "Epoch 89/100\n",
            "78/78 [==============================] - 5s 65ms/step - loss: 2.2144e-04\n",
            "Epoch 90/100\n",
            "78/78 [==============================] - 5s 62ms/step - loss: 2.6148e-04\n",
            "Epoch 91/100\n",
            "78/78 [==============================] - 5s 62ms/step - loss: 2.6240e-04\n",
            "Epoch 92/100\n",
            "78/78 [==============================] - 5s 62ms/step - loss: 2.9256e-04\n",
            "Epoch 93/100\n",
            "78/78 [==============================] - 5s 62ms/step - loss: 2.4632e-04\n",
            "Epoch 94/100\n",
            "78/78 [==============================] - 5s 63ms/step - loss: 2.5968e-04\n",
            "Epoch 95/100\n",
            "78/78 [==============================] - 5s 63ms/step - loss: 3.2419e-04\n",
            "Epoch 96/100\n",
            "78/78 [==============================] - 5s 67ms/step - loss: 2.5104e-04\n",
            "Epoch 97/100\n",
            "78/78 [==============================] - 5s 66ms/step - loss: 2.1531e-04\n",
            "Epoch 98/100\n",
            "78/78 [==============================] - 5s 64ms/step - loss: 2.0721e-04\n",
            "Epoch 99/100\n",
            "78/78 [==============================] - 5s 65ms/step - loss: 2.4003e-04\n",
            "Epoch 100/100\n",
            "78/78 [==============================] - 5s 64ms/step - loss: 2.4913e-04\n"
          ]
        },
        {
          "output_type": "execute_result",
          "data": {
            "text/plain": [
              "<keras.callbacks.History at 0x7f57602bca50>"
            ]
          },
          "metadata": {},
          "execution_count": 15
        }
      ]
    },
    {
      "cell_type": "markdown",
      "source": [
        "finally, we can predict the test set with the model and compare the result with the real value of price on that days. \n",
        "\n",
        "surely, we should bring the values back to the real numbers and not the normalized ones. we can do that with inverse_transform method of scaler that we defined before."
      ],
      "metadata": {
        "id": "nznyHE-u8_C8"
      }
    },
    {
      "cell_type": "code",
      "source": [
        "predictions_test = np.squeeze(scaler.inverse_transform(model.predict(x_test)))\n",
        "y_test_inversed = np.squeeze(scaler.inverse_transform([y_test]))\n",
        "plt.plot(predictions_test)\n",
        "plt.plot(y_test_inversed)\n",
        "plt.title('test data predictions')\n",
        "plt.xlabel('Day')\n",
        "plt.ylabel('Price')\n",
        "plt.legend ([\"Predictions\", \"True value\"])\n",
        "plt.show()"
      ],
      "metadata": {
        "id": "zPBngNHHllbq",
        "colab": {
          "base_uri": "https://localhost:8080/",
          "height": 295
        },
        "outputId": "f65d68a0-721c-4c2b-d017-bba0cc22f2d0"
      },
      "execution_count": 51,
      "outputs": [
        {
          "output_type": "display_data",
          "data": {
            "image/png": "[encoded data removed]",
            "text/plain": [
              "<Figure size 432x288 with 1 Axes>"
            ]
          },
          "metadata": {
            "needs_background": "light"
          }
        }
      ]
    },
    {
      "cell_type": "markdown",
      "source": [
        "here we predict next 3 months, means 90 days. like before, we put the last PAST_VALUES items of test set before these array.\n",
        "\n",
        "and put the predict of model for each day in the array, rhe use it on the next day."
      ],
      "metadata": {
        "id": "VigDuA3fMwtH"
      }
    },
    {
      "cell_type": "code",
      "source": [
        "n_future = 90\n",
        "future_normalized = np.concatenate((test_normalized[n_test-PAST_VALUES:], np.zeros((n_future, 1))))\n",
        "print(future_normalized)\n",
        "for i in range(PAST_VALUES, n_future+PAST_VALUES):\n",
        "  counter=0\n",
        "  temp = future_normalized[i-PAST_VALUES:i].T\n",
        "  temp = np.expand_dims(temp, axis=2)\n",
        "  prediction = model.predict(temp)\n",
        "  future_normalized[i] = np.squeeze(prediction)\n",
        "future_normalized = future_normalized[PAST_VALUES:]"
      ],
      "metadata": {
        "id": "ZGSfu-U9M5hs"
      },
      "execution_count": null,
      "outputs": []
    },
    {
      "cell_type": "markdown",
      "source": [
        "finally we can plot the prediction results for next 3 months. x axis \"day\" = 0 means today, x=1 means tomorrow and ... so buy bitcoin :)"
      ],
      "metadata": {
        "id": "zKa1Sfm2YsZ3"
      }
    },
    {
      "cell_type": "code",
      "source": [
        "future_prices = scaler.inverse_transform(future_normalized)\n",
        "plt.plot(future_prices)\n",
        "plt.title('next 3 months prices')\n",
        "plt.xlabel('Day')\n",
        "plt.ylabel('Price')\n",
        "plt.show()"
      ],
      "metadata": {
        "colab": {
          "base_uri": "https://localhost:8080/",
          "height": 295
        },
        "id": "dqY7XFy6Rxp4",
        "outputId": "a6bc21cc-5e81-4f55-ef45-eb6901df60be"
      },
      "execution_count": 53,
      "outputs": [
        {
          "output_type": "display_data",
          "data": {
            "image/png": "[encoded data removed]",
            "text/plain": [
              "<Figure size 432x288 with 1 Axes>"
            ]
          },
          "metadata": {
            "needs_background": "light"
          }
        }
      ]
    },
    {
      "cell_type": "markdown",
      "source": [
        "#Question 2"
      ],
      "metadata": {
        "id": "NFxKgHWaotf0"
      }
    },
    {
      "cell_type": "markdown",
      "source": [
        "import requirements:"
      ],
      "metadata": {
        "id": "LV4XlVRrdR9p"
      }
    },
    {
      "cell_type": "code",
      "source": [
        "from tensorflow.keras.layers import GRU, Dense, RepeatVector\n",
        "from tensorflow.keras.models import Sequential, load_model\n",
        "import numpy as np\n",
        "import os\n",
        "from google.colab import drive\n",
        "drive.mount('/content/gdrive')"
      ],
      "metadata": {
        "id": "TijU4hUUO3fn",
        "colab": {
          "base_uri": "https://localhost:8080/"
        },
        "outputId": "c1429e94-3087-4ada-c58b-80f22d4b0851"
      },
      "execution_count": null,
      "outputs": [
        {
          "output_type": "stream",
          "name": "stdout",
          "text": [
            "Mounted at /content/gdrive\n"
          ]
        }
      ]
    },
    {
      "cell_type": "markdown",
      "source": [
        "load dataset:"
      ],
      "metadata": {
        "id": "GeB_BwwtdUOK"
      }
    },
    {
      "cell_type": "code",
      "source": [
        "!wget -q -N 'https://raw.githubusercontent.com/armanheydari/my-datas/master/enc-dec.txt'\n",
        "text = open('enc-dec.txt').read().split('\\n')"
      ],
      "metadata": {
        "id": "z93GNh3Rcm2d"
      },
      "execution_count": null,
      "outputs": []
    },
    {
      "cell_type": "markdown",
      "source": [
        "parameters and hyperparameters:"
      ],
      "metadata": {
        "id": "bCTV2lxHdWqY"
      }
    },
    {
      "cell_type": "code",
      "source": [
        "symbols = 'abcdefghijklmnopqrstuvwxyz '\n",
        "samples_no = len(text)\n",
        "words_length = 10\n",
        "alphabeticals = len(symbols)\n",
        "optimizer = 'adam'\n",
        "loss = 'categorical_crossentropy'\n",
        "epochs = 10\n",
        "batch_size=32\n",
        "save_path = '/content/gdrive/MyDrive/DL_HW12/my_model.h5'"
      ],
      "metadata": {
        "id": "Q5FhjPK4O2p_"
      },
      "execution_count": null,
      "outputs": []
    },
    {
      "cell_type": "markdown",
      "source": [
        "pre processing data and create train set:"
      ],
      "metadata": {
        "id": "haMgWlAsdLL5"
      }
    },
    {
      "cell_type": "code",
      "source": [
        "x_train = np.zeros((samples_no, words_length, alphabeticals))\n",
        "y_train = np.zeros((samples_no, words_length, alphabeticals))\n",
        "for i in range(samples_no):\n",
        "  [d, l] = text[i].split('\\t')\n",
        "  if len(d) < words_length:\n",
        "    d+=(words_length-len(d))*' '\n",
        "  if len(l) < words_length:\n",
        "    l+=(words_length-len(l))*' '\n",
        "  for j in range(words_length):\n",
        "    x_train[i, j, symbols.find(d[j])] = 1\n",
        "    y_train[i, j, symbols.find(l[j])] = 1\n",
        "\n",
        "print(\"train:\", x_train.shape)\n",
        "print(\"labels:\", y_train.shape)"
      ],
      "metadata": {
        "colab": {
          "base_uri": "https://localhost:8080/"
        },
        "id": "Sh36_8PdKV_0",
        "outputId": "2a73d045-47c9-4217-c1b4-f452e6a21f80"
      },
      "execution_count": null,
      "outputs": [
        {
          "output_type": "stream",
          "name": "stdout",
          "text": [
            "train: (152273, 10, 27)\n",
            "labels: (152273, 10, 27)\n"
          ]
        }
      ]
    },
    {
      "cell_type": "markdown",
      "source": [
        "create the test set from the given sentence:"
      ],
      "metadata": {
        "id": "8issbIHYgKS7"
      }
    },
    {
      "cell_type": "code",
      "source": [
        "encrypted = \"onmltsrqpoihgrezcba lknrvjihgfueiizltflk\"\n",
        "chunks = [encrypted[i:i+words_length] for i in range(0, len(encrypted), words_length)]\n",
        "x_test = np.zeros((len(chunks), words_length, alphabeticals))\n",
        "for i in range(len(chunks)):\n",
        "  for j in range(words_length):\n",
        "    x_test[i, j, symbols.find(chunks[i][j])] = 1\n",
        "\n",
        "print(\"test:\", x_test.shape)"
      ],
      "metadata": {
        "colab": {
          "base_uri": "https://localhost:8080/"
        },
        "id": "RfvrTbuQb0gd",
        "outputId": "8ba0f931-483a-467c-980d-c1c2fab08251"
      },
      "execution_count": null,
      "outputs": [
        {
          "output_type": "stream",
          "name": "stdout",
          "text": [
            "test: (4, 10, 27)\n"
          ]
        }
      ]
    },
    {
      "cell_type": "markdown",
      "source": [
        "here, we define the train model which creates the GRU model and fit it on the dataset. if the bollean parameter 'is_load_model' sets to True, means we want to load the saved model and continue to train the model. but if it's False, means we want to create a new model with the layers that we pass to this method."
      ],
      "metadata": {
        "id": "9mYqIyGrgR6T"
      }
    },
    {
      "cell_type": "code",
      "source": [
        "def train_model(layers=None, is_load_model=True):\n",
        "  if is_load_model:\n",
        "    model = load_model(save_path)\n",
        "  else:\n",
        "    model = Sequential(layers)\n",
        "  model.compile(optimizer, loss, metrics=['accuracy'])\n",
        "  model.summary()\n",
        "  for i in range(epochs):\n",
        "    model.fit(x_train, y_train, batch_size, 1)\n",
        "    model.save(save_path)"
      ],
      "metadata": {
        "id": "WxrrfnC5ZZrk"
      },
      "execution_count": null,
      "outputs": []
    },
    {
      "cell_type": "markdown",
      "source": [
        "we can use this method to see the model's result on the test set:"
      ],
      "metadata": {
        "id": "aG0Urki9h5lM"
      }
    },
    {
      "cell_type": "code",
      "source": [
        "def test_model(model):\n",
        "  prediction = model.predict(x_test)\n",
        "  result = \"\"\n",
        "  for i in range(prediction.shape[0]):\n",
        "    for j in range(prediction.shape[1]):\n",
        "      result += symbols[np.argmax(prediction[i, j])]\n",
        "  print(result)"
      ],
      "metadata": {
        "id": "re2sm1S-e29L"
      },
      "execution_count": null,
      "outputs": []
    },
    {
      "cell_type": "markdown",
      "source": [
        "on the next cells, we train and test some GRU models to see which of them works better."
      ],
      "metadata": {
        "id": "_c3nAd-sl-Kd"
      }
    },
    {
      "cell_type": "code",
      "source": [
        "train_model([\n",
        "              GRU(units=128, input_shape=(words_length, alphabeticals)),\n",
        "              RepeatVector(words_length),\n",
        "              GRU(units=128, return_sequences=True),\n",
        "              Dense(units=alphabeticals, activation='softmax')]\n",
        "              , is_load_model=False)"
      ],
      "metadata": {
        "colab": {
          "base_uri": "https://localhost:8080/"
        },
        "id": "Zel72ecy8b96",
        "outputId": "0b3ae5f7-7c51-4799-c56f-f925456537b6"
      },
      "execution_count": null,
      "outputs": [
        {
          "output_type": "stream",
          "name": "stdout",
          "text": [
            "Model: \"sequential\"\n",
            "_________________________________________________________________\n",
            " Layer (type)                Output Shape              Param #   \n",
            "=================================================================\n",
            " gru (GRU)                   (None, 128)               60288     \n",
            "                                                                 \n",
            " repeat_vector (RepeatVector  (None, 10, 128)          0         \n",
            " )                                                               \n",
            "                                                                 \n",
            " gru_1 (GRU)                 (None, 10, 128)           99072     \n",
            "                                                                 \n",
            " dense (Dense)               (None, 10, 27)            3483      \n",
            "                                                                 \n",
            "=================================================================\n",
            "Total params: 162,843\n",
            "Trainable params: 162,843\n",
            "Non-trainable params: 0\n",
            "_________________________________________________________________\n",
            "4759/4759 [==============================] - 61s 11ms/step - loss: 2.2315 - accuracy: 0.3362\n",
            "4759/4759 [==============================] - 54s 11ms/step - loss: 1.3802 - accuracy: 0.5714\n",
            "4759/4759 [==============================] - 52s 11ms/step - loss: 0.6713 - accuracy: 0.7894\n",
            "4759/4759 [==============================] - 52s 11ms/step - loss: 0.3521 - accuracy: 0.8956\n",
            "4759/4759 [==============================] - 53s 11ms/step - loss: 0.2412 - accuracy: 0.9292\n",
            "4759/4759 [==============================] - 53s 11ms/step - loss: 0.1954 - accuracy: 0.9425\n",
            "4759/4759 [==============================] - 54s 11ms/step - loss: 0.1728 - accuracy: 0.9488\n",
            "4759/4759 [==============================] - 54s 11ms/step - loss: 0.1584 - accuracy: 0.9527\n",
            "4759/4759 [==============================] - 53s 11ms/step - loss: 0.1491 - accuracy: 0.9553\n",
            "4759/4759 [==============================] - 53s 11ms/step - loss: 0.1416 - accuracy: 0.9573\n"
          ]
        }
      ]
    },
    {
      "cell_type": "code",
      "source": [
        "test_model(load_model(save_path))"
      ],
      "metadata": {
        "colab": {
          "base_uri": "https://localhost:8080/"
        },
        "id": "7ZWP7-uDd4uU",
        "outputId": "a1c638f3-985d-4991-a3a5-e657b4ce935e"
      },
      "execution_count": null,
      "outputs": [
        {
          "output_type": "stream",
          "name": "stdout",
          "text": [
            "    k        love     deep    slearring \n"
          ]
        }
      ]
    },
    {
      "cell_type": "code",
      "source": [
        "train_model([\n",
        "              GRU(units=256, input_shape=(words_length, alphabeticals)),\n",
        "              RepeatVector(words_length),\n",
        "              GRU(units=256, return_sequences=True),\n",
        "              Dense(units=alphabeticals, activation='softmax')]\n",
        "              , is_load_model=False)"
      ],
      "metadata": {
        "colab": {
          "base_uri": "https://localhost:8080/"
        },
        "id": "SlaypCjmiOUP",
        "outputId": "aab87b44-2774-4001-df46-aaac6a0eafad"
      },
      "execution_count": null,
      "outputs": [
        {
          "output_type": "stream",
          "name": "stdout",
          "text": [
            "Model: \"sequential_1\"\n",
            "_________________________________________________________________\n",
            " Layer (type)                Output Shape              Param #   \n",
            "=================================================================\n",
            " gru_2 (GRU)                 (None, 256)               218880    \n",
            "                                                                 \n",
            " repeat_vector_1 (RepeatVect  (None, 10, 256)          0         \n",
            " or)                                                             \n",
            "                                                                 \n",
            " gru_3 (GRU)                 (None, 10, 256)           394752    \n",
            "                                                                 \n",
            " dense_1 (Dense)             (None, 10, 27)            6939      \n",
            "                                                                 \n",
            "=================================================================\n",
            "Total params: 620,571\n",
            "Trainable params: 620,571\n",
            "Non-trainable params: 0\n",
            "_________________________________________________________________\n",
            "4759/4759 [==============================] - 68s 13ms/step - loss: 1.7370 - accuracy: 0.4802\n",
            "4759/4759 [==============================] - 64s 13ms/step - loss: 0.3633 - accuracy: 0.8917\n",
            "4759/4759 [==============================] - 65s 14ms/step - loss: 0.1978 - accuracy: 0.9407\n",
            "4759/4759 [==============================] - 64s 13ms/step - loss: 0.1609 - accuracy: 0.9511\n",
            "4759/4759 [==============================] - 63s 13ms/step - loss: 0.1437 - accuracy: 0.9558\n",
            "4759/4759 [==============================] - 64s 13ms/step - loss: 0.1329 - accuracy: 0.9591\n",
            "4759/4759 [==============================] - 63s 13ms/step - loss: 0.1261 - accuracy: 0.9609\n",
            "4759/4759 [==============================] - 63s 13ms/step - loss: 0.1199 - accuracy: 0.9628\n",
            "4759/4759 [==============================] - 64s 13ms/step - loss: 0.1156 - accuracy: 0.9639\n",
            "4759/4759 [==============================] - 63s 13ms/step - loss: 0.1112 - accuracy: 0.9653\n"
          ]
        }
      ]
    },
    {
      "cell_type": "code",
      "source": [
        "test_model(load_model(save_path))"
      ],
      "metadata": {
        "colab": {
          "base_uri": "https://localhost:8080/"
        },
        "id": "mWR5JAYikvX1",
        "outputId": "dfec136e-b9da-44f2-9c04-498671d60fda"
      },
      "execution_count": null,
      "outputs": [
        {
          "output_type": "stream",
          "name": "stdout",
          "text": [
            "   bi        love   redeep    alearning \n"
          ]
        }
      ]
    },
    {
      "cell_type": "code",
      "source": [
        "train_model([\n",
        "              GRU(units=128, input_shape=(words_length, alphabeticals)),\n",
        "              RepeatVector(words_length),\n",
        "              GRU(units=128, return_sequences=True),\n",
        "              GRU(units=128, return_sequences=True),\n",
        "              Dense(units=alphabeticals, activation='softmax')]\n",
        "              , is_load_model=False)"
      ],
      "metadata": {
        "colab": {
          "base_uri": "https://localhost:8080/"
        },
        "id": "Q9uWiPE6i5lm",
        "outputId": "3529c3f3-2b4f-4418-91f8-a35002303d03"
      },
      "execution_count": null,
      "outputs": [
        {
          "output_type": "stream",
          "name": "stdout",
          "text": [
            "Model: \"sequential_3\"\n",
            "_________________________________________________________________\n",
            " Layer (type)                Output Shape              Param #   \n",
            "=================================================================\n",
            " gru_7 (GRU)                 (None, 128)               60288     \n",
            "                                                                 \n",
            " repeat_vector_3 (RepeatVect  (None, 10, 128)          0         \n",
            " or)                                                             \n",
            "                                                                 \n",
            " gru_8 (GRU)                 (None, 10, 128)           99072     \n",
            "                                                                 \n",
            " gru_9 (GRU)                 (None, 10, 128)           99072     \n",
            "                                                                 \n",
            " dense_3 (Dense)             (None, 10, 27)            3483      \n",
            "                                                                 \n",
            "=================================================================\n",
            "Total params: 261,915\n",
            "Trainable params: 261,915\n",
            "Non-trainable params: 0\n",
            "_________________________________________________________________\n",
            "4759/4759 [==============================] - 81s 15ms/step - loss: 2.1821 - accuracy: 0.3453\n",
            "4759/4759 [==============================] - 72s 15ms/step - loss: 1.2724 - accuracy: 0.5855\n",
            "4759/4759 [==============================] - 72s 15ms/step - loss: 0.6474 - accuracy: 0.7870\n",
            "4759/4759 [==============================] - 72s 15ms/step - loss: 0.4586 - accuracy: 0.8508\n",
            "4759/4759 [==============================] - 71s 15ms/step - loss: 0.3705 - accuracy: 0.8803\n",
            "4759/4759 [==============================] - 72s 15ms/step - loss: 0.3166 - accuracy: 0.8984\n",
            "4759/4759 [==============================] - 71s 15ms/step - loss: 0.2815 - accuracy: 0.9104\n",
            "4759/4759 [==============================] - 79s 17ms/step - loss: 0.2531 - accuracy: 0.9203\n",
            "4759/4759 [==============================] - 72s 15ms/step - loss: 0.2323 - accuracy: 0.9272\n",
            "4759/4759 [==============================] - 71s 15ms/step - loss: 0.2169 - accuracy: 0.9324\n"
          ]
        }
      ]
    },
    {
      "cell_type": "code",
      "source": [
        "test_model(load_model(save_path))"
      ],
      "metadata": {
        "colab": {
          "base_uri": "https://localhost:8080/"
        },
        "id": "Cjf4_BQJpDhc",
        "outputId": "0fb8f25a-3e59-4a0e-e876-273bf4b7119a"
      },
      "execution_count": null,
      "outputs": [
        {
          "output_type": "stream",
          "name": "stdout",
          "text": [
            "    i        love     deep    alearning \n"
          ]
        }
      ]
    },
    {
      "cell_type": "code",
      "source": [
        "train_model([\n",
        "              GRU(units=64, input_shape=(words_length, alphabeticals)),\n",
        "              RepeatVector(words_length),\n",
        "              GRU(units=64, return_sequences=True),\n",
        "              GRU(units=64, return_sequences=True),\n",
        "              Dense(units=alphabeticals, activation='softmax')]\n",
        "              , is_load_model=False)"
      ],
      "metadata": {
        "colab": {
          "base_uri": "https://localhost:8080/"
        },
        "id": "Ql8hQqIMmPYT",
        "outputId": "78475fd7-a7ea-40ef-a607-4b3a6429c0c8"
      },
      "execution_count": null,
      "outputs": [
        {
          "output_type": "stream",
          "name": "stdout",
          "text": [
            "Model: \"sequential_4\"\n",
            "_________________________________________________________________\n",
            " Layer (type)                Output Shape              Param #   \n",
            "=================================================================\n",
            " gru_10 (GRU)                (None, 64)                17856     \n",
            "                                                                 \n",
            " repeat_vector_4 (RepeatVect  (None, 10, 64)           0         \n",
            " or)                                                             \n",
            "                                                                 \n",
            " gru_11 (GRU)                (None, 10, 64)            24960     \n",
            "                                                                 \n",
            " gru_12 (GRU)                (None, 10, 64)            24960     \n",
            "                                                                 \n",
            " dense_4 (Dense)             (None, 10, 27)            1755      \n",
            "                                                                 \n",
            "=================================================================\n",
            "Total params: 69,531\n",
            "Trainable params: 69,531\n",
            "Non-trainable params: 0\n",
            "_________________________________________________________________\n",
            "4759/4759 [==============================] - 69s 14ms/step - loss: 2.3352 - accuracy: 0.3042\n",
            "4759/4759 [==============================] - 65s 14ms/step - loss: 2.0296 - accuracy: 0.3764\n",
            "4759/4759 [==============================] - 64s 14ms/step - loss: 1.7973 - accuracy: 0.4455\n",
            "4759/4759 [==============================] - 64s 14ms/step - loss: 1.5599 - accuracy: 0.5093\n",
            "4759/4759 [==============================] - 64s 14ms/step - loss: 1.1920 - accuracy: 0.6086\n",
            "4759/4759 [==============================] - 64s 13ms/step - loss: 0.8795 - accuracy: 0.7038\n",
            "4759/4759 [==============================] - 64s 13ms/step - loss: 0.7179 - accuracy: 0.7546\n",
            "4759/4759 [==============================] - 64s 14ms/step - loss: 0.6134 - accuracy: 0.7910\n",
            "4759/4759 [==============================] - 65s 14ms/step - loss: 0.5389 - accuracy: 0.8186\n",
            "4759/4759 [==============================] - 65s 14ms/step - loss: 0.4835 - accuracy: 0.8386\n"
          ]
        }
      ]
    },
    {
      "cell_type": "code",
      "source": [
        "test_model(load_model(save_path))"
      ],
      "metadata": {
        "colab": {
          "base_uri": "https://localhost:8080/"
        },
        "id": "I3Ep1ZyxpMGY",
        "outputId": "b01a1480-218e-47f0-f270-1dde18b02f90"
      },
      "execution_count": null,
      "outputs": [
        {
          "output_type": "stream",
          "name": "stdout",
          "text": [
            "s  wa        lave   swdeer    plearning \n"
          ]
        }
      ]
    }
  ]
}
{
  "nbformat": 4,
  "nbformat_minor": 0,
  "metadata": {
    "colab": {
      "name": "DL_HW7.ipynb",
      "provenance": [],
      "collapsed_sections": []
    },
    "kernelspec": {
      "name": "python3",
      "display_name": "Python 3"
    },
    "language_info": {
      "name": "python"
    },
    "accelerator": "GPU"
  },
  "cells": [
    {
      "cell_type": "markdown",
      "metadata": {
        "id": "VnrRg9I4V54y"
      },
      "source": [
        "Import Libraries"
      ]
    },
    {
      "cell_type": "code",
      "metadata": {
        "colab": {
          "base_uri": "https://localhost:8080/"
        },
        "id": "7_qQTHVXxNhn",
        "outputId": "296971bf-5d10-4a8c-a3ed-0ecd323d196d"
      },
      "source": [
        "import tensorflow as tf\n",
        "\n",
        "from tensorflow.keras import layers\n",
        "from tensorflow.keras import regularizers\n",
        "\n",
        "!pip install -q git+https://github.com/tensorflow/docs\n",
        "import tensorflow_docs as tfdocs\n",
        "import tensorflow_docs.modeling\n",
        "import tensorflow_docs.plots"
      ],
      "execution_count": 1,
      "outputs": [
        {
          "output_type": "stream",
          "name": "stdout",
          "text": [
            "  Building wheel for tensorflow-docs (setup.py) ... \u001b[?25l\u001b[?25hdone\n"
          ]
        }
      ]
    },
    {
      "cell_type": "markdown",
      "metadata": {
        "id": "ycj0L9NXV_61"
      },
      "source": [
        "Load and prepare dataset"
      ]
    },
    {
      "cell_type": "code",
      "metadata": {
        "id": "PHXA1Qi-xO8m",
        "colab": {
          "base_uri": "https://localhost:8080/"
        },
        "outputId": "bbc18cd2-93a7-4129-9d2d-12d2feb252f9"
      },
      "source": [
        "gz = tf.keras.utils.get_file('HIGGS.csv.gz', 'http://mlphysics.ics.uci.edu/data/higgs/HIGGS.csv.gz')"
      ],
      "execution_count": 2,
      "outputs": [
        {
          "output_type": "stream",
          "name": "stdout",
          "text": [
            "Downloading data from http://mlphysics.ics.uci.edu/data/higgs/HIGGS.csv.gz\n",
            "2816409600/2816407858 [==============================] - 63s 0us/step\n",
            "2816417792/2816407858 [==============================] - 63s 0us/step\n"
          ]
        }
      ]
    },
    {
      "cell_type": "code",
      "metadata": {
        "id": "isN7uLAVxO_u"
      },
      "source": [
        "FEATURES = 28\n",
        "ds = tf.data.experimental.CsvDataset(gz,[float(),]*(FEATURES+1), compression_type=\"GZIP\")\n",
        "\n",
        "def pack_row(*row):\n",
        "  label = row[0]\n",
        "  features = tf.stack(row[1:],1)\n",
        "  return features, label\n",
        "\n",
        "packed_ds = ds.batch(10000).map(pack_row).unbatch()"
      ],
      "execution_count": 3,
      "outputs": []
    },
    {
      "cell_type": "code",
      "metadata": {
        "id": "D29Up7HBxPC6"
      },
      "source": [
        "N_VALIDATION = int(1e3)\n",
        "N_TRAIN = int(1e4)\n",
        "BUFFER_SIZE = int(1e4)\n",
        "BATCH_SIZE = 500\n",
        "STEPS_PER_EPOCH = N_TRAIN//BATCH_SIZE"
      ],
      "execution_count": 4,
      "outputs": []
    },
    {
      "cell_type": "code",
      "metadata": {
        "id": "sy7uerX3xdHt"
      },
      "source": [
        "validate_ds = packed_ds.take(N_VALIDATION).cache()\n",
        "train_ds = packed_ds.skip(N_VALIDATION).take(N_TRAIN).cache()\n",
        "validate_ds = validate_ds.batch(BATCH_SIZE)\n",
        "train_ds = train_ds.shuffle(BUFFER_SIZE).repeat().batch(BATCH_SIZE)"
      ],
      "execution_count": 5,
      "outputs": []
    },
    {
      "cell_type": "markdown",
      "metadata": {
        "id": "y6ixk9zGWKIx"
      },
      "source": [
        "Simple model"
      ]
    },
    {
      "cell_type": "code",
      "metadata": {
        "id": "2-nYZwVyxdKw"
      },
      "source": [
        "model = tf.keras.Sequential([\n",
        "    layers.Dense(16, activation='elu', input_shape=(FEATURES,)),\n",
        "    layers.Dense(1)\n",
        "])"
      ],
      "execution_count": 6,
      "outputs": []
    },
    {
      "cell_type": "code",
      "metadata": {
        "id": "bAgFnr3A10kH"
      },
      "source": [
        "def get_callbacks():\n",
        "  return [\n",
        "    tfdocs.modeling.EpochDots(),\n",
        "    tf.keras.callbacks.EarlyStopping(monitor='val_loss', patience=200),\n",
        "  ]"
      ],
      "execution_count": 7,
      "outputs": []
    },
    {
      "cell_type": "code",
      "metadata": {
        "id": "j8UlVCj65ggr"
      },
      "source": [
        "def compile_and_fit(model, max_epochs=10000):\n",
        "  model.compile(optimizer=\"adam\",\n",
        "                loss=tf.keras.losses.BinaryCrossentropy(from_logits=True),\n",
        "                metrics=[\n",
        "                  tf.keras.losses.BinaryCrossentropy(\n",
        "                      from_logits=True, name='binary_crossentropy'),\n",
        "                  'accuracy'])\n",
        "\n",
        "  model.summary()\n",
        "\n",
        "  history = model.fit(\n",
        "    train_ds,\n",
        "    steps_per_epoch = STEPS_PER_EPOCH,\n",
        "    epochs=max_epochs,\n",
        "    validation_data=validate_ds,\n",
        "    callbacks=get_callbacks(),\n",
        "    verbose=0)\n",
        "  return history"
      ],
      "execution_count": 8,
      "outputs": []
    },
    {
      "cell_type": "code",
      "metadata": {
        "colab": {
          "base_uri": "https://localhost:8080/"
        },
        "id": "M_fr4eQWoxcR",
        "outputId": "6d04a9e1-16f1-4ccb-c853-23ead431fb8c"
      },
      "source": [
        "compile_and_fit(model)"
      ],
      "execution_count": 9,
      "outputs": [
        {
          "output_type": "stream",
          "name": "stdout",
          "text": [
            "Model: \"sequential\"\n",
            "_________________________________________________________________\n",
            " Layer (type)                Output Shape              Param #   \n",
            "=================================================================\n",
            " dense (Dense)               (None, 16)                464       \n",
            "                                                                 \n",
            " dense_1 (Dense)             (None, 1)                 17        \n",
            "                                                                 \n",
            "=================================================================\n",
            "Total params: 481\n",
            "Trainable params: 481\n",
            "Non-trainable params: 0\n",
            "_________________________________________________________________\n",
            "\n",
            "Epoch: 0, accuracy:0.5125,  binary_crossentropy:0.8545,  loss:0.8545,  val_accuracy:0.4890,  val_binary_crossentropy:0.7722,  val_loss:0.7722,  \n",
            "....................................................................................................\n",
            "Epoch: 100, accuracy:0.5949,  binary_crossentropy:0.6267,  loss:0.6267,  val_accuracy:0.5570,  val_binary_crossentropy:0.6387,  val_loss:0.6387,  \n",
            "....................................................................................................\n",
            "Epoch: 200, accuracy:0.6275,  binary_crossentropy:0.6110,  loss:0.6110,  val_accuracy:0.5970,  val_binary_crossentropy:0.6194,  val_loss:0.6194,  \n",
            "....................................................................................................\n",
            "Epoch: 300, accuracy:0.6522,  binary_crossentropy:0.5982,  loss:0.5982,  val_accuracy:0.6160,  val_binary_crossentropy:0.6062,  val_loss:0.6062,  \n",
            "....................................................................................................\n",
            "Epoch: 400, accuracy:0.6651,  binary_crossentropy:0.5896,  loss:0.5896,  val_accuracy:0.6500,  val_binary_crossentropy:0.5971,  val_loss:0.5971,  \n",
            "....................................................................................................\n",
            "Epoch: 500, accuracy:0.6668,  binary_crossentropy:0.5837,  loss:0.5837,  val_accuracy:0.6510,  val_binary_crossentropy:0.5958,  val_loss:0.5958,  \n",
            "....................................................................................................\n",
            "Epoch: 600, accuracy:0.6765,  binary_crossentropy:0.5805,  loss:0.5805,  val_accuracy:0.6520,  val_binary_crossentropy:0.5944,  val_loss:0.5944,  \n",
            "....................................................................................................\n",
            "Epoch: 700, accuracy:0.6806,  binary_crossentropy:0.5764,  loss:0.5764,  val_accuracy:0.6670,  val_binary_crossentropy:0.5916,  val_loss:0.5916,  \n",
            "....................................................................................................\n",
            "Epoch: 800, accuracy:0.6846,  binary_crossentropy:0.5738,  loss:0.5738,  val_accuracy:0.6660,  val_binary_crossentropy:0.5925,  val_loss:0.5925,  \n",
            "....................................................................................................\n",
            "Epoch: 900, accuracy:0.6871,  binary_crossentropy:0.5709,  loss:0.5709,  val_accuracy:0.6670,  val_binary_crossentropy:0.5899,  val_loss:0.5899,  \n",
            "....................................................................................................\n",
            "Epoch: 1000, accuracy:0.6902,  binary_crossentropy:0.5681,  loss:0.5681,  val_accuracy:0.6590,  val_binary_crossentropy:0.5916,  val_loss:0.5916,  \n",
            "....................................................................................................\n",
            "Epoch: 1100, accuracy:0.6893,  binary_crossentropy:0.5658,  loss:0.5658,  val_accuracy:0.6620,  val_binary_crossentropy:0.5902,  val_loss:0.5902,  \n",
            "....................................................................................................\n",
            "Epoch: 1200, accuracy:0.6879,  binary_crossentropy:0.5654,  loss:0.5654,  val_accuracy:0.6650,  val_binary_crossentropy:0.5890,  val_loss:0.5890,  \n",
            "....................................................................................................\n",
            "Epoch: 1300, accuracy:0.6926,  binary_crossentropy:0.5627,  loss:0.5627,  val_accuracy:0.6670,  val_binary_crossentropy:0.5878,  val_loss:0.5878,  \n",
            "....................................................................................................\n",
            "Epoch: 1400, accuracy:0.6964,  binary_crossentropy:0.5611,  loss:0.5611,  val_accuracy:0.6770,  val_binary_crossentropy:0.5854,  val_loss:0.5854,  \n",
            "....................................................................................................\n",
            "Epoch: 1500, accuracy:0.6973,  binary_crossentropy:0.5594,  loss:0.5594,  val_accuracy:0.6810,  val_binary_crossentropy:0.5844,  val_loss:0.5844,  \n",
            "....................................................................................................\n",
            "Epoch: 1600, accuracy:0.6984,  binary_crossentropy:0.5588,  loss:0.5588,  val_accuracy:0.6730,  val_binary_crossentropy:0.5848,  val_loss:0.5848,  \n",
            "....................................................................................................\n",
            "Epoch: 1700, accuracy:0.6996,  binary_crossentropy:0.5576,  loss:0.5576,  val_accuracy:0.6900,  val_binary_crossentropy:0.5828,  val_loss:0.5828,  \n",
            "....................................................................................................\n",
            "Epoch: 1800, accuracy:0.7023,  binary_crossentropy:0.5562,  loss:0.5562,  val_accuracy:0.6830,  val_binary_crossentropy:0.5819,  val_loss:0.5819,  \n",
            "....................................................................................................\n",
            "Epoch: 1900, accuracy:0.7009,  binary_crossentropy:0.5561,  loss:0.5561,  val_accuracy:0.6850,  val_binary_crossentropy:0.5806,  val_loss:0.5806,  \n",
            "....................................................................................................\n",
            "Epoch: 2000, accuracy:0.6996,  binary_crossentropy:0.5545,  loss:0.5545,  val_accuracy:0.6710,  val_binary_crossentropy:0.5842,  val_loss:0.5842,  \n",
            "....................................................................................................\n",
            "Epoch: 2100, accuracy:0.7047,  binary_crossentropy:0.5544,  loss:0.5544,  val_accuracy:0.6820,  val_binary_crossentropy:0.5823,  val_loss:0.5823,  \n",
            "....................................................................................................\n",
            "Epoch: 2200, accuracy:0.7015,  binary_crossentropy:0.5532,  loss:0.5532,  val_accuracy:0.6910,  val_binary_crossentropy:0.5803,  val_loss:0.5803,  \n",
            "....................................................................................................\n",
            "Epoch: 2300, accuracy:0.7028,  binary_crossentropy:0.5530,  loss:0.5530,  val_accuracy:0.6900,  val_binary_crossentropy:0.5794,  val_loss:0.5794,  \n",
            "....................................................................................................\n",
            "Epoch: 2400, accuracy:0.7023,  binary_crossentropy:0.5520,  loss:0.5520,  val_accuracy:0.6920,  val_binary_crossentropy:0.5785,  val_loss:0.5785,  \n",
            "....................................................................................................\n",
            "Epoch: 2500, accuracy:0.7048,  binary_crossentropy:0.5519,  loss:0.5519,  val_accuracy:0.6820,  val_binary_crossentropy:0.5822,  val_loss:0.5822,  \n",
            "............................................."
          ]
        },
        {
          "output_type": "execute_result",
          "data": {
            "text/plain": [
              "<keras.callbacks.History at 0x7f11301e9150>"
            ]
          },
          "metadata": {},
          "execution_count": 9
        }
      ]
    },
    {
      "cell_type": "markdown",
      "metadata": {
        "id": "VF1Zl_DwMXb4"
      },
      "source": [
        "# Question 3\n",
        "\n",
        "define a deeper model which has more capacity, because training accuracy is low and seems underfited."
      ]
    },
    {
      "cell_type": "code",
      "metadata": {
        "id": "TJQY4_VP6gfq",
        "colab": {
          "base_uri": "https://localhost:8080/"
        },
        "outputId": "9f960ac6-e4ef-4ada-bb3c-b9f2793cadea"
      },
      "source": [
        "model = tf.keras.Sequential([\n",
        "    layers.Dense(256, activation='elu', input_shape=(FEATURES,)),\n",
        "    layers.Dense(256, activation='elu'),\n",
        "    layers.Dense(256, activation='elu'),\n",
        "    layers.Dense(256, activation='elu'),\n",
        "    layers.Dense(256, activation='elu'),\n",
        "    layers.Dense(1)\n",
        "])\n",
        "compile_and_fit(model)"
      ],
      "execution_count": 11,
      "outputs": [
        {
          "output_type": "stream",
          "name": "stdout",
          "text": [
            "Model: \"sequential_2\"\n",
            "_________________________________________________________________\n",
            " Layer (type)                Output Shape              Param #   \n",
            "=================================================================\n",
            " dense_8 (Dense)             (None, 256)               7424      \n",
            "                                                                 \n",
            " dense_9 (Dense)             (None, 256)               65792     \n",
            "                                                                 \n",
            " dense_10 (Dense)            (None, 256)               65792     \n",
            "                                                                 \n",
            " dense_11 (Dense)            (None, 256)               65792     \n",
            "                                                                 \n",
            " dense_12 (Dense)            (None, 256)               65792     \n",
            "                                                                 \n",
            " dense_13 (Dense)            (None, 1)                 257       \n",
            "                                                                 \n",
            "=================================================================\n",
            "Total params: 270,849\n",
            "Trainable params: 270,849\n",
            "Non-trainable params: 0\n",
            "_________________________________________________________________\n",
            "\n",
            "Epoch: 0, accuracy:0.4991,  binary_crossentropy:0.7404,  loss:0.7404,  val_accuracy:0.5670,  val_binary_crossentropy:0.6758,  val_loss:0.6758,  \n",
            "....................................................................................................\n",
            "Epoch: 100, accuracy:1.0000,  binary_crossentropy:0.0015,  loss:0.0015,  val_accuracy:0.6480,  val_binary_crossentropy:2.1549,  val_loss:2.1549,  \n",
            "....................................................................................................\n",
            "Epoch: 200, accuracy:1.0000,  binary_crossentropy:0.0001,  loss:0.0001,  val_accuracy:0.6520,  val_binary_crossentropy:2.9772,  val_loss:2.9772,  \n",
            ".............."
          ]
        },
        {
          "output_type": "execute_result",
          "data": {
            "text/plain": [
              "<keras.callbacks.History at 0x7f10c0c10a90>"
            ]
          },
          "metadata": {},
          "execution_count": 11
        }
      ]
    },
    {
      "cell_type": "markdown",
      "metadata": {
        "id": "tPJ55nzXOXHh"
      },
      "source": [
        "we have overfitting obviously. because we have 100 percent accuracy on training and a much less accuracy on validation data. the model stopped after only 200 epochs because it hasn't progressed in validation loss. so as explained in the article, we can use weight regularizer and dropout to prevent overfitting."
      ]
    },
    {
      "cell_type": "code",
      "metadata": {
        "colab": {
          "base_uri": "https://localhost:8080/"
        },
        "id": "NiAZIW2VNIIF",
        "outputId": "e79a0474-465a-4755-83ec-8c9bddc4fd08"
      },
      "source": [
        "model = tf.keras.Sequential([\n",
        "    layers.Dense(256, activation='elu', input_shape=(FEATURES,), kernel_regularizer='l2'),\n",
        "    layers.Dropout(0.5),\n",
        "    layers.Dense(256, activation='elu', kernel_regularizer='l2'),\n",
        "    layers.Dropout(0.5), \n",
        "    layers.Dense(256, activation='elu', kernel_regularizer='l2'),\n",
        "    layers.Dropout(0.4),\n",
        "    layers.Dense(256, activation='elu', kernel_regularizer='l2'),\n",
        "    layers.Dropout(0.4),\n",
        "    layers.Dense(256, activation='elu', kernel_regularizer='l2'),\n",
        "    layers.Dropout(0.3),\n",
        "    layers.Dense(1)\n",
        "])\n",
        "compile_and_fit(model, max_epochs=1000)"
      ],
      "execution_count": 12,
      "outputs": [
        {
          "output_type": "stream",
          "name": "stdout",
          "text": [
            "Model: \"sequential_3\"\n",
            "_________________________________________________________________\n",
            " Layer (type)                Output Shape              Param #   \n",
            "=================================================================\n",
            " dense_14 (Dense)            (None, 256)               7424      \n",
            "                                                                 \n",
            " dropout (Dropout)           (None, 256)               0         \n",
            "                                                                 \n",
            " dense_15 (Dense)            (None, 256)               65792     \n",
            "                                                                 \n",
            " dropout_1 (Dropout)         (None, 256)               0         \n",
            "                                                                 \n",
            " dense_16 (Dense)            (None, 256)               65792     \n",
            "                                                                 \n",
            " dropout_2 (Dropout)         (None, 256)               0         \n",
            "                                                                 \n",
            " dense_17 (Dense)            (None, 256)               65792     \n",
            "                                                                 \n",
            " dropout_3 (Dropout)         (None, 256)               0         \n",
            "                                                                 \n",
            " dense_18 (Dense)            (None, 256)               65792     \n",
            "                                                                 \n",
            " dropout_4 (Dropout)         (None, 256)               0         \n",
            "                                                                 \n",
            " dense_19 (Dense)            (None, 1)                 257       \n",
            "                                                                 \n",
            "=================================================================\n",
            "Total params: 270,849\n",
            "Trainable params: 270,849\n",
            "Non-trainable params: 0\n",
            "_________________________________________________________________\n",
            "\n",
            "Epoch: 0, accuracy:0.4951,  binary_crossentropy:0.7470,  loss:9.7857,  val_accuracy:0.4600,  val_binary_crossentropy:0.6850,  val_loss:7.9085,  \n",
            "....................................................................................................\n",
            "Epoch: 100, accuracy:0.4738,  binary_crossentropy:0.6920,  loss:0.6920,  val_accuracy:0.4600,  val_binary_crossentropy:0.6902,  val_loss:0.6902,  \n",
            "....................................................................................................\n",
            "Epoch: 200, accuracy:0.4738,  binary_crossentropy:0.6917,  loss:0.6917,  val_accuracy:0.4600,  val_binary_crossentropy:0.6903,  val_loss:0.6903,  \n",
            "....................................................................................................\n",
            "Epoch: 300, accuracy:0.4738,  binary_crossentropy:0.6919,  loss:0.6919,  val_accuracy:0.4600,  val_binary_crossentropy:0.6903,  val_loss:0.6903,  \n",
            "......................................................................................."
          ]
        },
        {
          "output_type": "execute_result",
          "data": {
            "text/plain": [
              "<keras.callbacks.History at 0x7f10c09c4310>"
            ]
          },
          "metadata": {},
          "execution_count": 12
        }
      ]
    },
    {
      "cell_type": "markdown",
      "metadata": {
        "id": "4HiskAaWSbUC"
      },
      "source": [
        "but we can see the model didn't work perfect. maybe units of each layer is not enough due to dropout probabilities. "
      ]
    },
    {
      "cell_type": "code",
      "metadata": {
        "colab": {
          "base_uri": "https://localhost:8080/"
        },
        "id": "KgPRe83sOspq",
        "outputId": "4c9a1c02-9053-4c0b-e305-d3f909558156"
      },
      "source": [
        "model = tf.keras.Sequential([\n",
        "    layers.Dense(512, activation='elu', input_shape=(FEATURES,), kernel_regularizer='l2'),\n",
        "    layers.Dropout(0.5),\n",
        "    layers.Dense(512, activation='elu', kernel_regularizer='l2'),\n",
        "    layers.Dropout(0.5), \n",
        "    layers.Dense(512, activation='elu', kernel_regularizer='l2'),\n",
        "    layers.Dropout(0.4),\n",
        "    layers.Dense(512, activation='elu', kernel_regularizer='l2'),\n",
        "    layers.Dropout(0.4),\n",
        "    layers.Dense(512, activation='elu', kernel_regularizer='l2'),\n",
        "    layers.Dropout(0.3),\n",
        "    layers.Dense(1)\n",
        "])\n",
        "compile_and_fit(model, max_epochs=1000)"
      ],
      "execution_count": 13,
      "outputs": [
        {
          "output_type": "stream",
          "name": "stdout",
          "text": [
            "Model: \"sequential_4\"\n",
            "_________________________________________________________________\n",
            " Layer (type)                Output Shape              Param #   \n",
            "=================================================================\n",
            " dense_20 (Dense)            (None, 512)               14848     \n",
            "                                                                 \n",
            " dropout_5 (Dropout)         (None, 512)               0         \n",
            "                                                                 \n",
            " dense_21 (Dense)            (None, 512)               262656    \n",
            "                                                                 \n",
            " dropout_6 (Dropout)         (None, 512)               0         \n",
            "                                                                 \n",
            " dense_22 (Dense)            (None, 512)               262656    \n",
            "                                                                 \n",
            " dropout_7 (Dropout)         (None, 512)               0         \n",
            "                                                                 \n",
            " dense_23 (Dense)            (None, 512)               262656    \n",
            "                                                                 \n",
            " dropout_8 (Dropout)         (None, 512)               0         \n",
            "                                                                 \n",
            " dense_24 (Dense)            (None, 512)               262656    \n",
            "                                                                 \n",
            " dropout_9 (Dropout)         (None, 512)               0         \n",
            "                                                                 \n",
            " dense_25 (Dense)            (None, 1)                 513       \n",
            "                                                                 \n",
            "=================================================================\n",
            "Total params: 1,065,985\n",
            "Trainable params: 1,065,985\n",
            "Non-trainable params: 0\n",
            "_________________________________________________________________\n",
            "\n",
            "Epoch: 0, accuracy:0.4913,  binary_crossentropy:0.7346,  loss:16.9743,  val_accuracy:0.4750,  val_binary_crossentropy:0.6811,  val_loss:12.0713,  \n",
            "....................................................................................................\n",
            "Epoch: 100, accuracy:0.5467,  binary_crossentropy:0.6522,  loss:0.6863,  val_accuracy:0.6060,  val_binary_crossentropy:0.6522,  val_loss:0.6879,  \n",
            "....................................................................................................\n",
            "Epoch: 200, accuracy:0.5529,  binary_crossentropy:0.6531,  loss:0.6868,  val_accuracy:0.5480,  val_binary_crossentropy:0.6485,  val_loss:0.6802,  \n",
            "....................................................................................................\n",
            "Epoch: 300, accuracy:0.5514,  binary_crossentropy:0.6540,  loss:0.6860,  val_accuracy:0.5650,  val_binary_crossentropy:0.6428,  val_loss:0.6744,  \n",
            "....................................................................................................\n",
            "Epoch: 400, accuracy:0.5520,  binary_crossentropy:0.6529,  loss:0.6836,  val_accuracy:0.5140,  val_binary_crossentropy:0.6506,  val_loss:0.6814,  \n",
            "....................................................................................................\n",
            "Epoch: 500, accuracy:0.5605,  binary_crossentropy:0.6517,  loss:0.6826,  val_accuracy:0.5420,  val_binary_crossentropy:0.6416,  val_loss:0.6727,  \n",
            "....................................................................................................\n",
            "Epoch: 600, accuracy:0.5600,  binary_crossentropy:0.6498,  loss:0.6784,  val_accuracy:0.5690,  val_binary_crossentropy:0.6503,  val_loss:0.6769,  \n",
            "....................................................................................................\n",
            "Epoch: 700, accuracy:0.5566,  binary_crossentropy:0.6556,  loss:0.6850,  val_accuracy:0.5310,  val_binary_crossentropy:0.6434,  val_loss:0.6747,  \n",
            "....................................................................................................\n",
            "Epoch: 800, accuracy:0.5543,  binary_crossentropy:0.6516,  loss:0.6878,  val_accuracy:0.5700,  val_binary_crossentropy:0.6394,  val_loss:0.6735,  \n",
            "....................................................................................................\n",
            "Epoch: 900, accuracy:0.5493,  binary_crossentropy:0.6528,  loss:0.6827,  val_accuracy:0.5950,  val_binary_crossentropy:0.6428,  val_loss:0.6720,  \n",
            "...................................................................................................."
          ]
        },
        {
          "output_type": "execute_result",
          "data": {
            "text/plain": [
              "<keras.callbacks.History at 0x7f10c0715e50>"
            ]
          },
          "metadata": {},
          "execution_count": 13
        }
      ]
    },
    {
      "cell_type": "markdown",
      "metadata": {
        "id": "sVCopf78T0IX"
      },
      "source": [
        "the model improvement is not satisfying. maybe that's because the droput probability is high."
      ]
    },
    {
      "cell_type": "code",
      "metadata": {
        "colab": {
          "base_uri": "https://localhost:8080/"
        },
        "id": "d9A6VSgQS9iu",
        "outputId": "651f8c5f-10ef-4cb1-ba32-beda81b08072"
      },
      "source": [
        "model = tf.keras.Sequential([\n",
        "    layers.Dense(512, activation='elu', input_shape=(FEATURES,), kernel_regularizer='l2'),\n",
        "    layers.Dropout(0.2),\n",
        "    layers.Dense(512, activation='elu', kernel_regularizer='l2'),\n",
        "    layers.Dropout(0.2), \n",
        "    layers.Dense(512, activation='elu', kernel_regularizer='l2'),\n",
        "    layers.Dropout(0.2),\n",
        "    layers.Dense(512, activation='elu', kernel_regularizer='l2'),\n",
        "    layers.Dropout(0.2),\n",
        "    layers.Dense(512, activation='elu', kernel_regularizer='l2'),\n",
        "    layers.Dropout(0.2),\n",
        "    layers.Dense(1)\n",
        "])\n",
        "compile_and_fit(model, max_epochs=1000)"
      ],
      "execution_count": 15,
      "outputs": [
        {
          "output_type": "stream",
          "name": "stdout",
          "text": [
            "Model: \"sequential_6\"\n",
            "_________________________________________________________________\n",
            " Layer (type)                Output Shape              Param #   \n",
            "=================================================================\n",
            " dense_32 (Dense)            (None, 512)               14848     \n",
            "                                                                 \n",
            " dropout_15 (Dropout)        (None, 512)               0         \n",
            "                                                                 \n",
            " dense_33 (Dense)            (None, 512)               262656    \n",
            "                                                                 \n",
            " dropout_16 (Dropout)        (None, 512)               0         \n",
            "                                                                 \n",
            " dense_34 (Dense)            (None, 512)               262656    \n",
            "                                                                 \n",
            " dropout_17 (Dropout)        (None, 512)               0         \n",
            "                                                                 \n",
            " dense_35 (Dense)            (None, 512)               262656    \n",
            "                                                                 \n",
            " dropout_18 (Dropout)        (None, 512)               0         \n",
            "                                                                 \n",
            " dense_36 (Dense)            (None, 512)               262656    \n",
            "                                                                 \n",
            " dropout_19 (Dropout)        (None, 512)               0         \n",
            "                                                                 \n",
            " dense_37 (Dense)            (None, 1)                 513       \n",
            "                                                                 \n",
            "=================================================================\n",
            "Total params: 1,065,985\n",
            "Trainable params: 1,065,985\n",
            "Non-trainable params: 0\n",
            "_________________________________________________________________\n",
            "\n",
            "Epoch: 0, accuracy:0.4914,  binary_crossentropy:0.7067,  loss:16.3141,  val_accuracy:0.4630,  val_binary_crossentropy:0.6782,  val_loss:11.1266,  \n",
            "....................................................................................................\n",
            "Epoch: 100, accuracy:0.5577,  binary_crossentropy:0.6473,  loss:0.6787,  val_accuracy:0.5330,  val_binary_crossentropy:0.6471,  val_loss:0.6758,  \n",
            "....................................................................................................\n",
            "Epoch: 200, accuracy:0.5602,  binary_crossentropy:0.6474,  loss:0.6751,  val_accuracy:0.5330,  val_binary_crossentropy:0.6428,  val_loss:0.6704,  \n",
            "....................................................................................................\n",
            "Epoch: 300, accuracy:0.5582,  binary_crossentropy:0.6465,  loss:0.6721,  val_accuracy:0.5820,  val_binary_crossentropy:0.6370,  val_loss:0.6632,  \n",
            "....................................................................................................\n",
            "Epoch: 400, accuracy:0.5650,  binary_crossentropy:0.6502,  loss:0.7831,  val_accuracy:0.5030,  val_binary_crossentropy:0.6615,  val_loss:0.7923,  \n",
            "....................................................................................................\n",
            "Epoch: 500, accuracy:0.5574,  binary_crossentropy:0.6443,  loss:0.6722,  val_accuracy:0.5550,  val_binary_crossentropy:0.6388,  val_loss:0.6673,  \n",
            "......"
          ]
        },
        {
          "output_type": "execute_result",
          "data": {
            "text/plain": [
              "<keras.callbacks.History at 0x7f10c0710fd0>"
            ]
          },
          "metadata": {},
          "execution_count": 15
        }
      ]
    },
    {
      "cell_type": "markdown",
      "metadata": {
        "id": "oGkv2VWsUiru"
      },
      "source": [
        "we didn,t have big difference here. but again we can't reach the accuracy of the first simple model. maybe our model is very complex. so we decrease number of hidden layers, and increase the probability of dropout again."
      ]
    },
    {
      "cell_type": "code",
      "metadata": {
        "colab": {
          "base_uri": "https://localhost:8080/"
        },
        "id": "xRoMH7KpUHjc",
        "outputId": "bd8d095d-2dad-4288-effe-75253fe6baab"
      },
      "source": [
        "model = tf.keras.Sequential([\n",
        "    layers.Dense(512, activation='elu', input_shape=(FEATURES,), kernel_regularizer='l2'),\n",
        "    layers.Dropout(0.2),\n",
        "    layers.Dense(512, activation='elu', kernel_regularizer='l2'),\n",
        "    layers.Dropout(0.2), \n",
        "    layers.Dense(512, activation='elu', kernel_regularizer='l2'),\n",
        "    layers.Dropout(0.2),\n",
        "    layers.Dense(1)\n",
        "])\n",
        "compile_and_fit(model, max_epochs=1000)"
      ],
      "execution_count": 16,
      "outputs": [
        {
          "output_type": "stream",
          "name": "stdout",
          "text": [
            "Model: \"sequential_7\"\n",
            "_________________________________________________________________\n",
            " Layer (type)                Output Shape              Param #   \n",
            "=================================================================\n",
            " dense_38 (Dense)            (None, 512)               14848     \n",
            "                                                                 \n",
            " dropout_20 (Dropout)        (None, 512)               0         \n",
            "                                                                 \n",
            " dense_39 (Dense)            (None, 512)               262656    \n",
            "                                                                 \n",
            " dropout_21 (Dropout)        (None, 512)               0         \n",
            "                                                                 \n",
            " dense_40 (Dense)            (None, 512)               262656    \n",
            "                                                                 \n",
            " dropout_22 (Dropout)        (None, 512)               0         \n",
            "                                                                 \n",
            " dense_41 (Dense)            (None, 1)                 513       \n",
            "                                                                 \n",
            "=================================================================\n",
            "Total params: 540,673\n",
            "Trainable params: 540,673\n",
            "Non-trainable params: 0\n",
            "_________________________________________________________________\n",
            "\n",
            "Epoch: 0, accuracy:0.5057,  binary_crossentropy:0.7255,  loss:9.2436,  val_accuracy:0.4940,  val_binary_crossentropy:0.6706,  val_loss:6.8758,  \n",
            "....................................................................................................\n",
            "Epoch: 100, accuracy:0.5587,  binary_crossentropy:0.6487,  loss:0.6657,  val_accuracy:0.5490,  val_binary_crossentropy:0.6404,  val_loss:0.6597,  \n",
            "....................................................................................................\n",
            "Epoch: 200, accuracy:0.5658,  binary_crossentropy:0.6429,  loss:0.6591,  val_accuracy:0.5400,  val_binary_crossentropy:0.6404,  val_loss:0.6565,  \n",
            "....................................................................................................\n",
            "Epoch: 300, accuracy:0.5601,  binary_crossentropy:0.6453,  loss:0.6601,  val_accuracy:0.5660,  val_binary_crossentropy:0.6389,  val_loss:0.6528,  \n",
            "....................................................................................................\n",
            "Epoch: 400, accuracy:0.5643,  binary_crossentropy:0.6459,  loss:0.6613,  val_accuracy:0.5610,  val_binary_crossentropy:0.6365,  val_loss:0.6533,  \n",
            "....................................................................................................\n",
            "Epoch: 500, accuracy:0.5638,  binary_crossentropy:0.6430,  loss:0.6556,  val_accuracy:0.5550,  val_binary_crossentropy:0.6352,  val_loss:0.6477,  \n",
            "....................................................................................................\n",
            "Epoch: 600, accuracy:0.5731,  binary_crossentropy:0.6426,  loss:0.6557,  val_accuracy:0.5580,  val_binary_crossentropy:0.6363,  val_loss:0.6484,  \n",
            "....................................................................................................\n",
            "Epoch: 700, accuracy:0.5673,  binary_crossentropy:0.6432,  loss:0.6553,  val_accuracy:0.5930,  val_binary_crossentropy:0.6345,  val_loss:0.6467,  \n",
            "....................................................................................................\n",
            "Epoch: 800, accuracy:0.5670,  binary_crossentropy:0.6464,  loss:0.6668,  val_accuracy:0.5770,  val_binary_crossentropy:0.6377,  val_loss:0.6568,  \n",
            "........"
          ]
        },
        {
          "output_type": "execute_result",
          "data": {
            "text/plain": [
              "<keras.callbacks.History at 0x7f10b637d750>"
            ]
          },
          "metadata": {},
          "execution_count": 16
        }
      ]
    },
    {
      "cell_type": "markdown",
      "metadata": {
        "id": "bKhK4MiNWhBA"
      },
      "source": [
        "we have the problem of underfitting just like before models. as we decrease the dropout rate and it didnt help, we can decrease alpha of kernel regularizer to see what happens.\n",
        "\n",
        "reducing number of hidden layers didn't have a big effect on results. so we can get them back."
      ]
    },
    {
      "cell_type": "code",
      "metadata": {
        "colab": {
          "base_uri": "https://localhost:8080/"
        },
        "id": "bQ7CM9BpV-N6",
        "outputId": "fc33aa6e-c448-47ac-ea02-c5b0455320aa"
      },
      "source": [
        "model = tf.keras.Sequential([\n",
        "    layers.Dense(512, activation='elu', input_shape=(FEATURES,), kernel_regularizer=regularizers.L2(0.0001)),\n",
        "    layers.Dropout(0.2),\n",
        "    layers.Dense(512, activation='elu', kernel_regularizer=regularizers.L2(0.0001)),\n",
        "    layers.Dropout(0.2), \n",
        "    layers.Dense(512, activation='elu', kernel_regularizer=regularizers.L2(0.0001)),\n",
        "    layers.Dropout(0.2),\n",
        "    layers.Dense(512, activation='elu', kernel_regularizer=regularizers.L2(0.0001)),\n",
        "    layers.Dropout(0.2),\n",
        "    layers.Dense(512, activation='elu', kernel_regularizer=regularizers.L2(0.0001)),\n",
        "    layers.Dropout(0.2),\n",
        "    layers.Dense(1)\n",
        "])\n",
        "compile_and_fit(model, max_epochs=1000)"
      ],
      "execution_count": 17,
      "outputs": [
        {
          "output_type": "stream",
          "name": "stdout",
          "text": [
            "Model: \"sequential_8\"\n",
            "_________________________________________________________________\n",
            " Layer (type)                Output Shape              Param #   \n",
            "=================================================================\n",
            " dense_42 (Dense)            (None, 512)               14848     \n",
            "                                                                 \n",
            " dropout_23 (Dropout)        (None, 512)               0         \n",
            "                                                                 \n",
            " dense_43 (Dense)            (None, 512)               262656    \n",
            "                                                                 \n",
            " dropout_24 (Dropout)        (None, 512)               0         \n",
            "                                                                 \n",
            " dense_44 (Dense)            (None, 512)               262656    \n",
            "                                                                 \n",
            " dropout_25 (Dropout)        (None, 512)               0         \n",
            "                                                                 \n",
            " dense_45 (Dense)            (None, 512)               262656    \n",
            "                                                                 \n",
            " dropout_26 (Dropout)        (None, 512)               0         \n",
            "                                                                 \n",
            " dense_46 (Dense)            (None, 512)               262656    \n",
            "                                                                 \n",
            " dropout_27 (Dropout)        (None, 512)               0         \n",
            "                                                                 \n",
            " dense_47 (Dense)            (None, 1)                 513       \n",
            "                                                                 \n",
            "=================================================================\n",
            "Total params: 1,065,985\n",
            "Trainable params: 1,065,985\n",
            "Non-trainable params: 0\n",
            "_________________________________________________________________\n",
            "\n",
            "Epoch: 0, accuracy:0.5034,  binary_crossentropy:0.8077,  loss:1.0169,  val_accuracy:0.4800,  val_binary_crossentropy:0.6802,  val_loss:0.8884,  \n",
            "....................................................................................................\n",
            "Epoch: 100, accuracy:0.6949,  binary_crossentropy:0.5538,  loss:0.5990,  val_accuracy:0.6760,  val_binary_crossentropy:0.5860,  val_loss:0.6313,  \n",
            "....................................................................................................\n",
            "Epoch: 200, accuracy:0.7652,  binary_crossentropy:0.4533,  loss:0.5400,  val_accuracy:0.6810,  val_binary_crossentropy:0.6535,  val_loss:0.7408,  \n",
            "....................................................................................................\n",
            "Epoch: 300, accuracy:0.9060,  binary_crossentropy:0.2178,  loss:0.3986,  val_accuracy:0.6700,  val_binary_crossentropy:0.9593,  val_loss:1.1404,  \n",
            "........."
          ]
        },
        {
          "output_type": "execute_result",
          "data": {
            "text/plain": [
              "<keras.callbacks.History at 0x7f10ba189d90>"
            ]
          },
          "metadata": {},
          "execution_count": 17
        }
      ]
    },
    {
      "cell_type": "markdown",
      "metadata": {
        "id": "K3A-rXaZYtwb"
      },
      "source": [
        "the model overfitted. we can use another kernel regularizer and we can increase the dropout rate a little.\n",
        "\n",
        "a combination of L2 and L1 can be reasonable."
      ]
    },
    {
      "cell_type": "code",
      "metadata": {
        "colab": {
          "base_uri": "https://localhost:8080/"
        },
        "id": "iYolukDvYNft",
        "outputId": "d38d5efc-f67d-4b8c-cd97-d40b7c86cb9a"
      },
      "source": [
        "model = tf.keras.Sequential([\n",
        "    layers.Dense(512, activation='elu', input_shape=(FEATURES,), kernel_regularizer=regularizers.L1L2(0.0001)),\n",
        "    layers.Dropout(0.3),\n",
        "    layers.Dense(512, activation='elu', kernel_regularizer=regularizers.L1L2(0.0001)),\n",
        "    layers.Dropout(0.3), \n",
        "    layers.Dense(512, activation='elu', kernel_regularizer=regularizers.L1L2(0.0001)),\n",
        "    layers.Dropout(0.3),\n",
        "    layers.Dense(512, activation='elu', kernel_regularizer=regularizers.L1L2(0.0001)),\n",
        "    layers.Dropout(0.3),\n",
        "    layers.Dense(512, activation='elu', kernel_regularizer=regularizers.L1L2(0.0001)),\n",
        "    layers.Dropout(0.3),\n",
        "    layers.Dense(1)\n",
        "])\n",
        "compile_and_fit(model, max_epochs=1000)"
      ],
      "execution_count": 20,
      "outputs": [
        {
          "output_type": "stream",
          "name": "stdout",
          "text": [
            "Model: \"sequential_11\"\n",
            "_________________________________________________________________\n",
            " Layer (type)                Output Shape              Param #   \n",
            "=================================================================\n",
            " dense_60 (Dense)            (None, 512)               14848     \n",
            "                                                                 \n",
            " dropout_38 (Dropout)        (None, 512)               0         \n",
            "                                                                 \n",
            " dense_61 (Dense)            (None, 512)               262656    \n",
            "                                                                 \n",
            " dropout_39 (Dropout)        (None, 512)               0         \n",
            "                                                                 \n",
            " dense_62 (Dense)            (None, 512)               262656    \n",
            "                                                                 \n",
            " dropout_40 (Dropout)        (None, 512)               0         \n",
            "                                                                 \n",
            " dense_63 (Dense)            (None, 512)               262656    \n",
            "                                                                 \n",
            " dropout_41 (Dropout)        (None, 512)               0         \n",
            "                                                                 \n",
            " dense_64 (Dense)            (None, 512)               262656    \n",
            "                                                                 \n",
            " dropout_42 (Dropout)        (None, 512)               0         \n",
            "                                                                 \n",
            " dense_65 (Dense)            (None, 1)                 513       \n",
            "                                                                 \n",
            "=================================================================\n",
            "Total params: 1,065,985\n",
            "Trainable params: 1,065,985\n",
            "Non-trainable params: 0\n",
            "_________________________________________________________________\n",
            "\n",
            "Epoch: 0, accuracy:0.4943,  binary_crossentropy:0.7752,  loss:4.7430,  val_accuracy:0.4800,  val_binary_crossentropy:0.6839,  val_loss:4.5102,  \n",
            "....................................................................................................\n",
            "Epoch: 100, accuracy:0.5769,  binary_crossentropy:0.6396,  loss:0.6648,  val_accuracy:0.5780,  val_binary_crossentropy:0.6257,  val_loss:0.6509,  \n",
            "....................................................................................................\n",
            "Epoch: 200, accuracy:0.5760,  binary_crossentropy:0.6373,  loss:0.6626,  val_accuracy:0.5990,  val_binary_crossentropy:0.6160,  val_loss:0.6411,  \n",
            "....................................................................................................\n",
            "Epoch: 300, accuracy:0.5904,  binary_crossentropy:0.6305,  loss:0.6558,  val_accuracy:0.6110,  val_binary_crossentropy:0.6118,  val_loss:0.6370,  \n",
            "....................................................................................................\n",
            "Epoch: 400, accuracy:0.6030,  binary_crossentropy:0.6272,  loss:0.6554,  val_accuracy:0.6170,  val_binary_crossentropy:0.6029,  val_loss:0.6313,  \n",
            "....................................................................................................\n",
            "Epoch: 500, accuracy:0.6128,  binary_crossentropy:0.6244,  loss:0.6516,  val_accuracy:0.6500,  val_binary_crossentropy:0.5948,  val_loss:0.6220,  \n",
            "....................................................................................................\n",
            "Epoch: 600, accuracy:0.6305,  binary_crossentropy:0.6216,  loss:0.6502,  val_accuracy:0.6520,  val_binary_crossentropy:0.5877,  val_loss:0.6162,  \n",
            "....................................................................................................\n",
            "Epoch: 700, accuracy:0.6470,  binary_crossentropy:0.6190,  loss:0.6485,  val_accuracy:0.6680,  val_binary_crossentropy:0.5833,  val_loss:0.6127,  \n",
            "....................................................................................................\n",
            "Epoch: 800, accuracy:0.6540,  binary_crossentropy:0.6150,  loss:0.6447,  val_accuracy:0.6620,  val_binary_crossentropy:0.5830,  val_loss:0.6128,  \n",
            "....................................................................................................\n",
            "Epoch: 900, accuracy:0.6582,  binary_crossentropy:0.6143,  loss:0.6438,  val_accuracy:0.6760,  val_binary_crossentropy:0.5822,  val_loss:0.6118,  \n",
            "......................................................................................."
          ]
        },
        {
          "output_type": "execute_result",
          "data": {
            "text/plain": [
              "<keras.callbacks.History at 0x7f10aff33f90>"
            ]
          },
          "metadata": {},
          "execution_count": 20
        }
      ]
    },
    {
      "cell_type": "markdown",
      "metadata": {
        "id": "U1kFTaGUaHPH"
      },
      "source": [
        "this isn't a bad result. this time we try to get better results by changing our optimizer. as we learned that sometimes SGD can achieve better results than Adam."
      ]
    },
    {
      "cell_type": "code",
      "metadata": {
        "colab": {
          "base_uri": "https://localhost:8080/"
        },
        "id": "9WG3DBA3Ynd9",
        "outputId": "f90991f8-bf1a-4d2e-8443-f7893e906fad"
      },
      "source": [
        "def compile_and_fit(model, max_epochs=10000):\n",
        "  model.compile(optimizer=tf.keras.optimizers.SGD(),\n",
        "                loss=tf.keras.losses.BinaryCrossentropy(from_logits=True),\n",
        "                metrics=[\n",
        "                  tf.keras.losses.BinaryCrossentropy(\n",
        "                      from_logits=True, name='binary_crossentropy'),\n",
        "                  'accuracy'])\n",
        "\n",
        "  model.summary()\n",
        "\n",
        "  history = model.fit(\n",
        "    train_ds,\n",
        "    steps_per_epoch = STEPS_PER_EPOCH,\n",
        "    epochs=max_epochs,\n",
        "    validation_data=validate_ds,\n",
        "    callbacks=get_callbacks(),\n",
        "    verbose=0)\n",
        "  return history\n",
        "\n",
        "model = tf.keras.Sequential([\n",
        "    layers.Dense(512, activation='elu', input_shape=(FEATURES,), kernel_regularizer=regularizers.L1L2(0.0001)),\n",
        "    layers.Dropout(0.3),\n",
        "    layers.Dense(512, activation='elu', kernel_regularizer=regularizers.L1L2(0.0001)),\n",
        "    layers.Dropout(0.3), \n",
        "    layers.Dense(512, activation='elu', kernel_regularizer=regularizers.L1L2(0.0001)),\n",
        "    layers.Dropout(0.3),\n",
        "    layers.Dense(512, activation='elu', kernel_regularizer=regularizers.L1L2(0.0001)),\n",
        "    layers.Dropout(0.3),\n",
        "    layers.Dense(512, activation='elu', kernel_regularizer=regularizers.L1L2(0.0001)),\n",
        "    layers.Dropout(0.3),\n",
        "    layers.Dense(1)\n",
        "])\n",
        "\n",
        "compile_and_fit(model, max_epochs=1000)"
      ],
      "execution_count": 22,
      "outputs": [
        {
          "output_type": "stream",
          "name": "stdout",
          "text": [
            "Model: \"sequential_12\"\n",
            "_________________________________________________________________\n",
            " Layer (type)                Output Shape              Param #   \n",
            "=================================================================\n",
            " dense_66 (Dense)            (None, 512)               14848     \n",
            "                                                                 \n",
            " dropout_43 (Dropout)        (None, 512)               0         \n",
            "                                                                 \n",
            " dense_67 (Dense)            (None, 512)               262656    \n",
            "                                                                 \n",
            " dropout_44 (Dropout)        (None, 512)               0         \n",
            "                                                                 \n",
            " dense_68 (Dense)            (None, 512)               262656    \n",
            "                                                                 \n",
            " dropout_45 (Dropout)        (None, 512)               0         \n",
            "                                                                 \n",
            " dense_69 (Dense)            (None, 512)               262656    \n",
            "                                                                 \n",
            " dropout_46 (Dropout)        (None, 512)               0         \n",
            "                                                                 \n",
            " dense_70 (Dense)            (None, 512)               262656    \n",
            "                                                                 \n",
            " dropout_47 (Dropout)        (None, 512)               0         \n",
            "                                                                 \n",
            " dense_71 (Dense)            (None, 1)                 513       \n",
            "                                                                 \n",
            "=================================================================\n",
            "Total params: 1,065,985\n",
            "Trainable params: 1,065,985\n",
            "Non-trainable params: 0\n",
            "_________________________________________________________________\n",
            "\n",
            "Epoch: 0, accuracy:0.4825,  binary_crossentropy:0.7379,  loss:4.8227,  val_accuracy:0.4630,  val_binary_crossentropy:0.6881,  val_loss:4.7718,  \n",
            "....................................................................................................\n",
            "Epoch: 100, accuracy:0.5557,  binary_crossentropy:0.6610,  loss:4.5330,  val_accuracy:0.5600,  val_binary_crossentropy:0.6486,  val_loss:4.5195,  \n",
            "....................................................................................................\n",
            "Epoch: 200, accuracy:0.5682,  binary_crossentropy:0.6523,  loss:4.3191,  val_accuracy:0.5670,  val_binary_crossentropy:0.6426,  val_loss:4.3083,  \n",
            "....................................................................................................\n",
            "Epoch: 300, accuracy:0.5694,  binary_crossentropy:0.6497,  loss:4.1174,  val_accuracy:0.5690,  val_binary_crossentropy:0.6393,  val_loss:4.1060,  \n",
            "....................................................................................................\n",
            "Epoch: 400, accuracy:0.5716,  binary_crossentropy:0.6478,  loss:3.9224,  val_accuracy:0.5700,  val_binary_crossentropy:0.6370,  val_loss:3.9105,  \n",
            "....................................................................................................\n",
            "Epoch: 500, accuracy:0.5790,  binary_crossentropy:0.6435,  loss:3.7305,  val_accuracy:0.5640,  val_binary_crossentropy:0.6353,  val_loss:3.7214,  \n",
            "....................................................................................................\n",
            "Epoch: 600, accuracy:0.5775,  binary_crossentropy:0.6405,  loss:3.5458,  val_accuracy:0.5720,  val_binary_crossentropy:0.6335,  val_loss:3.5379,  \n",
            "....................................................................................................\n",
            "Epoch: 700, accuracy:0.5781,  binary_crossentropy:0.6415,  loss:3.3707,  val_accuracy:0.5640,  val_binary_crossentropy:0.6323,  val_loss:3.3605,  \n",
            "....................................................................................................\n",
            "Epoch: 800, accuracy:0.5779,  binary_crossentropy:0.6406,  loss:3.1992,  val_accuracy:0.5730,  val_binary_crossentropy:0.6309,  val_loss:3.1886,  \n",
            "....................................................................................................\n",
            "Epoch: 900, accuracy:0.5816,  binary_crossentropy:0.6404,  loss:3.0341,  val_accuracy:0.5710,  val_binary_crossentropy:0.6299,  val_loss:3.0227,  \n",
            "...................................................................................................."
          ]
        },
        {
          "output_type": "execute_result",
          "data": {
            "text/plain": [
              "<keras.callbacks.History at 0x7f10afa011d0>"
            ]
          },
          "metadata": {},
          "execution_count": 22
        }
      ]
    },
    {
      "cell_type": "markdown",
      "metadata": {
        "id": "IblMj5hebM-s"
      },
      "source": [
        "you can see the results where better using adam optimizer. so we don't change that.\n",
        "\n",
        "using elu the value of layer doesn't get high but with relu they can. so mabe that can increase our accuracy."
      ]
    },
    {
      "cell_type": "code",
      "metadata": {
        "colab": {
          "base_uri": "https://localhost:8080/"
        },
        "id": "NsLgMFNSahJJ",
        "outputId": "b4131495-2fec-44ea-d62d-f4391bf27ac6"
      },
      "source": [
        "def compile_and_fit(model, max_epochs=10000):\n",
        "  model.compile(optimizer=\"adam\",\n",
        "                loss=tf.keras.losses.BinaryCrossentropy(from_logits=True),\n",
        "                metrics=[\n",
        "                  tf.keras.losses.BinaryCrossentropy(\n",
        "                      from_logits=True, name='binary_crossentropy'),\n",
        "                  'accuracy'])\n",
        "\n",
        "  model.summary()\n",
        "\n",
        "  history = model.fit(\n",
        "    train_ds,\n",
        "    steps_per_epoch = STEPS_PER_EPOCH,\n",
        "    epochs=max_epochs,\n",
        "    validation_data=validate_ds,\n",
        "    callbacks=get_callbacks(),\n",
        "    verbose=0)\n",
        "  return history\n",
        "\n",
        "model = tf.keras.Sequential([\n",
        "    layers.Dense(512, activation='relu', input_shape=(FEATURES,), kernel_regularizer=regularizers.L1L2(0.0001)),\n",
        "    layers.Dropout(0.3),\n",
        "    layers.Dense(512, activation='relu', kernel_regularizer=regularizers.L1L2(0.0001)),\n",
        "    layers.Dropout(0.3), \n",
        "    layers.Dense(512, activation='relu', kernel_regularizer=regularizers.L1L2(0.0001)),\n",
        "    layers.Dropout(0.3),\n",
        "    layers.Dense(512, activation='relu', kernel_regularizer=regularizers.L1L2(0.0001)),\n",
        "    layers.Dropout(0.3),\n",
        "    layers.Dense(512, activation='relu', kernel_regularizer=regularizers.L1L2(0.0001)),\n",
        "    layers.Dropout(0.3),\n",
        "    layers.Dense(1)\n",
        "])\n",
        "\n",
        "compile_and_fit(model, max_epochs=1000)"
      ],
      "execution_count": 31,
      "outputs": [
        {
          "output_type": "stream",
          "name": "stdout",
          "text": [
            "Model: \"sequential_15\"\n",
            "_________________________________________________________________\n",
            " Layer (type)                Output Shape              Param #   \n",
            "=================================================================\n",
            " dense_88 (Dense)            (None, 512)               14848     \n",
            "                                                                 \n",
            " dropout_60 (Dropout)        (None, 512)               0         \n",
            "                                                                 \n",
            " dense_89 (Dense)            (None, 512)               262656    \n",
            "                                                                 \n",
            " dropout_61 (Dropout)        (None, 512)               0         \n",
            "                                                                 \n",
            " dense_90 (Dense)            (None, 512)               262656    \n",
            "                                                                 \n",
            " dropout_62 (Dropout)        (None, 512)               0         \n",
            "                                                                 \n",
            " dense_91 (Dense)            (None, 512)               262656    \n",
            "                                                                 \n",
            " dropout_63 (Dropout)        (None, 512)               0         \n",
            "                                                                 \n",
            " dense_92 (Dense)            (None, 512)               262656    \n",
            "                                                                 \n",
            " dropout_64 (Dropout)        (None, 512)               0         \n",
            "                                                                 \n",
            " dense_93 (Dense)            (None, 1)                 513       \n",
            "                                                                 \n",
            "=================================================================\n",
            "Total params: 1,065,985\n",
            "Trainable params: 1,065,985\n",
            "Non-trainable params: 0\n",
            "_________________________________________________________________\n",
            "\n",
            "Epoch: 0, accuracy:0.4755,  binary_crossentropy:0.6938,  loss:4.2119,  val_accuracy:0.4600,  val_binary_crossentropy:0.6962,  val_loss:3.5889,  \n",
            "....................................................................................................\n",
            "Epoch: 100, accuracy:0.7285,  binary_crossentropy:0.5245,  loss:0.5977,  val_accuracy:0.6660,  val_binary_crossentropy:0.6150,  val_loss:0.6883,  \n",
            "....................................................................................................\n",
            "Epoch: 200, accuracy:0.7788,  binary_crossentropy:0.4515,  loss:0.5398,  val_accuracy:0.6620,  val_binary_crossentropy:0.6591,  val_loss:0.7473,  \n",
            "......................................"
          ]
        },
        {
          "output_type": "execute_result",
          "data": {
            "text/plain": [
              "<keras.callbacks.History at 0x7f10bdb02d50>"
            ]
          },
          "metadata": {},
          "execution_count": 31
        }
      ]
    },
    {
      "cell_type": "markdown",
      "metadata": {
        "id": "4EMJPGaBeUmg"
      },
      "source": [
        "training accuracy improved. but the model overfitted. so we can increase the rate of dropout again :)"
      ]
    },
    {
      "cell_type": "code",
      "metadata": {
        "colab": {
          "base_uri": "https://localhost:8080/"
        },
        "id": "adYC9YPzbvnJ",
        "outputId": "fbacae29-cf2e-478c-fdc4-aa45216b1796"
      },
      "source": [
        "model = tf.keras.Sequential([\n",
        "    layers.Dense(512, activation='relu', input_shape=(FEATURES,), kernel_regularizer=regularizers.L1L2(0.0001)),\n",
        "    layers.Dropout(0.5),\n",
        "    layers.Dense(512, activation='relu', kernel_regularizer=regularizers.L1L2(0.0001)),\n",
        "    layers.Dropout(0.5), \n",
        "    layers.Dense(512, activation='relu', kernel_regularizer=regularizers.L1L2(0.0001)),\n",
        "    layers.Dropout(0.5),\n",
        "    layers.Dense(512, activation='relu', kernel_regularizer=regularizers.L1L2(0.0001)),\n",
        "    layers.Dropout(0.5),\n",
        "    layers.Dense(512, activation='relu', kernel_regularizer=regularizers.L1L2(0.0001)),\n",
        "    layers.Dropout(0.5),\n",
        "    layers.Dense(1)\n",
        "])\n",
        "\n",
        "compile_and_fit(model, max_epochs=1000)"
      ],
      "execution_count": 34,
      "outputs": [
        {
          "output_type": "stream",
          "name": "stdout",
          "text": [
            "Model: \"sequential_18\"\n",
            "_________________________________________________________________\n",
            " Layer (type)                Output Shape              Param #   \n",
            "=================================================================\n",
            " dense_106 (Dense)           (None, 512)               14848     \n",
            "                                                                 \n",
            " dropout_75 (Dropout)        (None, 512)               0         \n",
            "                                                                 \n",
            " dense_107 (Dense)           (None, 512)               262656    \n",
            "                                                                 \n",
            " dropout_76 (Dropout)        (None, 512)               0         \n",
            "                                                                 \n",
            " dense_108 (Dense)           (None, 512)               262656    \n",
            "                                                                 \n",
            " dropout_77 (Dropout)        (None, 512)               0         \n",
            "                                                                 \n",
            " dense_109 (Dense)           (None, 512)               262656    \n",
            "                                                                 \n",
            " dropout_78 (Dropout)        (None, 512)               0         \n",
            "                                                                 \n",
            " dense_110 (Dense)           (None, 512)               262656    \n",
            "                                                                 \n",
            " dropout_79 (Dropout)        (None, 512)               0         \n",
            "                                                                 \n",
            " dense_111 (Dense)           (None, 1)                 513       \n",
            "                                                                 \n",
            "=================================================================\n",
            "Total params: 1,065,985\n",
            "Trainable params: 1,065,985\n",
            "Non-trainable params: 0\n",
            "_________________________________________________________________\n",
            "\n",
            "Epoch: 0, accuracy:0.4791,  binary_crossentropy:0.7088,  loss:0.9157,  val_accuracy:0.4600,  val_binary_crossentropy:0.6923,  val_loss:0.8950,  \n",
            "....................................................................................................\n",
            "Epoch: 100, accuracy:0.8053,  binary_crossentropy:0.4049,  loss:0.4739,  val_accuracy:0.6500,  val_binary_crossentropy:0.6985,  val_loss:0.7677,  \n",
            "....................................................................................................\n",
            "Epoch: 200, accuracy:0.8630,  binary_crossentropy:0.3037,  loss:0.3936,  val_accuracy:0.6390,  val_binary_crossentropy:0.7947,  val_loss:0.8846,  \n",
            ".........................................."
          ]
        },
        {
          "output_type": "execute_result",
          "data": {
            "text/plain": [
              "<keras.callbacks.History at 0x7f10af78a550>"
            ]
          },
          "metadata": {},
          "execution_count": 34
        }
      ]
    },
    {
      "cell_type": "markdown",
      "metadata": {
        "id": "vw0ys4vQgf7U"
      },
      "source": [
        "as we overfit again, maybe change the kernel regularizer to L1 sill help us because it is stronger than L2."
      ]
    },
    {
      "cell_type": "code",
      "metadata": {
        "colab": {
          "base_uri": "https://localhost:8080/"
        },
        "id": "wb6XA9cHevXZ",
        "outputId": "b70141e3-7150-45e7-c407-fdeb133e6388"
      },
      "source": [
        "model = tf.keras.Sequential([\n",
        "    layers.Dense(512, activation='relu', input_shape=(FEATURES,), kernel_regularizer=regularizers.L1(0.0001)),\n",
        "    layers.Dropout(0.5),\n",
        "    layers.Dense(512, activation='relu', kernel_regularizer=regularizers.L1(0.0001)),\n",
        "    layers.Dropout(0.5), \n",
        "    layers.Dense(512, activation='relu', kernel_regularizer=regularizers.L1(0.0001)),\n",
        "    layers.Dropout(0.5),\n",
        "    layers.Dense(512, activation='relu', kernel_regularizer=regularizers.L1(0.0001)),\n",
        "    layers.Dropout(0.5),\n",
        "    layers.Dense(512, activation='relu', kernel_regularizer=regularizers.L1(0.0001)),\n",
        "    layers.Dropout(0.5),\n",
        "    layers.Dense(1)\n",
        "])\n",
        "\n",
        "compile_and_fit(model, max_epochs=1000)"
      ],
      "execution_count": 38,
      "outputs": [
        {
          "output_type": "stream",
          "name": "stdout",
          "text": [
            "Model: \"sequential_22\"\n",
            "_________________________________________________________________\n",
            " Layer (type)                Output Shape              Param #   \n",
            "=================================================================\n",
            " dense_130 (Dense)           (None, 512)               14848     \n",
            "                                                                 \n",
            " dropout_95 (Dropout)        (None, 512)               0         \n",
            "                                                                 \n",
            " dense_131 (Dense)           (None, 512)               262656    \n",
            "                                                                 \n",
            " dropout_96 (Dropout)        (None, 512)               0         \n",
            "                                                                 \n",
            " dense_132 (Dense)           (None, 512)               262656    \n",
            "                                                                 \n",
            " dropout_97 (Dropout)        (None, 512)               0         \n",
            "                                                                 \n",
            " dense_133 (Dense)           (None, 512)               262656    \n",
            "                                                                 \n",
            " dropout_98 (Dropout)        (None, 512)               0         \n",
            "                                                                 \n",
            " dense_134 (Dense)           (None, 512)               262656    \n",
            "                                                                 \n",
            " dropout_99 (Dropout)        (None, 512)               0         \n",
            "                                                                 \n",
            " dense_135 (Dense)           (None, 1)                 513       \n",
            "                                                                 \n",
            "=================================================================\n",
            "Total params: 1,065,985\n",
            "Trainable params: 1,065,985\n",
            "Non-trainable params: 0\n",
            "_________________________________________________________________\n",
            "\n",
            "Epoch: 0, accuracy:0.5046,  binary_crossentropy:0.8231,  loss:4.8295,  val_accuracy:0.4670,  val_binary_crossentropy:0.6902,  val_loss:4.5954,  \n",
            "....................................................................................................\n",
            "Epoch: 100, accuracy:0.5701,  binary_crossentropy:0.6475,  loss:0.6749,  val_accuracy:0.5470,  val_binary_crossentropy:0.6314,  val_loss:0.6587,  \n",
            "....................................................................................................\n",
            "Epoch: 200, accuracy:0.5672,  binary_crossentropy:0.6442,  loss:0.6701,  val_accuracy:0.5680,  val_binary_crossentropy:0.6270,  val_loss:0.6527,  \n",
            "....................................................................................................\n",
            "Epoch: 300, accuracy:0.5612,  binary_crossentropy:0.6455,  loss:0.6712,  val_accuracy:0.5780,  val_binary_crossentropy:0.6242,  val_loss:0.6501,  \n",
            "....................................................................................................\n",
            "Epoch: 400, accuracy:0.5629,  binary_crossentropy:0.6452,  loss:0.6724,  val_accuracy:0.5810,  val_binary_crossentropy:0.6242,  val_loss:0.6515,  \n",
            "....................................................................................................\n",
            "Epoch: 500, accuracy:0.5654,  binary_crossentropy:0.6412,  loss:0.6680,  val_accuracy:0.5820,  val_binary_crossentropy:0.6216,  val_loss:0.6485,  \n",
            "....................................................................................................\n",
            "Epoch: 600, accuracy:0.5663,  binary_crossentropy:0.6423,  loss:0.6688,  val_accuracy:0.5950,  val_binary_crossentropy:0.6193,  val_loss:0.6460,  \n",
            "....................................................................................................\n",
            "Epoch: 700, accuracy:0.5796,  binary_crossentropy:0.6388,  loss:0.6671,  val_accuracy:0.5790,  val_binary_crossentropy:0.6182,  val_loss:0.6465,  \n",
            "....................................................................................................\n",
            "Epoch: 800, accuracy:0.5804,  binary_crossentropy:0.6388,  loss:0.6691,  val_accuracy:0.6140,  val_binary_crossentropy:0.6133,  val_loss:0.6434,  \n",
            "....................................................................................................\n",
            "Epoch: 900, accuracy:0.5842,  binary_crossentropy:0.6359,  loss:0.6665,  val_accuracy:0.6000,  val_binary_crossentropy:0.6149,  val_loss:0.6455,  \n",
            "...................................................................................................."
          ]
        },
        {
          "output_type": "execute_result",
          "data": {
            "text/plain": [
              "<keras.callbacks.History at 0x7f10ac2b3850>"
            ]
          },
          "metadata": {},
          "execution_count": 38
        }
      ]
    },
    {
      "cell_type": "markdown",
      "metadata": {
        "id": "0j2qfVQMiQj0"
      },
      "source": [
        "we can feel that with L1 the model can't converge well. so we use L2 again.\n",
        "\n",
        "we get bach to elu activation function because with relu the model overfitting probability increases.\n",
        "\n",
        "we saw that with these parameteres the model acted well but I think that a deeper model can be better here."
      ]
    },
    {
      "cell_type": "code",
      "metadata": {
        "colab": {
          "base_uri": "https://localhost:8080/"
        },
        "id": "BceNWx34f6jv",
        "outputId": "5e1f32fe-3faa-45d1-cb49-82e6422ba437"
      },
      "source": [
        "model = tf.keras.Sequential([\n",
        "    layers.Dense(512, activation='elu', input_shape=(FEATURES,), kernel_regularizer=regularizers.L2(0.0001)),\n",
        "    layers.Dropout(0.5),\n",
        "    layers.Dense(512, activation='elu', kernel_regularizer=regularizers.L2(0.0001)),\n",
        "    layers.Dropout(0.5), \n",
        "    layers.Dense(512, activation='elu', kernel_regularizer=regularizers.L2(0.0001)),\n",
        "    layers.Dropout(0.5),\n",
        "    layers.Dense(512, activation='elu', kernel_regularizer=regularizers.L2(0.0001)),\n",
        "    layers.Dropout(0.5),\n",
        "    layers.Dense(512, activation='elu', kernel_regularizer=regularizers.L2(0.0001)),\n",
        "    layers.Dropout(0.5),\n",
        "    layers.Dense(512, activation='elu', kernel_regularizer=regularizers.L2(0.0001)),\n",
        "    layers.Dropout(0.5),\n",
        "    layers.Dense(512, activation='elu', kernel_regularizer=regularizers.L2(0.0001)),\n",
        "    layers.Dropout(0.5),\n",
        "    layers.Dense(1)\n",
        "])\n",
        "\n",
        "compile_and_fit(model, max_epochs=1000)"
      ],
      "execution_count": 39,
      "outputs": [
        {
          "output_type": "stream",
          "name": "stdout",
          "text": [
            "Model: \"sequential_23\"\n",
            "_________________________________________________________________\n",
            " Layer (type)                Output Shape              Param #   \n",
            "=================================================================\n",
            " dense_136 (Dense)           (None, 512)               14848     \n",
            "                                                                 \n",
            " dropout_100 (Dropout)       (None, 512)               0         \n",
            "                                                                 \n",
            " dense_137 (Dense)           (None, 512)               262656    \n",
            "                                                                 \n",
            " dropout_101 (Dropout)       (None, 512)               0         \n",
            "                                                                 \n",
            " dense_138 (Dense)           (None, 512)               262656    \n",
            "                                                                 \n",
            " dropout_102 (Dropout)       (None, 512)               0         \n",
            "                                                                 \n",
            " dense_139 (Dense)           (None, 512)               262656    \n",
            "                                                                 \n",
            " dropout_103 (Dropout)       (None, 512)               0         \n",
            "                                                                 \n",
            " dense_140 (Dense)           (None, 512)               262656    \n",
            "                                                                 \n",
            " dropout_104 (Dropout)       (None, 512)               0         \n",
            "                                                                 \n",
            " dense_141 (Dense)           (None, 512)               262656    \n",
            "                                                                 \n",
            " dropout_105 (Dropout)       (None, 512)               0         \n",
            "                                                                 \n",
            " dense_142 (Dense)           (None, 512)               262656    \n",
            "                                                                 \n",
            " dropout_106 (Dropout)       (None, 512)               0         \n",
            "                                                                 \n",
            " dense_143 (Dense)           (None, 1)                 513       \n",
            "                                                                 \n",
            "=================================================================\n",
            "Total params: 1,591,297\n",
            "Trainable params: 1,591,297\n",
            "Non-trainable params: 0\n",
            "_________________________________________________________________\n",
            "\n",
            "Epoch: 0, accuracy:0.4996,  binary_crossentropy:0.8991,  loss:1.2113,  val_accuracy:0.5490,  val_binary_crossentropy:0.7095,  val_loss:1.0213,  \n",
            "....................................................................................................\n",
            "Epoch: 100, accuracy:0.6487,  binary_crossentropy:0.6057,  loss:0.6612,  val_accuracy:0.6720,  val_binary_crossentropy:0.5831,  val_loss:0.6381,  \n",
            "....................................................................................................\n",
            "Epoch: 200, accuracy:0.6592,  binary_crossentropy:0.5986,  loss:0.6289,  val_accuracy:0.6710,  val_binary_crossentropy:0.5796,  val_loss:0.6100,  \n",
            "....................................................................................................\n",
            "Epoch: 300, accuracy:0.6592,  binary_crossentropy:0.5917,  loss:0.6265,  val_accuracy:0.6850,  val_binary_crossentropy:0.5672,  val_loss:0.6021,  \n",
            "....................................................................................................\n",
            "Epoch: 400, accuracy:0.6688,  binary_crossentropy:0.5844,  loss:0.6215,  val_accuracy:0.6600,  val_binary_crossentropy:0.5619,  val_loss:0.5991,  \n",
            "....................................................................................................\n",
            "Epoch: 500, accuracy:0.6779,  binary_crossentropy:0.5835,  loss:0.6217,  val_accuracy:0.6950,  val_binary_crossentropy:0.5597,  val_loss:0.5979,  \n",
            "....................................................................................................\n",
            "Epoch: 600, accuracy:0.6696,  binary_crossentropy:0.5838,  loss:0.6242,  val_accuracy:0.6770,  val_binary_crossentropy:0.5631,  val_loss:0.6035,  \n",
            "....................................................................................................\n",
            "Epoch: 700, accuracy:0.6746,  binary_crossentropy:0.5799,  loss:0.6222,  val_accuracy:0.7000,  val_binary_crossentropy:0.5498,  val_loss:0.5920,  \n",
            "................................................................................................"
          ]
        },
        {
          "output_type": "execute_result",
          "data": {
            "text/plain": [
              "<keras.callbacks.History at 0x7f10ac2a6b50>"
            ]
          },
          "metadata": {},
          "execution_count": 39
        }
      ]
    },
    {
      "cell_type": "markdown",
      "metadata": {
        "id": "6X9u65HVjAZG"
      },
      "source": [
        "this seems the best results we had. "
      ]
    }
  ]
}
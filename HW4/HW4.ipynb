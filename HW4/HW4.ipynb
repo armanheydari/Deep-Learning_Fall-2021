{
  "nbformat": 4,
  "nbformat_minor": 0,
  "metadata": {
    "colab": {
      "name": "DL_HW4.ipynb",
      "provenance": [],
      "collapsed_sections": [],
      "toc_visible": true
    },
    "kernelspec": {
      "name": "python3",
      "display_name": "Python 3"
    },
    "language_info": {
      "name": "python"
    },
    "accelerator": "GPU",
    "widgets": {
      "application/vnd.jupyter.widget-state+json": {
        "48e2d69c4e0b43ec88610be5e9d68807": {
          "model_module": "@jupyter-widgets/controls",
          "model_name": "HBoxModel",
          "model_module_version": "1.5.0",
          "state": {
            "_view_name": "HBoxView",
            "_dom_classes": [],
            "_model_name": "HBoxModel",
            "_view_module": "@jupyter-widgets/controls",
            "_model_module_version": "1.5.0",
            "_view_count": null,
            "_view_module_version": "1.5.0",
            "box_style": "",
            "layout": "IPY_MODEL_247019be860143b192a193ac07e5f2f8",
            "_model_module": "@jupyter-widgets/controls",
            "children": [
              "IPY_MODEL_a1add3c9761449e798347e826e21f338",
              "IPY_MODEL_87ca4ff158dc4783acea4df85a3b3de7",
              "IPY_MODEL_dc5ede360fb24357bbc5d40c10d45cce"
            ]
          }
        },
        "247019be860143b192a193ac07e5f2f8": {
          "model_module": "@jupyter-widgets/base",
          "model_name": "LayoutModel",
          "model_module_version": "1.2.0",
          "state": {
            "_view_name": "LayoutView",
            "grid_template_rows": null,
            "right": null,
            "justify_content": null,
            "_view_module": "@jupyter-widgets/base",
            "overflow": null,
            "_model_module_version": "1.2.0",
            "_view_count": null,
            "flex_flow": null,
            "width": null,
            "min_width": null,
            "border": null,
            "align_items": null,
            "bottom": null,
            "_model_module": "@jupyter-widgets/base",
            "top": null,
            "grid_column": null,
            "overflow_y": null,
            "overflow_x": null,
            "grid_auto_flow": null,
            "grid_area": null,
            "grid_template_columns": null,
            "flex": null,
            "_model_name": "LayoutModel",
            "justify_items": null,
            "grid_row": null,
            "max_height": null,
            "align_content": null,
            "visibility": null,
            "align_self": null,
            "height": null,
            "min_height": null,
            "padding": null,
            "grid_auto_rows": null,
            "grid_gap": null,
            "max_width": null,
            "order": null,
            "_view_module_version": "1.2.0",
            "grid_template_areas": null,
            "object_position": null,
            "object_fit": null,
            "grid_auto_columns": null,
            "margin": null,
            "display": null,
            "left": null
          }
        },
        "a1add3c9761449e798347e826e21f338": {
          "model_module": "@jupyter-widgets/controls",
          "model_name": "HTMLModel",
          "model_module_version": "1.5.0",
          "state": {
            "_view_name": "HTMLView",
            "style": "IPY_MODEL_42c9101694094e4aa7ea4e0c33fd3d50",
            "_dom_classes": [],
            "description": "",
            "_model_name": "HTMLModel",
            "placeholder": "​",
            "_view_module": "@jupyter-widgets/controls",
            "_model_module_version": "1.5.0",
            "value": "",
            "_view_count": null,
            "_view_module_version": "1.5.0",
            "description_tooltip": null,
            "_model_module": "@jupyter-widgets/controls",
            "layout": "IPY_MODEL_452e604a5d454dce8c9e05baaa428fbc"
          }
        },
        "87ca4ff158dc4783acea4df85a3b3de7": {
          "model_module": "@jupyter-widgets/controls",
          "model_name": "FloatProgressModel",
          "model_module_version": "1.5.0",
          "state": {
            "_view_name": "ProgressView",
            "style": "IPY_MODEL_401262998dcf4dc486b9d19dcc8b869d",
            "_dom_classes": [],
            "description": "",
            "_model_name": "FloatProgressModel",
            "bar_style": "success",
            "max": 170498071,
            "_view_module": "@jupyter-widgets/controls",
            "_model_module_version": "1.5.0",
            "value": 170498071,
            "_view_count": null,
            "_view_module_version": "1.5.0",
            "orientation": "horizontal",
            "min": 0,
            "description_tooltip": null,
            "_model_module": "@jupyter-widgets/controls",
            "layout": "IPY_MODEL_802f53b8f3824fc390a9bed6de21a78f"
          }
        },
        "dc5ede360fb24357bbc5d40c10d45cce": {
          "model_module": "@jupyter-widgets/controls",
          "model_name": "HTMLModel",
          "model_module_version": "1.5.0",
          "state": {
            "_view_name": "HTMLView",
            "style": "IPY_MODEL_64e84c9ebb4840a48dd576ff69c54011",
            "_dom_classes": [],
            "description": "",
            "_model_name": "HTMLModel",
            "placeholder": "​",
            "_view_module": "@jupyter-widgets/controls",
            "_model_module_version": "1.5.0",
            "value": " 170499072/? [00:03&lt;00:00, 55922462.59it/s]",
            "_view_count": null,
            "_view_module_version": "1.5.0",
            "description_tooltip": null,
            "_model_module": "@jupyter-widgets/controls",
            "layout": "IPY_MODEL_886a430849fd4e15b91dd465a2b605c5"
          }
        },
        "42c9101694094e4aa7ea4e0c33fd3d50": {
          "model_module": "@jupyter-widgets/controls",
          "model_name": "DescriptionStyleModel",
          "model_module_version": "1.5.0",
          "state": {
            "_view_name": "StyleView",
            "_model_name": "DescriptionStyleModel",
            "description_width": "",
            "_view_module": "@jupyter-widgets/base",
            "_model_module_version": "1.5.0",
            "_view_count": null,
            "_view_module_version": "1.2.0",
            "_model_module": "@jupyter-widgets/controls"
          }
        },
        "452e604a5d454dce8c9e05baaa428fbc": {
          "model_module": "@jupyter-widgets/base",
          "model_name": "LayoutModel",
          "model_module_version": "1.2.0",
          "state": {
            "_view_name": "LayoutView",
            "grid_template_rows": null,
            "right": null,
            "justify_content": null,
            "_view_module": "@jupyter-widgets/base",
            "overflow": null,
            "_model_module_version": "1.2.0",
            "_view_count": null,
            "flex_flow": null,
            "width": null,
            "min_width": null,
            "border": null,
            "align_items": null,
            "bottom": null,
            "_model_module": "@jupyter-widgets/base",
            "top": null,
            "grid_column": null,
            "overflow_y": null,
            "overflow_x": null,
            "grid_auto_flow": null,
            "grid_area": null,
            "grid_template_columns": null,
            "flex": null,
            "_model_name": "LayoutModel",
            "justify_items": null,
            "grid_row": null,
            "max_height": null,
            "align_content": null,
            "visibility": null,
            "align_self": null,
            "height": null,
            "min_height": null,
            "padding": null,
            "grid_auto_rows": null,
            "grid_gap": null,
            "max_width": null,
            "order": null,
            "_view_module_version": "1.2.0",
            "grid_template_areas": null,
            "object_position": null,
            "object_fit": null,
            "grid_auto_columns": null,
            "margin": null,
            "display": null,
            "left": null
          }
        },
        "401262998dcf4dc486b9d19dcc8b869d": {
          "model_module": "@jupyter-widgets/controls",
          "model_name": "ProgressStyleModel",
          "model_module_version": "1.5.0",
          "state": {
            "_view_name": "StyleView",
            "_model_name": "ProgressStyleModel",
            "description_width": "",
            "_view_module": "@jupyter-widgets/base",
            "_model_module_version": "1.5.0",
            "_view_count": null,
            "_view_module_version": "1.2.0",
            "bar_color": null,
            "_model_module": "@jupyter-widgets/controls"
          }
        },
        "802f53b8f3824fc390a9bed6de21a78f": {
          "model_module": "@jupyter-widgets/base",
          "model_name": "LayoutModel",
          "model_module_version": "1.2.0",
          "state": {
            "_view_name": "LayoutView",
            "grid_template_rows": null,
            "right": null,
            "justify_content": null,
            "_view_module": "@jupyter-widgets/base",
            "overflow": null,
            "_model_module_version": "1.2.0",
            "_view_count": null,
            "flex_flow": null,
            "width": null,
            "min_width": null,
            "border": null,
            "align_items": null,
            "bottom": null,
            "_model_module": "@jupyter-widgets/base",
            "top": null,
            "grid_column": null,
            "overflow_y": null,
            "overflow_x": null,
            "grid_auto_flow": null,
            "grid_area": null,
            "grid_template_columns": null,
            "flex": null,
            "_model_name": "LayoutModel",
            "justify_items": null,
            "grid_row": null,
            "max_height": null,
            "align_content": null,
            "visibility": null,
            "align_self": null,
            "height": null,
            "min_height": null,
            "padding": null,
            "grid_auto_rows": null,
            "grid_gap": null,
            "max_width": null,
            "order": null,
            "_view_module_version": "1.2.0",
            "grid_template_areas": null,
            "object_position": null,
            "object_fit": null,
            "grid_auto_columns": null,
            "margin": null,
            "display": null,
            "left": null
          }
        },
        "64e84c9ebb4840a48dd576ff69c54011": {
          "model_module": "@jupyter-widgets/controls",
          "model_name": "DescriptionStyleModel",
          "model_module_version": "1.5.0",
          "state": {
            "_view_name": "StyleView",
            "_model_name": "DescriptionStyleModel",
            "description_width": "",
            "_view_module": "@jupyter-widgets/base",
            "_model_module_version": "1.5.0",
            "_view_count": null,
            "_view_module_version": "1.2.0",
            "_model_module": "@jupyter-widgets/controls"
          }
        },
        "886a430849fd4e15b91dd465a2b605c5": {
          "model_module": "@jupyter-widgets/base",
          "model_name": "LayoutModel",
          "model_module_version": "1.2.0",
          "state": {
            "_view_name": "LayoutView",
            "grid_template_rows": null,
            "right": null,
            "justify_content": null,
            "_view_module": "@jupyter-widgets/base",
            "overflow": null,
            "_model_module_version": "1.2.0",
            "_view_count": null,
            "flex_flow": null,
            "width": null,
            "min_width": null,
            "border": null,
            "align_items": null,
            "bottom": null,
            "_model_module": "@jupyter-widgets/base",
            "top": null,
            "grid_column": null,
            "overflow_y": null,
            "overflow_x": null,
            "grid_auto_flow": null,
            "grid_area": null,
            "grid_template_columns": null,
            "flex": null,
            "_model_name": "LayoutModel",
            "justify_items": null,
            "grid_row": null,
            "max_height": null,
            "align_content": null,
            "visibility": null,
            "align_self": null,
            "height": null,
            "min_height": null,
            "padding": null,
            "grid_auto_rows": null,
            "grid_gap": null,
            "max_width": null,
            "order": null,
            "_view_module_version": "1.2.0",
            "grid_template_areas": null,
            "object_position": null,
            "object_fit": null,
            "grid_auto_columns": null,
            "margin": null,
            "display": null,
            "left": null
          }
        }
      }
    }
  },
  "cells": [
    {
      "cell_type": "markdown",
      "metadata": {
        "id": "F2uBDVBRwFbP"
      },
      "source": [
        "# Question 2"
      ]
    },
    {
      "cell_type": "code",
      "metadata": {
        "colab": {
          "base_uri": "https://localhost:8080/"
        },
        "id": "cd4Gcx5jUYyy",
        "outputId": "40da07f6-eff9-4abd-94e1-12885a48fcef"
      },
      "source": [
        "import numpy as np\n",
        "\n",
        "w1 = 0.10193627\n",
        "w2 = 0.20322712\n",
        "w3 = 0.30232353\n",
        "w4 = 0.4038725\n",
        "w5 = 0.5083905\n",
        "w6 = 0.6187173\n",
        "\n",
        "h1 = w1*3 + w2*5\n",
        "h2 = w3*3 + w4*5\n",
        "\n",
        "yhat = 1.0 / (1.0 + np.exp(-h1*w5 - h2*w6))\n",
        "constant = 2*(yhat - 1) * yhat * (1-yhat)\n",
        "yhat"
      ],
      "execution_count": null,
      "outputs": [
        {
          "output_type": "execute_result",
          "data": {
            "text/plain": [
              "0.9229156017085289"
            ]
          },
          "metadata": {},
          "execution_count": 1
        }
      ]
    },
    {
      "cell_type": "code",
      "metadata": {
        "colab": {
          "base_uri": "https://localhost:8080/"
        },
        "id": "RDsTKH3ZmGRj",
        "outputId": "1a32a841-1d58-4934-f2f3-a9df554a7161"
      },
      "source": [
        "gradient = constant * w5 * 3\n",
        "gradient"
      ],
      "execution_count": null,
      "outputs": [
        {
          "output_type": "execute_result",
          "data": {
            "text/plain": [
              "-0.016727985296864145"
            ]
          },
          "metadata": {},
          "execution_count": 2
        }
      ]
    },
    {
      "cell_type": "code",
      "metadata": {
        "colab": {
          "base_uri": "https://localhost:8080/"
        },
        "id": "k6hZ2HT_mdl4",
        "outputId": "6d96326c-ca7b-4ac2-dbc6-272eed7ccd39"
      },
      "source": [
        "w1 - 0.1*gradient"
      ],
      "execution_count": null,
      "outputs": [
        {
          "output_type": "execute_result",
          "data": {
            "text/plain": [
              "0.1036090685296864"
            ]
          },
          "metadata": {},
          "execution_count": 3
        }
      ]
    },
    {
      "cell_type": "markdown",
      "metadata": {
        "id": "Qb3aKCn8wJ1D"
      },
      "source": [
        "# Question 3"
      ]
    },
    {
      "cell_type": "markdown",
      "metadata": {
        "id": "25jAwMpFY9zV"
      },
      "source": [
        "First of all, we import pytorch and some requirements to implement a model on CIFAR10 dataset."
      ]
    },
    {
      "cell_type": "code",
      "metadata": {
        "id": "_9tykW6YwRZ7"
      },
      "source": [
        "import torch\n",
        "import torch.nn as nn\n",
        "import torch.optim as optim\n",
        "import torch.nn.functional as functional\n",
        "from torchvision import transforms \n",
        "from torchvision.datasets import CIFAR10\n",
        "from torch.nn import Linear, ReLU, Conv2d, MaxPool2d, BatchNorm2d, Dropout2d, Dropout"
      ],
      "execution_count": 2,
      "outputs": []
    },
    {
      "cell_type": "markdown",
      "metadata": {
        "id": "ogSHnmxHZ6aZ"
      },
      "source": [
        "Now we have to define our convolutional neural network and implement the layers according to the assignment's documentation."
      ]
    },
    {
      "cell_type": "code",
      "metadata": {
        "id": "mF95T4nBlFi1"
      },
      "source": [
        "class Convolutional_network(nn.Module):\n",
        "  def __init__(self):\n",
        "    super(Convolutional_network, self).__init__()\n",
        "    self.cnn_layers = nn.Sequential(\n",
        "          # Defining a 2D convolution layer\n",
        "          Conv2d(in_channels=3, out_channels=4, kernel_size=3, stride=1, padding=1),\n",
        "          BatchNorm2d(4),\n",
        "          ReLU(inplace=True),\n",
        "          # Defining another 2D convolution layer\n",
        "          Conv2d(in_channels=4, out_channels=8, kernel_size=3, stride=1, padding=1),\n",
        "          ReLU(inplace=True),\n",
        "          MaxPool2d(kernel_size=2, stride=2),\n",
        "          # Defining another 2D convolution layer\n",
        "          Conv2d(in_channels=8, out_channels=16, kernel_size=3, stride=1, padding=1),\n",
        "          BatchNorm2d(16),\n",
        "          ReLU(inplace=True),\n",
        "          # Defining another 2D convolution layer\n",
        "          Conv2d(in_channels=16, out_channels=32, kernel_size=3, stride=1, padding=1),\n",
        "          ReLU(inplace=True),\n",
        "          MaxPool2d(kernel_size=2, stride=2),\n",
        "\n",
        "          Dropout2d(0.05),\n",
        "          # Defining another 2D convolution layer\n",
        "          Conv2d(in_channels=32, out_channels=64, kernel_size=3, stride=1, padding=1),\n",
        "          BatchNorm2d(64),\n",
        "          ReLU(inplace=True),\n",
        "          # Defining another 2D convolution layer\n",
        "          Conv2d(in_channels=64, out_channels=128, kernel_size=3, stride=1, padding=1),\n",
        "          ReLU(inplace=True),\n",
        "          MaxPool2d(kernel_size=2, stride=2),\n",
        "      )\n",
        "\n",
        "    self.linear_layers = nn.Sequential(\n",
        "          Dropout2d(0.05),\n",
        "          Linear(2048, 512),\n",
        "          ReLU(inplace=True),\n",
        "          Linear(512, 128),\n",
        "          ReLU(inplace=True),\n",
        "          Dropout(0.05),\n",
        "          Linear(128, 10),\n",
        "      )\n",
        "\n",
        "  # Defining the forward pass    \n",
        "  def forward(self, x):\n",
        "      x = self.cnn_layers(x)\n",
        "      x = x.view(x.size(0), -1)\n",
        "      x = self.linear_layers(x)\n",
        "      return x"
      ],
      "execution_count": 3,
      "outputs": []
    },
    {
      "cell_type": "markdown",
      "metadata": {
        "id": "Bb8dueh9aT1M"
      },
      "source": [
        "Hyperparameters are so important for any neural network, we initialize them in this cell before we start to train the model."
      ]
    },
    {
      "cell_type": "code",
      "metadata": {
        "id": "Qfz-M6jCmTuG"
      },
      "source": [
        "model = Convolutional_network()\n",
        "loss_function = nn.CrossEntropyLoss()\n",
        "optimizer = optim.Adam(model.parameters())\n",
        "batch_size = 4\n",
        "epochs = 2\n",
        "data_augmentation = False"
      ],
      "execution_count": 4,
      "outputs": []
    },
    {
      "cell_type": "markdown",
      "metadata": {
        "id": "yM-63YOna1Po"
      },
      "source": [
        "For the extra point, we may need to augment some data. We can do this using by adding random rotation or random cropping to our images of the dataset, As you see in the next cell."
      ]
    },
    {
      "cell_type": "code",
      "metadata": {
        "id": "ANfZ8riFKFdH"
      },
      "source": [
        "if data_augmentation:\n",
        "  transform = transforms.Compose(\n",
        "    [transforms.RandomAutocontrast(),\n",
        "     transforms.RandomResizedCrop(32),\n",
        "     transforms.RandomRotation(45),\n",
        "     transforms.RandomHorizontalFlip(),\n",
        "     transforms.ToTensor(),\n",
        "     transforms.Normalize((0.5, 0.5, 0.5), (0.5, 0.5, 0.5))])\n",
        "else:\n",
        "  transform = transforms.Compose(\n",
        "    [transforms.ToTensor(),\n",
        "     transforms.Normalize((0.5, 0.5, 0.5), (0.5, 0.5, 0.5))])"
      ],
      "execution_count": 5,
      "outputs": []
    },
    {
      "cell_type": "markdown",
      "metadata": {
        "id": "em3WDGwHZidy"
      },
      "source": [
        "Then we load the dataset as you explained on the assignment. We save the dataset on trainloader and testloader variables."
      ]
    },
    {
      "cell_type": "code",
      "metadata": {
        "colab": {
          "base_uri": "https://localhost:8080/",
          "height": 100,
          "referenced_widgets": [
            "48e2d69c4e0b43ec88610be5e9d68807",
            "247019be860143b192a193ac07e5f2f8",
            "a1add3c9761449e798347e826e21f338",
            "87ca4ff158dc4783acea4df85a3b3de7",
            "dc5ede360fb24357bbc5d40c10d45cce",
            "42c9101694094e4aa7ea4e0c33fd3d50",
            "452e604a5d454dce8c9e05baaa428fbc",
            "401262998dcf4dc486b9d19dcc8b869d",
            "802f53b8f3824fc390a9bed6de21a78f",
            "64e84c9ebb4840a48dd576ff69c54011",
            "886a430849fd4e15b91dd465a2b605c5"
          ]
        },
        "id": "_0cZxgSohSuw",
        "outputId": "abcc89e7-16f7-41be-bad5-470f2acd79a8"
      },
      "source": [
        "trainset = CIFAR10(root='./data', train=True,\n",
        "                   download=True, transform=transform)\n",
        "trainloader = torch.utils.data.DataLoader(trainset, batch_size=batch_size,\n",
        "                                          shuffle=True, num_workers=2)\n",
        "\n",
        "testset = CIFAR10(root='./data', train=False,\n",
        "                                       download=True, transform=transform)\n",
        "testloader = torch.utils.data.DataLoader(testset, batch_size=batch_size,\n",
        "                                         shuffle=False, num_workers=2)\n",
        "classes = trainset.classes"
      ],
      "execution_count": 6,
      "outputs": [
        {
          "output_type": "stream",
          "name": "stdout",
          "text": [
            "Downloading https://www.cs.toronto.edu/~kriz/cifar-10-python.tar.gz to ./data/cifar-10-python.tar.gz\n"
          ]
        },
        {
          "output_type": "display_data",
          "data": {
            "application/vnd.jupyter.widget-view+json": {
              "model_id": "48e2d69c4e0b43ec88610be5e9d68807",
              "version_minor": 0,
              "version_major": 2
            },
            "text/plain": [
              "  0%|          | 0/170498071 [00:00<?, ?it/s]"
            ]
          },
          "metadata": {}
        },
        {
          "output_type": "stream",
          "name": "stdout",
          "text": [
            "Extracting ./data/cifar-10-python.tar.gz to ./data\n",
            "Files already downloaded and verified\n"
          ]
        }
      ]
    },
    {
      "cell_type": "markdown",
      "metadata": {
        "id": "C9-25VvNbHnI"
      },
      "source": [
        "This is trainig cell for our model. As we know it has forward propagation, calculate loss, backward propagation and optimize the weights and biases. Each step has been done using torch implemented functions."
      ]
    },
    {
      "cell_type": "code",
      "metadata": {
        "id": "L0WBtR8NKbRp",
        "colab": {
          "base_uri": "https://localhost:8080/"
        },
        "outputId": "d655bc80-264e-4537-b9bd-337a1b672c69"
      },
      "source": [
        "for epoch in range(int(epochs)):\n",
        "  for images, labels in trainloader:\n",
        "    optimizer.zero_grad()\n",
        "    outputs = model(images)\n",
        "    loss = loss_function(outputs, labels)\n",
        "    loss.backward()\n",
        "    optimizer.step()"
      ],
      "execution_count": 7,
      "outputs": [
        {
          "output_type": "stream",
          "name": "stderr",
          "text": [
            "/usr/local/lib/python3.7/dist-packages/torch/nn/functional.py:718: UserWarning: Named tensors and all their associated APIs are an experimental feature and subject to change. Please do not use them for anything important until they are released as stable. (Triggered internally at  /pytorch/c10/core/TensorImpl.h:1156.)\n",
            "  return torch.max_pool2d(input, kernel_size, stride, padding, dilation, ceil_mode)\n"
          ]
        }
      ]
    },
    {
      "cell_type": "markdown",
      "metadata": {
        "id": "fUCI5JemchlG"
      },
      "source": [
        "To see the train accuracy for each of the classes you can run the next cell."
      ]
    },
    {
      "cell_type": "code",
      "metadata": {
        "id": "VG6_xDlVcnlZ",
        "colab": {
          "base_uri": "https://localhost:8080/"
        },
        "outputId": "dd7d19d3-f344-4950-8cf9-e60c8c8b3b1d"
      },
      "source": [
        "prediction_and_total = {classname: [0, 0] for classname in classes}\n",
        "\n",
        "for images, labels in trainloader:\n",
        "  outputs = model(images)\n",
        "  _, predictions = torch.max(outputs, 1)\n",
        "  \n",
        "  for label, prediction in zip(labels, predictions):\n",
        "    if label == prediction:\n",
        "      prediction_and_total[classes[label]][0] += 1\n",
        "    prediction_and_total[classes[label]][1]+=1\n",
        "\n",
        "for classname, result in prediction_and_total.items():\n",
        "  accuracy = 100 * float(result[0]) / float(result[1])\n",
        "  print(classname, \"train accuracy:\", accuracy)"
      ],
      "execution_count": 8,
      "outputs": [
        {
          "output_type": "stream",
          "name": "stdout",
          "text": [
            "airplane train accuracy: 77.42\n",
            "automobile train accuracy: 79.88\n",
            "bird train accuracy: 41.32\n",
            "cat train accuracy: 42.0\n",
            "deer train accuracy: 41.78\n",
            "dog train accuracy: 48.1\n",
            "frog train accuracy: 59.86\n",
            "horse train accuracy: 68.34\n",
            "ship train accuracy: 50.84\n",
            "truck train accuracy: 67.16\n"
          ]
        }
      ]
    },
    {
      "cell_type": "markdown",
      "metadata": {
        "id": "-hPeuXAZc1GB"
      },
      "source": [
        "Finally we can test our model on the test set and see the accuracy for each class using the following code."
      ]
    },
    {
      "cell_type": "code",
      "metadata": {
        "id": "U6YKeOLsPzWd",
        "colab": {
          "base_uri": "https://localhost:8080/"
        },
        "outputId": "236abc80-96f8-466a-926a-6d9634e0a86b"
      },
      "source": [
        "prediction_and_total = {classname: [0, 0] for classname in classes}\n",
        "\n",
        "for images, labels in testloader:\n",
        "  outputs = model(images)\n",
        "  _, predictions = torch.max(outputs, 1)\n",
        "  \n",
        "  for label, prediction in zip(labels, predictions):\n",
        "    if label == prediction:\n",
        "      prediction_and_total[classes[label]][0] += 1\n",
        "    prediction_and_total[classes[label]][1]+=1\n",
        "\n",
        "for classname, result in prediction_and_total.items():\n",
        "  accuracy = 100 * float(result[0]) / float(result[1])\n",
        "  print(classname, \"test accuracy:\", accuracy)"
      ],
      "execution_count": 9,
      "outputs": [
        {
          "output_type": "stream",
          "name": "stdout",
          "text": [
            "airplane test accuracy: 77.7\n",
            "automobile test accuracy: 75.6\n",
            "bird test accuracy: 40.6\n",
            "cat test accuracy: 38.4\n",
            "deer test accuracy: 40.4\n",
            "dog test accuracy: 48.0\n",
            "frog test accuracy: 60.4\n",
            "horse test accuracy: 65.9\n",
            "ship test accuracy: 45.9\n",
            "truck test accuracy: 65.5\n"
          ]
        }
      ]
    }
  ]
}
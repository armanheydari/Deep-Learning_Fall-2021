{
  "nbformat": 4,
  "nbformat_minor": 0,
  "metadata": {
    "colab": {
      "name": "Q4.ipynb",
      "provenance": [],
      "collapsed_sections": []
    },
    "kernelspec": {
      "name": "python3",
      "display_name": "Python 3"
    },
    "language_info": {
      "name": "python"
    },
    "accelerator": "GPU"
  },
  "cells": [
    {
      "cell_type": "markdown",
      "source": [
        "# Import"
      ],
      "metadata": {
        "id": "g7m6H3X8aKf4"
      }
    },
    {
      "cell_type": "code",
      "execution_count": null,
      "metadata": {
        "colab": {
          "base_uri": "https://localhost:8080/"
        },
        "id": "vMIi74DwRiq1",
        "outputId": "f969462a-54e8-46cc-dfa0-56d3a544004f"
      },
      "outputs": [
        {
          "output_type": "stream",
          "name": "stdout",
          "text": [
            "\u001b[?25l\r\u001b[K     |███▍                            | 10 kB 22.2 MB/s eta 0:00:01\r\u001b[K     |██████▊                         | 20 kB 23.3 MB/s eta 0:00:01\r\u001b[K     |██████████                      | 30 kB 11.6 MB/s eta 0:00:01\r\u001b[K     |█████████████▍                  | 40 kB 9.1 MB/s eta 0:00:01\r\u001b[K     |████████████████▊               | 51 kB 5.7 MB/s eta 0:00:01\r\u001b[K     |████████████████████            | 61 kB 5.7 MB/s eta 0:00:01\r\u001b[K     |███████████████████████▍        | 71 kB 5.7 MB/s eta 0:00:01\r\u001b[K     |██████████████████████████▊     | 81 kB 6.3 MB/s eta 0:00:01\r\u001b[K     |██████████████████████████████  | 92 kB 6.4 MB/s eta 0:00:01\r\u001b[K     |████████████████████████████████| 98 kB 3.7 MB/s \n",
            "\u001b[?25h"
          ]
        }
      ],
      "source": [
        "import tensorflow as tf\n",
        "from tensorflow import keras\n",
        "!pip install -q -U keras-tuner\n",
        "import keras_tuner as kt"
      ]
    },
    {
      "cell_type": "markdown",
      "source": [
        "# Loading Data"
      ],
      "metadata": {
        "id": "2ZzTCtXcaOY4"
      }
    },
    {
      "cell_type": "code",
      "source": [
        "(img_train, label_train), (img_test, label_test) = keras.datasets.fashion_mnist.load_data()\n",
        "img_train = img_train.astype('float32') / 255.0\n",
        "img_test = img_test.astype('float32') / 255.0"
      ],
      "metadata": {
        "colab": {
          "base_uri": "https://localhost:8080/"
        },
        "id": "V83iFn-7Rpql",
        "outputId": "c1295a56-9652-4b65-aa7f-0adef0a58281"
      },
      "execution_count": null,
      "outputs": [
        {
          "output_type": "stream",
          "name": "stdout",
          "text": [
            "Downloading data from https://storage.googleapis.com/tensorflow/tf-keras-datasets/train-labels-idx1-ubyte.gz\n",
            "32768/29515 [=================================] - 0s 0us/step\n",
            "40960/29515 [=========================================] - 0s 0us/step\n",
            "Downloading data from https://storage.googleapis.com/tensorflow/tf-keras-datasets/train-images-idx3-ubyte.gz\n",
            "26427392/26421880 [==============================] - 0s 0us/step\n",
            "26435584/26421880 [==============================] - 0s 0us/step\n",
            "Downloading data from https://storage.googleapis.com/tensorflow/tf-keras-datasets/t10k-labels-idx1-ubyte.gz\n",
            "16384/5148 [===============================================================================================] - 0s 0us/step\n",
            "Downloading data from https://storage.googleapis.com/tensorflow/tf-keras-datasets/t10k-images-idx3-ubyte.gz\n",
            "4423680/4422102 [==============================] - 0s 0us/step\n",
            "4431872/4422102 [==============================] - 0s 0us/step\n"
          ]
        }
      ]
    },
    {
      "cell_type": "markdown",
      "source": [
        "# Base Model"
      ],
      "metadata": {
        "id": "quMMYCOeeVEe"
      }
    },
    {
      "cell_type": "code",
      "source": [
        "def model_builder():\n",
        "  model = keras.Sequential()\n",
        "  model.add(keras.layers.Flatten(input_shape=(28, 28)))\n",
        "  model.add(keras.layers.Dense(units=512, activation='relu'))\n",
        "  model.add(keras.layers.Dense(10))\n",
        "  model.compile(optimizer=keras.optimizers.Adam(learning_rate=0.01),\n",
        "                loss=keras.losses.SparseCategoricalCrossentropy(from_logits=True),\n",
        "                metrics=['accuracy'])\n",
        "\n",
        "  return model"
      ],
      "metadata": {
        "id": "R8GriD14cOX8"
      },
      "execution_count": null,
      "outputs": []
    },
    {
      "cell_type": "code",
      "source": [
        "model = model_builder()\n",
        "history = model.fit(img_train, label_train, epochs=50, validation_split=0.2)\n"
      ],
      "metadata": {
        "colab": {
          "base_uri": "https://localhost:8080/"
        },
        "id": "_m0yhB1HcjW1",
        "outputId": "aacd83e3-c015-4cb1-ab13-0c953c0fc7a7"
      },
      "execution_count": null,
      "outputs": [
        {
          "output_type": "stream",
          "name": "stdout",
          "text": [
            "Epoch 1/50\n",
            "1500/1500 [==============================] - 8s 5ms/step - loss: 0.5757 - accuracy: 0.8018 - val_loss: 0.4972 - val_accuracy: 0.8244\n",
            "Epoch 2/50\n",
            "1500/1500 [==============================] - 7s 5ms/step - loss: 0.4489 - accuracy: 0.8410 - val_loss: 0.4291 - val_accuracy: 0.8552\n",
            "Epoch 3/50\n",
            "1500/1500 [==============================] - 6s 4ms/step - loss: 0.4139 - accuracy: 0.8515 - val_loss: 0.4100 - val_accuracy: 0.8563\n",
            "Epoch 4/50\n",
            "1500/1500 [==============================] - 7s 4ms/step - loss: 0.4204 - accuracy: 0.8500 - val_loss: 0.4940 - val_accuracy: 0.8365\n",
            "Epoch 5/50\n",
            "1500/1500 [==============================] - 7s 5ms/step - loss: 0.4005 - accuracy: 0.8569 - val_loss: 0.4443 - val_accuracy: 0.8446\n",
            "Epoch 6/50\n",
            "1500/1500 [==============================] - 7s 5ms/step - loss: 0.3888 - accuracy: 0.8602 - val_loss: 0.4200 - val_accuracy: 0.8577\n",
            "Epoch 7/50\n",
            "1500/1500 [==============================] - 7s 5ms/step - loss: 0.3800 - accuracy: 0.8655 - val_loss: 0.4463 - val_accuracy: 0.8553\n",
            "Epoch 8/50\n",
            "1500/1500 [==============================] - 7s 4ms/step - loss: 0.3740 - accuracy: 0.8665 - val_loss: 0.4140 - val_accuracy: 0.8559\n",
            "Epoch 9/50\n",
            "1500/1500 [==============================] - 7s 4ms/step - loss: 0.3724 - accuracy: 0.8675 - val_loss: 0.4644 - val_accuracy: 0.8405\n",
            "Epoch 10/50\n",
            "1500/1500 [==============================] - 7s 5ms/step - loss: 0.3671 - accuracy: 0.8687 - val_loss: 0.4441 - val_accuracy: 0.8530\n",
            "Epoch 11/50\n",
            "1500/1500 [==============================] - 7s 5ms/step - loss: 0.3573 - accuracy: 0.8715 - val_loss: 0.4452 - val_accuracy: 0.8577\n",
            "Epoch 12/50\n",
            "1500/1500 [==============================] - 7s 5ms/step - loss: 0.3602 - accuracy: 0.8720 - val_loss: 0.4570 - val_accuracy: 0.8557\n",
            "Epoch 13/50\n",
            "1500/1500 [==============================] - 7s 5ms/step - loss: 0.3521 - accuracy: 0.8744 - val_loss: 0.4316 - val_accuracy: 0.8543\n",
            "Epoch 14/50\n",
            "1500/1500 [==============================] - 7s 4ms/step - loss: 0.3543 - accuracy: 0.8745 - val_loss: 0.4527 - val_accuracy: 0.8547\n",
            "Epoch 15/50\n",
            "1500/1500 [==============================] - 7s 4ms/step - loss: 0.3564 - accuracy: 0.8727 - val_loss: 0.4760 - val_accuracy: 0.8453\n",
            "Epoch 16/50\n",
            "1500/1500 [==============================] - 7s 5ms/step - loss: 0.3458 - accuracy: 0.8760 - val_loss: 0.4512 - val_accuracy: 0.8586\n",
            "Epoch 17/50\n",
            "1500/1500 [==============================] - 7s 5ms/step - loss: 0.3501 - accuracy: 0.8731 - val_loss: 0.4550 - val_accuracy: 0.8597\n",
            "Epoch 18/50\n",
            "1500/1500 [==============================] - 7s 5ms/step - loss: 0.3463 - accuracy: 0.8770 - val_loss: 0.4958 - val_accuracy: 0.8465\n",
            "Epoch 19/50\n",
            "1500/1500 [==============================] - 7s 5ms/step - loss: 0.3412 - accuracy: 0.8783 - val_loss: 0.4833 - val_accuracy: 0.8540\n",
            "Epoch 20/50\n",
            "1500/1500 [==============================] - 7s 5ms/step - loss: 0.3414 - accuracy: 0.8766 - val_loss: 0.4562 - val_accuracy: 0.8554\n",
            "Epoch 21/50\n",
            "1500/1500 [==============================] - 7s 5ms/step - loss: 0.3385 - accuracy: 0.8791 - val_loss: 0.4537 - val_accuracy: 0.8582\n",
            "Epoch 22/50\n",
            "1500/1500 [==============================] - 7s 5ms/step - loss: 0.3373 - accuracy: 0.8793 - val_loss: 0.4813 - val_accuracy: 0.8455\n",
            "Epoch 23/50\n",
            "1500/1500 [==============================] - 7s 5ms/step - loss: 0.3364 - accuracy: 0.8791 - val_loss: 0.4848 - val_accuracy: 0.8460\n",
            "Epoch 24/50\n",
            "1500/1500 [==============================] - 7s 5ms/step - loss: 0.3367 - accuracy: 0.8783 - val_loss: 0.4935 - val_accuracy: 0.8487\n",
            "Epoch 25/50\n",
            "1500/1500 [==============================] - 7s 5ms/step - loss: 0.3351 - accuracy: 0.8791 - val_loss: 0.4601 - val_accuracy: 0.8615\n",
            "Epoch 26/50\n",
            "1500/1500 [==============================] - 8s 5ms/step - loss: 0.3332 - accuracy: 0.8809 - val_loss: 0.4949 - val_accuracy: 0.8537\n",
            "Epoch 27/50\n",
            "1500/1500 [==============================] - 7s 5ms/step - loss: 0.3307 - accuracy: 0.8807 - val_loss: 0.4832 - val_accuracy: 0.8547\n",
            "Epoch 28/50\n",
            "1500/1500 [==============================] - 7s 5ms/step - loss: 0.3280 - accuracy: 0.8820 - val_loss: 0.4836 - val_accuracy: 0.8509\n",
            "Epoch 29/50\n",
            "1500/1500 [==============================] - 7s 5ms/step - loss: 0.3305 - accuracy: 0.8836 - val_loss: 0.4706 - val_accuracy: 0.8561\n",
            "Epoch 30/50\n",
            "1500/1500 [==============================] - 7s 5ms/step - loss: 0.3229 - accuracy: 0.8833 - val_loss: 0.5378 - val_accuracy: 0.8250\n",
            "Epoch 31/50\n",
            "1500/1500 [==============================] - 7s 5ms/step - loss: 0.3251 - accuracy: 0.8839 - val_loss: 0.4924 - val_accuracy: 0.8538\n",
            "Epoch 32/50\n",
            "1500/1500 [==============================] - 7s 5ms/step - loss: 0.3258 - accuracy: 0.8835 - val_loss: 0.5041 - val_accuracy: 0.8522\n",
            "Epoch 33/50\n",
            "1500/1500 [==============================] - 7s 5ms/step - loss: 0.3179 - accuracy: 0.8854 - val_loss: 0.5955 - val_accuracy: 0.8320\n",
            "Epoch 34/50\n",
            "1500/1500 [==============================] - 7s 5ms/step - loss: 0.3217 - accuracy: 0.8847 - val_loss: 0.5244 - val_accuracy: 0.8397\n",
            "Epoch 35/50\n",
            "1500/1500 [==============================] - 7s 5ms/step - loss: 0.3232 - accuracy: 0.8860 - val_loss: 0.4828 - val_accuracy: 0.8550\n",
            "Epoch 36/50\n",
            "1500/1500 [==============================] - 7s 5ms/step - loss: 0.3165 - accuracy: 0.8871 - val_loss: 0.5855 - val_accuracy: 0.8456\n",
            "Epoch 37/50\n",
            "1500/1500 [==============================] - 7s 5ms/step - loss: 0.3201 - accuracy: 0.8862 - val_loss: 0.5855 - val_accuracy: 0.8555\n",
            "Epoch 38/50\n",
            "1500/1500 [==============================] - 7s 5ms/step - loss: 0.3195 - accuracy: 0.8863 - val_loss: 0.5082 - val_accuracy: 0.8616\n",
            "Epoch 39/50\n",
            "1500/1500 [==============================] - 7s 4ms/step - loss: 0.3170 - accuracy: 0.8849 - val_loss: 0.5191 - val_accuracy: 0.8597\n",
            "Epoch 40/50\n",
            "1500/1500 [==============================] - 7s 5ms/step - loss: 0.3149 - accuracy: 0.8872 - val_loss: 0.5511 - val_accuracy: 0.8451\n",
            "Epoch 41/50\n",
            "1500/1500 [==============================] - 7s 5ms/step - loss: 0.3189 - accuracy: 0.8873 - val_loss: 0.5444 - val_accuracy: 0.8480\n",
            "Epoch 42/50\n",
            "1500/1500 [==============================] - 7s 4ms/step - loss: 0.3132 - accuracy: 0.8874 - val_loss: 0.5425 - val_accuracy: 0.8514\n",
            "Epoch 43/50\n",
            "1500/1500 [==============================] - 7s 5ms/step - loss: 0.3102 - accuracy: 0.8903 - val_loss: 0.5393 - val_accuracy: 0.8501\n",
            "Epoch 44/50\n",
            "1500/1500 [==============================] - 7s 5ms/step - loss: 0.3204 - accuracy: 0.8882 - val_loss: 0.4906 - val_accuracy: 0.8526\n",
            "Epoch 45/50\n",
            "1500/1500 [==============================] - 7s 4ms/step - loss: 0.3079 - accuracy: 0.8898 - val_loss: 0.5425 - val_accuracy: 0.8568\n",
            "Epoch 46/50\n",
            "1500/1500 [==============================] - 7s 4ms/step - loss: 0.3175 - accuracy: 0.8867 - val_loss: 0.5247 - val_accuracy: 0.8485\n",
            "Epoch 47/50\n",
            "1500/1500 [==============================] - 7s 5ms/step - loss: 0.3116 - accuracy: 0.8898 - val_loss: 0.5064 - val_accuracy: 0.8568\n",
            "Epoch 48/50\n",
            "1500/1500 [==============================] - 7s 5ms/step - loss: 0.3198 - accuracy: 0.8887 - val_loss: 0.5033 - val_accuracy: 0.8586\n",
            "Epoch 49/50\n",
            "1500/1500 [==============================] - 7s 4ms/step - loss: 0.3100 - accuracy: 0.8898 - val_loss: 0.5367 - val_accuracy: 0.8503\n",
            "Epoch 50/50\n",
            "1500/1500 [==============================] - 7s 5ms/step - loss: 0.3050 - accuracy: 0.8904 - val_loss: 0.5954 - val_accuracy: 0.8584\n"
          ]
        }
      ]
    },
    {
      "cell_type": "markdown",
      "source": [
        "# Keras Tuner"
      ],
      "metadata": {
        "id": "-V06erkwaQdd"
      }
    },
    {
      "cell_type": "code",
      "source": [
        "def model_builder(hp):\n",
        "  dense_neurons = hp.Int(name='dense_neurons', min_value=16, max_value=512, step=16)\n",
        "  learning_rate = hp.Choice('learning_rate', values=[0.0001, 0.0005, 0.001, 0.005, 0.01])\n",
        "  model = keras.Sequential()\n",
        "  model.add(keras.layers.Flatten(input_shape=(28, 28)))\n",
        "  model.add(keras.layers.Dense(units=dense_neurons, activation='relu'))\n",
        "  model.add(keras.layers.Dense(10))\n",
        "  model.compile(optimizer=keras.optimizers.Adam(learning_rate=learning_rate),\n",
        "                loss=keras.losses.SparseCategoricalCrossentropy(from_logits=True),\n",
        "                metrics=['accuracy'])\n",
        "\n",
        "  return model"
      ],
      "metadata": {
        "id": "EBLh4qJYRuF3"
      },
      "execution_count": null,
      "outputs": []
    },
    {
      "cell_type": "code",
      "source": [
        "tuner = kt.Hyperband(\n",
        "    hypermodel=model_builder,\n",
        "    max_epochs=10,\n",
        "    hyperband_iterations=1,\n",
        "    factor=3,\n",
        "    directory='./Q4',\n",
        "    objective='val_accuracy',\n",
        ")\n",
        "tuner.search_space_summary()"
      ],
      "metadata": {
        "id": "ziTydeV6RxWJ",
        "colab": {
          "base_uri": "https://localhost:8080/"
        },
        "outputId": "7ffd2505-09a4-4504-ce09-587a15883127"
      },
      "execution_count": null,
      "outputs": [
        {
          "output_type": "stream",
          "name": "stdout",
          "text": [
            "Search space summary\n",
            "Default search space size: 2\n",
            "dense_neurons (Int)\n",
            "{'default': None, 'conditions': [], 'min_value': 16, 'max_value': 512, 'step': 16, 'sampling': None}\n",
            "learning_rate (Choice)\n",
            "{'default': 0.0001, 'conditions': [], 'values': [0.0001, 0.0005, 0.001, 0.005, 0.01], 'ordered': True}\n"
          ]
        }
      ]
    },
    {
      "cell_type": "code",
      "source": [
        "tuner.search(img_train, label_train, batch_size=128, validation_split=0.2)"
      ],
      "metadata": {
        "id": "tEpb2owlR6kr",
        "colab": {
          "base_uri": "https://localhost:8080/"
        },
        "outputId": "7082201b-da1f-49ff-c15f-99f75784a463"
      },
      "execution_count": null,
      "outputs": [
        {
          "output_type": "stream",
          "name": "stdout",
          "text": [
            "Trial 30 Complete [00h 00m 15s]\n",
            "val_accuracy: 0.8915833234786987\n",
            "\n",
            "Best val_accuracy So Far: 0.8915833234786987\n",
            "Total elapsed time: 00h 04m 05s\n",
            "INFO:tensorflow:Oracle triggered exit\n"
          ]
        }
      ]
    },
    {
      "cell_type": "code",
      "source": [
        "tuner.results_summary()"
      ],
      "metadata": {
        "id": "9KGDpAc5SG8_",
        "colab": {
          "base_uri": "https://localhost:8080/"
        },
        "outputId": "e76c7a07-cce2-4f31-fa29-eb66465f9cc9"
      },
      "execution_count": null,
      "outputs": [
        {
          "output_type": "stream",
          "name": "stdout",
          "text": [
            "Results summary\n",
            "Results in ./Q4/untitled_project\n",
            "Showing 10 best trials\n",
            "Objective(name='val_accuracy', direction='max')\n",
            "Trial summary\n",
            "Hyperparameters:\n",
            "dense_neurons: 352\n",
            "learning_rate: 0.001\n",
            "tuner/epochs: 10\n",
            "tuner/initial_epoch: 0\n",
            "tuner/bracket: 0\n",
            "tuner/round: 0\n",
            "Score: 0.8915833234786987\n",
            "Trial summary\n",
            "Hyperparameters:\n",
            "dense_neurons: 432\n",
            "learning_rate: 0.001\n",
            "tuner/epochs: 10\n",
            "tuner/initial_epoch: 4\n",
            "tuner/bracket: 2\n",
            "tuner/round: 2\n",
            "tuner/trial_id: eaf52b95623c107b745c4e3bc4c95a98\n",
            "Score: 0.8865000009536743\n",
            "Trial summary\n",
            "Hyperparameters:\n",
            "dense_neurons: 224\n",
            "learning_rate: 0.0005\n",
            "tuner/epochs: 10\n",
            "tuner/initial_epoch: 0\n",
            "tuner/bracket: 0\n",
            "tuner/round: 0\n",
            "Score: 0.8823333382606506\n",
            "Trial summary\n",
            "Hyperparameters:\n",
            "dense_neurons: 240\n",
            "learning_rate: 0.005\n",
            "tuner/epochs: 10\n",
            "tuner/initial_epoch: 0\n",
            "tuner/bracket: 0\n",
            "tuner/round: 0\n",
            "Score: 0.8815833330154419\n",
            "Trial summary\n",
            "Hyperparameters:\n",
            "dense_neurons: 272\n",
            "learning_rate: 0.001\n",
            "tuner/epochs: 10\n",
            "tuner/initial_epoch: 4\n",
            "tuner/bracket: 1\n",
            "tuner/round: 1\n",
            "tuner/trial_id: 25aa254913b53cfe232f4bda1e6173e9\n",
            "Score: 0.8808333277702332\n",
            "Trial summary\n",
            "Hyperparameters:\n",
            "dense_neurons: 448\n",
            "learning_rate: 0.0005\n",
            "tuner/epochs: 10\n",
            "tuner/initial_epoch: 4\n",
            "tuner/bracket: 1\n",
            "tuner/round: 1\n",
            "tuner/trial_id: 3a3e5d56c8eeebbc111a6fe6f51bbb8c\n",
            "Score: 0.8794166445732117\n",
            "Trial summary\n",
            "Hyperparameters:\n",
            "dense_neurons: 496\n",
            "learning_rate: 0.01\n",
            "tuner/epochs: 10\n",
            "tuner/initial_epoch: 4\n",
            "tuner/bracket: 2\n",
            "tuner/round: 2\n",
            "tuner/trial_id: 5d62d2b7e0214ae98836a25677a37798\n",
            "Score: 0.8734999895095825\n",
            "Trial summary\n",
            "Hyperparameters:\n",
            "dense_neurons: 464\n",
            "learning_rate: 0.0001\n",
            "tuner/epochs: 10\n",
            "tuner/initial_epoch: 0\n",
            "tuner/bracket: 0\n",
            "tuner/round: 0\n",
            "Score: 0.8700000047683716\n",
            "Trial summary\n",
            "Hyperparameters:\n",
            "dense_neurons: 304\n",
            "learning_rate: 0.01\n",
            "tuner/epochs: 2\n",
            "tuner/initial_epoch: 0\n",
            "tuner/bracket: 2\n",
            "tuner/round: 0\n",
            "Score: 0.8697500228881836\n",
            "Trial summary\n",
            "Hyperparameters:\n",
            "dense_neurons: 448\n",
            "learning_rate: 0.0005\n",
            "tuner/epochs: 4\n",
            "tuner/initial_epoch: 0\n",
            "tuner/bracket: 1\n",
            "tuner/round: 0\n",
            "Score: 0.8689166903495789\n"
          ]
        }
      ]
    },
    {
      "cell_type": "markdown",
      "source": [
        "# train best model"
      ],
      "metadata": {
        "id": "rG9SjKrvGVGc"
      }
    },
    {
      "cell_type": "code",
      "source": [
        "best_hp = tuner.get_best_hyperparameters(1)[0]\n",
        "best_model = model_builder(best_hp)\n",
        "best_model.summary()"
      ],
      "metadata": {
        "colab": {
          "base_uri": "https://localhost:8080/"
        },
        "id": "R8RY5NFzGZRk",
        "outputId": "64b04f8f-5349-402a-9b01-de9e557ee48c"
      },
      "execution_count": null,
      "outputs": [
        {
          "output_type": "stream",
          "name": "stdout",
          "text": [
            "Model: \"sequential_1\"\n",
            "_________________________________________________________________\n",
            " Layer (type)                Output Shape              Param #   \n",
            "=================================================================\n",
            " flatten_1 (Flatten)         (None, 784)               0         \n",
            "                                                                 \n",
            " dense_2 (Dense)             (None, 352)               276320    \n",
            "                                                                 \n",
            " dense_3 (Dense)             (None, 10)                3530      \n",
            "                                                                 \n",
            "=================================================================\n",
            "Total params: 279,850\n",
            "Trainable params: 279,850\n",
            "Non-trainable params: 0\n",
            "_________________________________________________________________\n"
          ]
        }
      ]
    },
    {
      "cell_type": "code",
      "source": [
        "best_model.fit(img_train, label_train, epochs=50, validation_split=0.2, batch_size=128)"
      ],
      "metadata": {
        "colab": {
          "base_uri": "https://localhost:8080/"
        },
        "id": "zkSjtiJdIhM_",
        "outputId": "a0a313e5-e47b-41e1-adc9-43ec3569d94a"
      },
      "execution_count": null,
      "outputs": [
        {
          "output_type": "stream",
          "name": "stdout",
          "text": [
            "Epoch 1/50\n",
            "375/375 [==============================] - 2s 4ms/step - loss: 0.5422 - accuracy: 0.8115 - val_loss: 0.4220 - val_accuracy: 0.8550\n",
            "Epoch 2/50\n",
            "375/375 [==============================] - 1s 4ms/step - loss: 0.3970 - accuracy: 0.8593 - val_loss: 0.3888 - val_accuracy: 0.8647\n",
            "Epoch 3/50\n",
            "375/375 [==============================] - 1s 4ms/step - loss: 0.3540 - accuracy: 0.8732 - val_loss: 0.3561 - val_accuracy: 0.8720\n",
            "Epoch 4/50\n",
            "375/375 [==============================] - 1s 4ms/step - loss: 0.3253 - accuracy: 0.8817 - val_loss: 0.3688 - val_accuracy: 0.8672\n",
            "Epoch 5/50\n",
            "375/375 [==============================] - 1s 4ms/step - loss: 0.3028 - accuracy: 0.8900 - val_loss: 0.3279 - val_accuracy: 0.8843\n",
            "Epoch 6/50\n",
            "375/375 [==============================] - 1s 4ms/step - loss: 0.2859 - accuracy: 0.8969 - val_loss: 0.3209 - val_accuracy: 0.8819\n",
            "Epoch 7/50\n",
            "375/375 [==============================] - 1s 4ms/step - loss: 0.2700 - accuracy: 0.9004 - val_loss: 0.3144 - val_accuracy: 0.8864\n",
            "Epoch 8/50\n",
            "375/375 [==============================] - 1s 4ms/step - loss: 0.2601 - accuracy: 0.9048 - val_loss: 0.3200 - val_accuracy: 0.8860\n",
            "Epoch 9/50\n",
            "375/375 [==============================] - 1s 4ms/step - loss: 0.2513 - accuracy: 0.9079 - val_loss: 0.3078 - val_accuracy: 0.8884\n",
            "Epoch 10/50\n",
            "375/375 [==============================] - 1s 4ms/step - loss: 0.2391 - accuracy: 0.9115 - val_loss: 0.3361 - val_accuracy: 0.8816\n",
            "Epoch 11/50\n",
            "375/375 [==============================] - 1s 4ms/step - loss: 0.2265 - accuracy: 0.9171 - val_loss: 0.3352 - val_accuracy: 0.8842\n",
            "Epoch 12/50\n",
            "375/375 [==============================] - 1s 4ms/step - loss: 0.2198 - accuracy: 0.9193 - val_loss: 0.3063 - val_accuracy: 0.8919\n",
            "Epoch 13/50\n",
            "375/375 [==============================] - 1s 4ms/step - loss: 0.2121 - accuracy: 0.9213 - val_loss: 0.3080 - val_accuracy: 0.8911\n",
            "Epoch 14/50\n",
            "375/375 [==============================] - 1s 4ms/step - loss: 0.2031 - accuracy: 0.9256 - val_loss: 0.3061 - val_accuracy: 0.8909\n",
            "Epoch 15/50\n",
            "375/375 [==============================] - 1s 4ms/step - loss: 0.1980 - accuracy: 0.9265 - val_loss: 0.3154 - val_accuracy: 0.8906\n",
            "Epoch 16/50\n",
            "375/375 [==============================] - 1s 4ms/step - loss: 0.1903 - accuracy: 0.9295 - val_loss: 0.3109 - val_accuracy: 0.8926\n",
            "Epoch 17/50\n",
            "375/375 [==============================] - 1s 4ms/step - loss: 0.1858 - accuracy: 0.9314 - val_loss: 0.3122 - val_accuracy: 0.8947\n",
            "Epoch 18/50\n",
            "375/375 [==============================] - 1s 4ms/step - loss: 0.1781 - accuracy: 0.9346 - val_loss: 0.3198 - val_accuracy: 0.8933\n",
            "Epoch 19/50\n",
            "375/375 [==============================] - 1s 4ms/step - loss: 0.1734 - accuracy: 0.9356 - val_loss: 0.3003 - val_accuracy: 0.8965\n",
            "Epoch 20/50\n",
            "375/375 [==============================] - 1s 4ms/step - loss: 0.1638 - accuracy: 0.9400 - val_loss: 0.3130 - val_accuracy: 0.8955\n",
            "Epoch 21/50\n",
            "375/375 [==============================] - 1s 4ms/step - loss: 0.1645 - accuracy: 0.9391 - val_loss: 0.3174 - val_accuracy: 0.8939\n",
            "Epoch 22/50\n",
            "375/375 [==============================] - 1s 4ms/step - loss: 0.1545 - accuracy: 0.9430 - val_loss: 0.3177 - val_accuracy: 0.8950\n",
            "Epoch 23/50\n",
            "375/375 [==============================] - 1s 4ms/step - loss: 0.1522 - accuracy: 0.9433 - val_loss: 0.3404 - val_accuracy: 0.8887\n",
            "Epoch 24/50\n",
            "375/375 [==============================] - 1s 4ms/step - loss: 0.1461 - accuracy: 0.9458 - val_loss: 0.3102 - val_accuracy: 0.8978\n",
            "Epoch 25/50\n",
            "375/375 [==============================] - 1s 4ms/step - loss: 0.1413 - accuracy: 0.9495 - val_loss: 0.3245 - val_accuracy: 0.8953\n",
            "Epoch 26/50\n",
            "375/375 [==============================] - 1s 4ms/step - loss: 0.1382 - accuracy: 0.9502 - val_loss: 0.3303 - val_accuracy: 0.8950\n",
            "Epoch 27/50\n",
            "375/375 [==============================] - 1s 4ms/step - loss: 0.1344 - accuracy: 0.9507 - val_loss: 0.3250 - val_accuracy: 0.8965\n",
            "Epoch 28/50\n",
            "375/375 [==============================] - 1s 4ms/step - loss: 0.1281 - accuracy: 0.9539 - val_loss: 0.3332 - val_accuracy: 0.8974\n",
            "Epoch 29/50\n",
            "375/375 [==============================] - 1s 4ms/step - loss: 0.1263 - accuracy: 0.9541 - val_loss: 0.3460 - val_accuracy: 0.8922\n",
            "Epoch 30/50\n",
            "375/375 [==============================] - 1s 4ms/step - loss: 0.1224 - accuracy: 0.9563 - val_loss: 0.3478 - val_accuracy: 0.8939\n",
            "Epoch 31/50\n",
            "375/375 [==============================] - 1s 4ms/step - loss: 0.1171 - accuracy: 0.9576 - val_loss: 0.3857 - val_accuracy: 0.8848\n",
            "Epoch 32/50\n",
            "375/375 [==============================] - 1s 4ms/step - loss: 0.1148 - accuracy: 0.9579 - val_loss: 0.3359 - val_accuracy: 0.8976\n",
            "Epoch 33/50\n",
            "375/375 [==============================] - 1s 4ms/step - loss: 0.1070 - accuracy: 0.9615 - val_loss: 0.3783 - val_accuracy: 0.8903\n",
            "Epoch 34/50\n",
            "375/375 [==============================] - 1s 4ms/step - loss: 0.1051 - accuracy: 0.9625 - val_loss: 0.3650 - val_accuracy: 0.8951\n",
            "Epoch 35/50\n",
            "375/375 [==============================] - 1s 4ms/step - loss: 0.1026 - accuracy: 0.9632 - val_loss: 0.3687 - val_accuracy: 0.8945\n",
            "Epoch 36/50\n",
            "375/375 [==============================] - 1s 4ms/step - loss: 0.1031 - accuracy: 0.9618 - val_loss: 0.3880 - val_accuracy: 0.8905\n",
            "Epoch 37/50\n",
            "375/375 [==============================] - 1s 4ms/step - loss: 0.0991 - accuracy: 0.9638 - val_loss: 0.3786 - val_accuracy: 0.8929\n",
            "Epoch 38/50\n",
            "375/375 [==============================] - 1s 4ms/step - loss: 0.0975 - accuracy: 0.9645 - val_loss: 0.3812 - val_accuracy: 0.8970\n",
            "Epoch 39/50\n",
            "375/375 [==============================] - 1s 4ms/step - loss: 0.0899 - accuracy: 0.9677 - val_loss: 0.3725 - val_accuracy: 0.8959\n",
            "Epoch 40/50\n",
            "375/375 [==============================] - 1s 4ms/step - loss: 0.0888 - accuracy: 0.9676 - val_loss: 0.3858 - val_accuracy: 0.8963\n",
            "Epoch 41/50\n",
            "375/375 [==============================] - 1s 4ms/step - loss: 0.0903 - accuracy: 0.9672 - val_loss: 0.3964 - val_accuracy: 0.8941\n",
            "Epoch 42/50\n",
            "375/375 [==============================] - 1s 4ms/step - loss: 0.0853 - accuracy: 0.9696 - val_loss: 0.3910 - val_accuracy: 0.8969\n",
            "Epoch 43/50\n",
            "375/375 [==============================] - 1s 4ms/step - loss: 0.0838 - accuracy: 0.9702 - val_loss: 0.4197 - val_accuracy: 0.8886\n",
            "Epoch 44/50\n",
            "375/375 [==============================] - 1s 4ms/step - loss: 0.0802 - accuracy: 0.9710 - val_loss: 0.4026 - val_accuracy: 0.8935\n",
            "Epoch 45/50\n",
            "375/375 [==============================] - 1s 4ms/step - loss: 0.0775 - accuracy: 0.9718 - val_loss: 0.4194 - val_accuracy: 0.8879\n",
            "Epoch 46/50\n",
            "375/375 [==============================] - 1s 4ms/step - loss: 0.0797 - accuracy: 0.9711 - val_loss: 0.4076 - val_accuracy: 0.8951\n",
            "Epoch 47/50\n",
            "375/375 [==============================] - 1s 4ms/step - loss: 0.0755 - accuracy: 0.9729 - val_loss: 0.4077 - val_accuracy: 0.8946\n",
            "Epoch 48/50\n",
            "375/375 [==============================] - 1s 4ms/step - loss: 0.0738 - accuracy: 0.9725 - val_loss: 0.4193 - val_accuracy: 0.8956\n",
            "Epoch 49/50\n",
            "375/375 [==============================] - 1s 4ms/step - loss: 0.0718 - accuracy: 0.9743 - val_loss: 0.4131 - val_accuracy: 0.8955\n",
            "Epoch 50/50\n",
            "375/375 [==============================] - 1s 4ms/step - loss: 0.0681 - accuracy: 0.9754 - val_loss: 0.4741 - val_accuracy: 0.8895\n"
          ]
        },
        {
          "output_type": "execute_result",
          "data": {
            "text/plain": [
              "<keras.callbacks.History at 0x7fd077c5af90>"
            ]
          },
          "metadata": {},
          "execution_count": 11
        }
      ]
    }
  ]
}
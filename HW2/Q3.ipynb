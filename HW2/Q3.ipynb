{
  "nbformat": 4,
  "nbformat_minor": 0,
  "metadata": {
    "colab": {
      "name": "DL_HW2_Q3.ipynb",
      "provenance": []
    },
    "kernelspec": {
      "name": "python3",
      "display_name": "Python 3"
    },
    "language_info": {
      "name": "python"
    }
  },
  "cells": [
    {
      "cell_type": "markdown",
      "metadata": {
        "id": "oNi5WwgkswaE"
      },
      "source": [
        "import requirements."
      ]
    },
    {
      "cell_type": "code",
      "metadata": {
        "id": "D8dHRm60sDaP"
      },
      "source": [
        "import numpy as np\n",
        "from matplotlib.pyplot import plot\n",
        "from sklearn.datasets import load_iris\n",
        "from sklearn.linear_model import LogisticRegression\n",
        "from sklearn.metrics import plot_confusion_matrix"
      ],
      "execution_count": 101,
      "outputs": []
    },
    {
      "cell_type": "markdown",
      "metadata": {
        "id": "ER3ru442yggG"
      },
      "source": [
        "first we import dataset and shuffle it randomly so we can choose test and train data better.\n",
        "\n",
        "and we can slice the third and fourth column of features because we won't need them."
      ]
    },
    {
      "cell_type": "code",
      "metadata": {
        "id": "k9QpGcjlya8x"
      },
      "source": [
        "dataset, labels = load_iris(return_X_y=True)\n",
        "indexes = np.arange(len(dataset))\n",
        "np.random.shuffle(indexes)\n",
        "dataset = dataset[indexes]\n",
        "labels = labels[indexes]\n",
        "dataset = dataset[:,0:2]"
      ],
      "execution_count": 102,
      "outputs": []
    },
    {
      "cell_type": "markdown",
      "metadata": {
        "id": "jq0awUq_wwov"
      },
      "source": [
        "now we pick some of datas for test and the other ones for training."
      ]
    },
    {
      "cell_type": "code",
      "metadata": {
        "id": "ApVQhAgBsqPQ"
      },
      "source": [
        "train_percent = 70                   # you can change this\n",
        "test_percent = 100 - train_percent\n",
        "X_train = dataset[:math.floor(train_percent*len(dataset)/100)]\n",
        "Y_train = labels[:math.floor(train_percent*len(labels)/100)]\n",
        "X_test = dataset[:math.floor(test_percent*len(dataset)/100)]\n",
        "Y_test = labels[:math.floor(test_percent*len(labels)/100)]"
      ],
      "execution_count": 103,
      "outputs": []
    },
    {
      "cell_type": "markdown",
      "metadata": {
        "id": "DqSDlz_AAfeF"
      },
      "source": [
        "after pre processing data, we can visualize data. class 1 is blue, class 2 is red and class 3 data are green.\n",
        "\n",
        "train data:"
      ]
    },
    {
      "cell_type": "code",
      "metadata": {
        "colab": {
          "base_uri": "https://localhost:8080/",
          "height": 265
        },
        "id": "uEWnw5zk-hz5",
        "outputId": "023398d8-a0a4-447f-b81e-505c0cdf3339"
      },
      "source": [
        "for i in range(len(X_train)):\n",
        "  if(Y_train[i] == 0):\n",
        "    plot(X_train[i, 0], X_train[i, 1],'bo')\n",
        "  elif(Y_train[i] == 1):\n",
        "    plot(X_train[i, 0], X_train[i, 1],'ro')\n",
        "  elif(Y_train[i] == 2):\n",
        "    plot(X_train[i, 0], X_train[i, 1], 'go')"
      ],
      "execution_count": 104,
      "outputs": [
        {
          "output_type": "display_data",
          "data": {
            "image/png": "[encoded data removed]",
            "text/plain": [
              "<Figure size 432x288 with 1 Axes>"
            ]
          },
          "metadata": {
            "needs_background": "light"
          }
        }
      ]
    },
    {
      "cell_type": "markdown",
      "metadata": {
        "id": "dgwa_TyRBIVM"
      },
      "source": [
        "test data:"
      ]
    },
    {
      "cell_type": "code",
      "metadata": {
        "colab": {
          "base_uri": "https://localhost:8080/",
          "height": 265
        },
        "id": "VML2kTvIBMGl",
        "outputId": "3be4167a-0bdf-45a3-d719-e82d30990f48"
      },
      "source": [
        "for i in range(len(X_test)):\n",
        "  if(Y_test[i] == 0):\n",
        "    plot(X_test[i, 0], X_test[i, 1],'bo')\n",
        "  elif(Y_test[i] == 1):\n",
        "    plot(X_test[i, 0], X_test[i, 1],'ro')\n",
        "  elif(Y_test[i] == 2):\n",
        "    plot(X_test[i, 0], X_test[i, 1], 'go')"
      ],
      "execution_count": 105,
      "outputs": [
        {
          "output_type": "display_data",
          "data": {
            "image/png": "[encoded data removed]",
            "text/plain": [
              "<Figure size 432x288 with 1 Axes>"
            ]
          },
          "metadata": {
            "needs_background": "light"
          }
        }
      ]
    },
    {
      "cell_type": "markdown",
      "metadata": {
        "id": "rfk78h2G65Ia"
      },
      "source": [
        "now we can train our logistic regrision model and test it."
      ]
    },
    {
      "cell_type": "code",
      "metadata": {
        "colab": {
          "base_uri": "https://localhost:8080/"
        },
        "id": "gf5Z8aUovpLE",
        "outputId": "dcdeaa8d-25b3-4ff4-ac38-e450b50de8ea"
      },
      "source": [
        "classifier = LogisticRegression(max_iter=300, multi_class='multinomial').fit(X_train, Y_train)\n",
        "print(\"train accuracy:\", classifier.score(X_train, Y_train))\n",
        "print(\"test accuracy:\", classifier.score(X_test, Y_test))"
      ],
      "execution_count": 106,
      "outputs": [
        {
          "output_type": "stream",
          "name": "stdout",
          "text": [
            "train accuracy: 0.8380952380952381\n",
            "test accuracy: 0.8888888888888888\n"
          ]
        }
      ]
    },
    {
      "cell_type": "markdown",
      "metadata": {
        "id": "a80meB2bCYOt"
      },
      "source": [
        "the confusion matrix can show us bugs or problems of our model."
      ]
    },
    {
      "cell_type": "code",
      "metadata": {
        "colab": {
          "base_uri": "https://localhost:8080/",
          "height": 300
        },
        "id": "N43QLVb3_GnL",
        "outputId": "800e46fb-bbf0-4567-aa69-df307d2c6c4f"
      },
      "source": [
        "plot_confusion_matrix(classifier, X_test, Y_test)"
      ],
      "execution_count": 107,
      "outputs": [
        {
          "output_type": "execute_result",
          "data": {
            "text/plain": [
              "<sklearn.metrics._plot.confusion_matrix.ConfusionMatrixDisplay at 0x7fb5d0251b50>"
            ]
          },
          "metadata": {},
          "execution_count": 107
        },
        {
          "output_type": "display_data",
          "data": {
            "image/png": "[encoded data removed]",
            "text/plain": [
              "<Figure size 432x288 with 2 Axes>"
            ]
          },
          "metadata": {
            "needs_background": "light"
          }
        }
      ]
    }
  ]
}
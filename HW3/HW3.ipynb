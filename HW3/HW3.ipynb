{
  "nbformat": 4,
  "nbformat_minor": 0,
  "metadata": {
    "colab": {
      "name": "DL_HW3.ipynb",
      "provenance": [],
      "collapsed_sections": [],
      "toc_visible": true
    },
    "kernelspec": {
      "name": "python3",
      "display_name": "Python 3"
    },
    "language_info": {
      "name": "python"
    }
  },
  "cells": [
    {
      "cell_type": "markdown",
      "metadata": {
        "id": "MD4kbrTzGz4q"
      },
      "source": [
        "first we import requirements."
      ]
    },
    {
      "cell_type": "code",
      "metadata": {
        "id": "ZBwVlalVF8C9"
      },
      "source": [
        "import numpy as np\n",
        "import matplotlib.pyplot as plt\n",
        "import tensorflow as tf\n",
        "\n",
        "np.random.seed(1)\n",
        "tf.random.set_seed(1)"
      ],
      "execution_count": null,
      "outputs": []
    },
    {
      "cell_type": "markdown",
      "metadata": {
        "id": "KWHqYc1kF2uB"
      },
      "source": [
        "# Question 2\n"
      ]
    },
    {
      "cell_type": "markdown",
      "metadata": {
        "id": "R0aIxIxYJGpe"
      },
      "source": [
        "initialize array d."
      ]
    },
    {
      "cell_type": "code",
      "metadata": {
        "id": "XDK5K1pRJJ0M"
      },
      "source": [
        "d = np.ones(200)\n",
        "d[100:200] = -1"
      ],
      "execution_count": null,
      "outputs": []
    },
    {
      "cell_type": "markdown",
      "metadata": {
        "id": "GgaUFd-ZJ65B"
      },
      "source": [
        "**a)** calculate cumulative average:"
      ]
    },
    {
      "cell_type": "code",
      "metadata": {
        "id": "KaQ-UPcpG8Ds"
      },
      "source": [
        "times = np.arange(1,201)       #we will need this array in our calculations\n",
        "cumulative_average = np.cumsum(d)/times\n",
        "plt.subplot(2,1,1)\n",
        "plt.plot(d)\n",
        "plt.title('d')\n",
        "plt.subplot(2,1,2)\n",
        "plt.plot(cumulative_average)\n",
        "plt.show()"
      ],
      "execution_count": null,
      "outputs": []
    },
    {
      "cell_type": "markdown",
      "metadata": {
        "id": "8XU0FQC3KiJv"
      },
      "source": [
        "**b)** calculate m1 average:"
      ]
    },
    {
      "cell_type": "code",
      "metadata": {
        "id": "9DuWKvJ9Je5c"
      },
      "source": [
        "beta = 0.9\n",
        "m1 = np.zeros(200)\n",
        "\n",
        "for i in range(0,200):\n",
        "  m1[i] = beta*m1[i-1] + (1-beta)*d[i]\n",
        "\n",
        "print(\"m1 with beta = 0.9:\")\n",
        "plt.plot(m1)"
      ],
      "execution_count": null,
      "outputs": []
    },
    {
      "cell_type": "markdown",
      "metadata": {
        "id": "-gtyu_7FMdOL"
      },
      "source": [
        "**c)** calculate m2 average:"
      ]
    },
    {
      "cell_type": "code",
      "metadata": {
        "id": "KaF2r1K4MhgT"
      },
      "source": [
        "m2 = m1 / (1 - np.power(beta, times))\n",
        "print(\"m2 with beta = 0.9:\")\n",
        "plt.plot(m2)"
      ],
      "execution_count": null,
      "outputs": []
    },
    {
      "cell_type": "markdown",
      "metadata": {
        "id": "zU1zVInmUlSg"
      },
      "source": [
        "**d)** calculate m1 and m2 again, with beta = 0.999:"
      ]
    },
    {
      "cell_type": "code",
      "metadata": {
        "id": "emzHYzSWUtVG"
      },
      "source": [
        "beta = 0.999\n",
        "\n",
        "m1_prime = np.zeros(200)\n",
        "for i in range(0,200):\n",
        "  m1_prime[i] = beta*m1_prime[i-1] + (1-beta)*d[i]\n",
        "print(\"m1 with beta = 0.999:\")\n",
        "plt.plot(m1_prime)"
      ],
      "execution_count": null,
      "outputs": []
    },
    {
      "cell_type": "code",
      "metadata": {
        "id": "O42-WfAoWsDI"
      },
      "source": [
        "m2_prime = m1_prime / (1 - np.power(beta, times))\n",
        "print(\"m2 with beta = 0.999:\")\n",
        "plt.plot(m2_prime)"
      ],
      "execution_count": null,
      "outputs": []
    },
    {
      "cell_type": "markdown",
      "metadata": {
        "id": "uxSY6oSvF89-"
      },
      "source": [
        "# Question 3"
      ]
    },
    {
      "cell_type": "markdown",
      "metadata": {
        "id": "gVAv523O_mgZ"
      },
      "source": [
        "load the dataset:"
      ]
    },
    {
      "cell_type": "code",
      "metadata": {
        "id": "ZC66TFeeGAb5"
      },
      "source": [
        "(training_images, training_labels), (test_images, test_labels) = tf.keras.datasets.fashion_mnist.load_data()"
      ],
      "execution_count": null,
      "outputs": []
    },
    {
      "cell_type": "markdown",
      "metadata": {
        "id": "WxR5baPN_pzo"
      },
      "source": [
        "normalize data:"
      ]
    },
    {
      "cell_type": "code",
      "metadata": {
        "id": "Apo5gVtz-duq"
      },
      "source": [
        "training_images = training_images/255.0\n",
        "test_images = test_images/255.0 "
      ],
      "execution_count": null,
      "outputs": []
    },
    {
      "cell_type": "markdown",
      "metadata": {
        "id": "SOnImosuJPyC"
      },
      "source": [
        "define our model then compile, fit and evaluate it. as you can see in my report, we change the hyperparameters in each part of question."
      ]
    },
    {
      "cell_type": "code",
      "metadata": {
        "id": "tCM7A5wJ_awz"
      },
      "source": [
        "model = tf.keras.models.Sequential([\n",
        "                                    tf.keras.layers.Flatten(input_shape = (28, 28)),\n",
        "                                    tf.keras.layers.Dense(128, activation='relu'),\n",
        "                                    tf.keras.layers.Dense(10, activation='softmax')\n",
        "])"
      ],
      "execution_count": null,
      "outputs": []
    },
    {
      "cell_type": "code",
      "metadata": {
        "id": "1Z7HeatmAxEa"
      },
      "source": [
        "model.compile(\n",
        "    loss = 'sparse_categorical_crossentropy',\n",
        "    optimizer = tf.keras.optimizers.Adam(learning_rate=0.001),\n",
        "    metrics = ['accuracy']\n",
        ")\n",
        "model.summary()"
      ],
      "execution_count": null,
      "outputs": []
    },
    {
      "cell_type": "code",
      "metadata": {
        "id": "RtikTceIB4Lw"
      },
      "source": [
        "history = model.fit(\n",
        "    training_images, \n",
        "    training_labels,\n",
        "    epochs = 50,\n",
        "    validation_split = 0.1\n",
        "    )"
      ],
      "execution_count": null,
      "outputs": []
    },
    {
      "cell_type": "code",
      "metadata": {
        "id": "S6qtWyHvvCVI"
      },
      "source": [
        "# summarize history for accuracy\n",
        "plt.plot(history.history['accuracy'])\n",
        "plt.plot(history.history['val_accuracy'])\n",
        "plt.title('model accuracy')\n",
        "plt.ylabel('accuracy')\n",
        "plt.xlabel('epoch')\n",
        "plt.legend(['train', 'test'], loc='upper left')\n",
        "plt.show()\n",
        "# summarize history for loss\n",
        "plt.plot(history.history['loss'])\n",
        "plt.plot(history.history['val_loss'])\n",
        "plt.title('model loss')\n",
        "plt.ylabel('loss')\n",
        "plt.xlabel('epoch')\n",
        "plt.legend(['train', 'test'], loc='upper left')\n",
        "plt.show()"
      ],
      "execution_count": null,
      "outputs": []
    },
    {
      "cell_type": "code",
      "metadata": {
        "id": "6z5r6FQ5DGOD"
      },
      "source": [
        "model.evaluate(test_images, test_labels)"
      ],
      "execution_count": null,
      "outputs": []
    }
  ]
}
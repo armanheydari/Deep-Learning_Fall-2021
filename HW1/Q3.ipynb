{
  "nbformat": 4,
  "nbformat_minor": 0,
  "metadata": {
    "colab": {
      "name": "DL_HW1_Q3.ipynb",
      "provenance": []
    },
    "kernelspec": {
      "name": "python3",
      "display_name": "Python 3"
    },
    "language_info": {
      "name": "python"
    }
  },
  "cells": [
    {
      "cell_type": "markdown",
      "metadata": {
        "id": "NKlCboNeW_BL"
      },
      "source": [
        "**Arman Heydari    97521252**\n",
        "\n",
        "import requirements and cifar dataset:"
      ]
    },
    {
      "cell_type": "code",
      "metadata": {
        "colab": {
          "base_uri": "https://localhost:8080/"
        },
        "id": "E47RGPvtQu-o",
        "outputId": "4c2b6370-bdef-4a31-8142-2c379df0f795"
      },
      "source": [
        "import numpy as np\n",
        "from keras.datasets import cifar10\n",
        "(x_train, y_train), (x_test, y_test) = cifar10.load_data()"
      ],
      "execution_count": null,
      "outputs": [
        {
          "output_type": "stream",
          "name": "stdout",
          "text": [
            "Downloading data from https://www.cs.toronto.edu/~kriz/cifar-10-python.tar.gz\n",
            "170500096/170498071 [==============================] - 2s 0us/step\n",
            "170508288/170498071 [==============================] - 2s 0us/step\n"
          ]
        }
      ]
    },
    {
      "cell_type": "markdown",
      "metadata": {
        "id": "zR9zWMkXXn2R"
      },
      "source": [
        "1. data type of sets:"
      ]
    },
    {
      "cell_type": "code",
      "metadata": {
        "colab": {
          "base_uri": "https://localhost:8080/"
        },
        "id": "Sn7SUc9GXrZC",
        "outputId": "c3dc343a-8397-4f8e-f722-e3b252733a9a"
      },
      "source": [
        "print(\"x_train data type: \", x_train.dtype)\n",
        "print(\"y_train data type: \", y_train.dtype)\n",
        "print(\"x_test data type: \", x_test.dtype)\n",
        "print(\"x_test data type: \", y_test.dtype)"
      ],
      "execution_count": null,
      "outputs": [
        {
          "output_type": "stream",
          "name": "stdout",
          "text": [
            "x_train data type:  uint8\n",
            "y_train data type:  uint8\n",
            "x_test data type:  uint8\n",
            "x_test data type:  uint8\n"
          ]
        }
      ]
    },
    {
      "cell_type": "markdown",
      "metadata": {
        "id": "51liJOz2XgoF"
      },
      "source": [
        "2. rank of sets:"
      ]
    },
    {
      "cell_type": "code",
      "metadata": {
        "colab": {
          "base_uri": "https://localhost:8080/"
        },
        "id": "r7v0iFIsXfyk",
        "outputId": "e277d5b1-0e3c-4cf4-be0f-4d302a2fa45d"
      },
      "source": [
        "print(\"x_train rank: \", x_train.ndim)\n",
        "print(\"y_train rank: \", y_train.ndim)\n",
        "print(\"x_test rank: \", x_test.ndim)\n",
        "print(\"x_test rank: \", y_test.ndim)"
      ],
      "execution_count": null,
      "outputs": [
        {
          "output_type": "stream",
          "name": "stdout",
          "text": [
            "x_train rank:  4\n",
            "y_train rank:  2\n",
            "x_test rank:  4\n",
            "x_test rank:  2\n"
          ]
        }
      ]
    },
    {
      "cell_type": "markdown",
      "metadata": {
        "id": "-eyJVtxvXXTY"
      },
      "source": [
        "3. shape of sets:"
      ]
    },
    {
      "cell_type": "code",
      "metadata": {
        "colab": {
          "base_uri": "https://localhost:8080/"
        },
        "id": "20_x8YPVREGP",
        "outputId": "8771b8c4-7d78-4047-e44c-e48a55e1c9ae"
      },
      "source": [
        "print(\"x_train shape:\", np.shape(x_train))\n",
        "print(\"y_train shape:\", np.shape(y_train))\n",
        "print(\"x_test shape:\", np.shape(x_test))\n",
        "print(\"y_test shape:\", np.shape(y_test))"
      ],
      "execution_count": null,
      "outputs": [
        {
          "output_type": "stream",
          "name": "stdout",
          "text": [
            "x_train shape: (50000, 32, 32, 3)\n",
            "y_train shape: (50000, 1)\n",
            "x_test shape: (10000, 32, 32, 3)\n",
            "y_test shape: (10000, 1)\n"
          ]
        }
      ]
    }
  ]
}